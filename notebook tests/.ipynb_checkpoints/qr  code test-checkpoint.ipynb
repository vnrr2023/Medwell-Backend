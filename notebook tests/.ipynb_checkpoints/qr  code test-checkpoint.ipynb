{
 "cells": [
  {
   "cell_type": "code",
   "execution_count": 2,
   "id": "2b6fd069-51b5-4932-b96e-88624cb7c747",
   "metadata": {},
   "outputs": [],
   "source": [
    "import qrcode\n",
    "img = qrcode.make('Some data here')\n",
    "type(img) \n",
    "img.save(\"qrcode1.png\")"
   ]
  },
  {
   "cell_type": "code",
   "execution_count": 22,
   "id": "e7fa4a50-17a4-4429-83eb-1ccea5bc5008",
   "metadata": {},
   "outputs": [
    {
     "name": "stdout",
     "output_type": "stream",
     "text": [
      "QR code generated!\n"
     ]
    }
   ],
   "source": [
    "import qrcode\n",
    "from PIL import Image\n",
    "\n",
    "Logo_link = 'medwell_qr_logo.png'\n",
    "logo = Image.open(Logo_link)\n",
    "logo = logo.convert(\"RGBA\")\n",
    "basewidth = 100\n",
    "wpercent = (basewidth / float(logo.size[0]))\n",
    "hsize = int((float(logo.size[1]) * float(wpercent)))\n",
    "logo = logo.resize((basewidth, hsize))\n",
    "QRcode = qrcode.QRCode(\n",
    "    error_correction=qrcode.constants.ERROR_CORRECT_H\n",
    ")\n",
    "url = 'https://www.geeksforgeeks.org/'\n",
    "QRcode.add_data(url)\n",
    "QRcode.make()\n",
    "QRcolor = 'Blue'\n",
    "QRimg = QRcode.make_image(fill_color=QRcolor, back_color=\"white\").convert('RGBA')\n",
    "pos = ((QRimg.size[0] - logo.size[0]) // 2,\n",
    "       (QRimg.size[1] - logo.size[1]) // 2)\n",
    "QRimg.paste(logo, pos, logo)\n",
    "QRimg.save('gfg_QR.png')\n",
    "\n",
    "print('QR code generated!')\n"
   ]
  },
  {
   "cell_type": "code",
   "execution_count": null,
   "id": "6e627063-a85a-48c6-840b-b1db49d7d1cf",
   "metadata": {},
   "outputs": [],
   "source": []
  }
 ],
 "metadata": {
  "kernelspec": {
   "display_name": "major",
   "language": "python",
   "name": "major"
  },
  "language_info": {
   "codemirror_mode": {
    "name": "ipython",
    "version": 3
   },
   "file_extension": ".py",
   "mimetype": "text/x-python",
   "name": "python",
   "nbconvert_exporter": "python",
   "pygments_lexer": "ipython3",
   "version": "3.11.5"
  }
 },
 "nbformat": 4,
 "nbformat_minor": 5
}
