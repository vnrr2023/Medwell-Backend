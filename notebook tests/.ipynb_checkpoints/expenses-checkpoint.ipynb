{
 "cells": [
  {
   "cell_type": "code",
   "execution_count": 1,
   "id": "7f586a24-311d-44d8-a96b-321ebb291bca",
   "metadata": {},
   "outputs": [],
   "source": [
    "from groq import Groq\n",
    "import os\n",
    "from dotenv import load_dotenv\n",
    "import requests\n",
    "\n",
    "load_dotenv()\n",
    "client=Groq(api_key=os.environ['GROQ'])"
   ]
  },
  {
   "cell_type": "code",
   "execution_count": 3,
   "id": "e28d52a8-b73b-4495-af6d-85a4432dc4f9",
   "metadata": {},
   "outputs": [
    {
     "ename": "ModuleNotFoundError",
     "evalue": "No module named 'llama_index'",
     "output_type": "error",
     "traceback": [
      "\u001b[1;31m---------------------------------------------------------------------------\u001b[0m",
      "\u001b[1;31mModuleNotFoundError\u001b[0m                       Traceback (most recent call last)",
      "Cell \u001b[1;32mIn[3], line 1\u001b[0m\n\u001b[1;32m----> 1\u001b[0m \u001b[38;5;28;01mfrom\u001b[39;00m \u001b[38;5;21;01mllama_index\u001b[39;00m\u001b[38;5;21;01m.\u001b[39;00m\u001b[38;5;21;01mcore\u001b[39;00m\u001b[38;5;21;01m.\u001b[39;00m\u001b[38;5;21;01mllms\u001b[39;00m \u001b[38;5;28;01mimport\u001b[39;00m ChatMessage\n",
      "\u001b[1;31mModuleNotFoundError\u001b[0m: No module named 'llama_index'"
     ]
    }
   ],
   "source": []
  },
  {
   "cell_type": "code",
   "execution_count": 2,
   "id": "99c78a56-db6b-425f-9e6b-f2bf51370717",
   "metadata": {},
   "outputs": [
    {
     "ename": "NameError",
     "evalue": "name 'ChatMessage' is not defined",
     "output_type": "error",
     "traceback": [
      "\u001b[1;31m---------------------------------------------------------------------------\u001b[0m",
      "\u001b[1;31mNameError\u001b[0m                                 Traceback (most recent call last)",
      "Cell \u001b[1;32mIn[2], line 2\u001b[0m\n\u001b[0;32m      1\u001b[0m messages \u001b[38;5;241m=\u001b[39m [\n\u001b[1;32m----> 2\u001b[0m     \u001b[43mChatMessage\u001b[49m(\n\u001b[0;32m      3\u001b[0m         role\u001b[38;5;241m=\u001b[39m\u001b[38;5;124m\"\u001b[39m\u001b[38;5;124msystem\u001b[39m\u001b[38;5;124m\"\u001b[39m, content\u001b[38;5;241m=\u001b[39m\u001b[38;5;124m\"\"\"\u001b[39m\n\u001b[0;32m      4\u001b[0m \u001b[38;5;124m        You are a medical entity recognition system. Your task is to extract information and return a JSON object with exactly three keys: \u001b[39m\u001b[38;5;124m\"\u001b[39m\u001b[38;5;124mamount\u001b[39m\u001b[38;5;124m\"\u001b[39m\u001b[38;5;124m, \u001b[39m\u001b[38;5;124m\"\u001b[39m\u001b[38;5;124mexpenditure\u001b[39m\u001b[38;5;124m\"\u001b[39m\u001b[38;5;124m, and \u001b[39m\u001b[38;5;124m\"\u001b[39m\u001b[38;5;124mstatus\u001b[39m\u001b[38;5;124m\"\u001b[39m\u001b[38;5;124m. \u001b[39m\n\u001b[0;32m      5\u001b[0m \n\u001b[0;32m      6\u001b[0m \u001b[38;5;124m1. Extract the monetary value and assign it to the \u001b[39m\u001b[38;5;124m\"\u001b[39m\u001b[38;5;124mamount\u001b[39m\u001b[38;5;124m\"\u001b[39m\u001b[38;5;124m key.\u001b[39m\n\u001b[0;32m      7\u001b[0m \u001b[38;5;124m2. Identify the category of expenditure and assign it to the \u001b[39m\u001b[38;5;124m\"\u001b[39m\u001b[38;5;124mexpenditure\u001b[39m\u001b[38;5;124m\"\u001b[39m\u001b[38;5;124m key. The expenditure should be classified into one of the following categories: \u001b[39m\u001b[38;5;124m\"\u001b[39m\u001b[38;5;124mtests\u001b[39m\u001b[38;5;124m\"\u001b[39m\u001b[38;5;124m, \u001b[39m\u001b[38;5;124m\"\u001b[39m\u001b[38;5;124mdoctor\u001b[39m\u001b[38;5;124m\"\u001b[39m\u001b[38;5;124m, or \u001b[39m\u001b[38;5;124m\"\u001b[39m\u001b[38;5;124mmedicine\u001b[39m\u001b[38;5;124m\"\u001b[39m\u001b[38;5;124m.\u001b[39m\n\u001b[0;32m      8\u001b[0m \u001b[38;5;124m3. If the input is related to medical expenses, set the \u001b[39m\u001b[38;5;124m\"\u001b[39m\u001b[38;5;124mstatus\u001b[39m\u001b[38;5;124m\"\u001b[39m\u001b[38;5;124m key to True. If the input is unrelated or outside your scope, set the \u001b[39m\u001b[38;5;124m\"\u001b[39m\u001b[38;5;124mstatus\u001b[39m\u001b[38;5;124m\"\u001b[39m\u001b[38;5;124m key to False.\u001b[39m\n\u001b[0;32m      9\u001b[0m \n\u001b[0;32m     10\u001b[0m \u001b[38;5;124mEnsure the output is a simple JSON object with no additional text or nested structures.\u001b[39m\n\u001b[0;32m     11\u001b[0m \n\u001b[0;32m     12\u001b[0m \u001b[38;5;124m\"\"\"\u001b[39m\n\u001b[0;32m     13\u001b[0m     ),\n\u001b[0;32m     14\u001b[0m     ChatMessage(role\u001b[38;5;241m=\u001b[39m\u001b[38;5;124m\"\u001b[39m\u001b[38;5;124muser\u001b[39m\u001b[38;5;124m\"\u001b[39m, content\u001b[38;5;241m=\u001b[39m\u001b[38;5;124m\"\u001b[39m\u001b[38;5;124mspent 1k rs on neuro surgeon\u001b[39m\u001b[38;5;124m\"\u001b[39m),\n\u001b[0;32m     15\u001b[0m ]\n\u001b[0;32m     16\u001b[0m resp \u001b[38;5;241m=\u001b[39m llm\u001b[38;5;241m.\u001b[39mchat(messages)\n\u001b[0;32m     18\u001b[0m data \u001b[38;5;241m=\u001b[39m resp\u001b[38;5;241m.\u001b[39mmodel_dump()  \u001b[38;5;66;03m# This gives you the full response as a dictionary\u001b[39;00m\n",
      "\u001b[1;31mNameError\u001b[0m: name 'ChatMessage' is not defined"
     ]
    }
   ],
   "source": [
    "messages = [\n",
    "    ChatMessage(\n",
    "        role=\"system\", content:\"\"\"\n",
    "        You are a medical entity recognition system. Your task is to extract information and return a JSON object with exactly three keys: \"amount\", \"expenditure\", and \"status\". \n",
    "\n",
    "1. Extract the monetary value and assign it to the \"amount\" key.\n",
    "2. Identify the category of expenditure and assign it to the \"expenditure\" key. The expenditure should be classified into one of the following categories: \"tests\", \"doctor\", or \"medicine\".\n",
    "3. If the input is related to medical expenses, set the \"status\" key to True. If the input is unrelated or outside your scope, set the \"status\" key to False.\n",
    "\n",
    "Ensure the output is a simple JSON object with no additional text or nested structures.\n",
    "\n",
    "\"\"\"\n",
    "    ),\n",
    "    ChatMessage(role=\"user\", content=\"spent 1k rs on neuro surgeon\"),\n",
    "]\n",
    "resp = llm.chat(messages)\n",
    "\n",
    "data = resp.model_dump()  # This gives you the full response as a dictionary\n",
    "message_content = data['message']['content']  # Extract the 'content' part"
   ]
  },
  {
   "cell_type": "code",
   "execution_count": 31,
   "id": "2ca1bb25-f7fe-4758-9f83-d07da3c7087f",
   "metadata": {},
   "outputs": [],
   "source": [
    "chat_completion = client.chat.completions.create(\n",
    "    messages=[\n",
    "         {\"role\":\"system\", \"content\":\"\"\"\n",
    "        You are a medical entity recognition system. Your task is to extract information and return a JSON object with exactly three keys: \"amount\", \"expenditure\", and \"status\". \n",
    "\n",
    "        1. Extract the monetary value and assign it to the \"amount\" key and value should be whole number.\n",
    "        2. Identify the category of expenditure and assign it to the \"expenditure\" key. The expenditure should be classified into one of the following categories: \"tests\", \"doctor\", or \"medicine\".\n",
    "        3. If the input is related to medical expenses, set the \"status\" key to \"true\". If the input is unrelated or outside your scope, set the \"status\" key to \"false\".\n",
    "        \n",
    "        Ensure the output is a simple JSON object with no additional text or nested structures.\n",
    "        give me the json with no preamble and the value of status key will be in double quotes cumpolsurily\n",
    "        \"\"\"\n",
    "         },\n",
    "         {\n",
    "            \"role\": \"user\",\n",
    "            \"content\": \"spent 13k rs on neuro surgeon\",\n",
    "        }\n",
    "    ],\n",
    "    model=\"llama3-70b-8192\",\n",
    ")\n",
    "\n",
    "resp=chat_completion.choices[0].message.content"
   ]
  },
  {
   "cell_type": "code",
   "execution_count": 32,
   "id": "34940ce8-6f14-4623-813e-58580c92e6d7",
   "metadata": {},
   "outputs": [
    {
     "data": {
      "text/plain": [
       "{'amount': 13000, 'expenditure': 'doctor', 'status': 'true'}"
      ]
     },
     "execution_count": 32,
     "metadata": {},
     "output_type": "execute_result"
    }
   ],
   "source": [
    "eval(resp)"
   ]
  },
  {
   "cell_type": "code",
   "execution_count": null,
   "id": "80813577-231b-4777-8c51-bef2c87a2881",
   "metadata": {},
   "outputs": [],
   "source": []
  }
 ],
 "metadata": {
  "kernelspec": {
   "display_name": "major",
   "language": "python",
   "name": "major"
  },
  "language_info": {
   "codemirror_mode": {
    "name": "ipython",
    "version": 3
   },
   "file_extension": ".py",
   "mimetype": "text/x-python",
   "name": "python",
   "nbconvert_exporter": "python",
   "pygments_lexer": "ipython3",
   "version": "3.11.5"
  }
 },
 "nbformat": 4,
 "nbformat_minor": 5
}
