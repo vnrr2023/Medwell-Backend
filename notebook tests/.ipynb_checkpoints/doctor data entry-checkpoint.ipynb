{
 "cells": [
  {
   "cell_type": "code",
   "execution_count": 2,
   "id": "da503e01-80c5-455f-b936-6629c5771cdd",
   "metadata": {},
   "outputs": [],
   "source": [
    "import requests\n",
    "import pandas as pd"
   ]
  },
  {
   "cell_type": "code",
   "execution_count": 61,
   "id": "fb11de9e-0cee-42fe-87c8-68a725afe6f4",
   "metadata": {},
   "outputs": [],
   "source": [
    "doctor_data=[\n",
    "  {\n",
    "    \"email\": \"draalakhani@gmail.com\",\n",
    "    \"full_name\": \"Dr. Asad Lakhani\",\n",
    "    \"mobile_number\": \"9820063656\",\n",
    "    \"speciality\": \"Family Physician\",\n",
    "    \"full_combined_address\": \"Doctor's Centre, 3rd Floor Hill N Dale Building, 160 Hill Road, Bandra (w). Mumbai 400 050.\",\n",
    "    \"education\": \"\"\n",
    "  },\n",
    "  {\n",
    "    \"email\": \"ashishsawkar@gmail.com\",\n",
    "    \"full_name\": \"Dr. Ashish Sawkar\",\n",
    "    \"mobile_number\": \"9820347732\",\n",
    "    \"speciality\": \"Family physician\",\n",
    "    \"full_combined_address\": \"172/3, Enterprise Apts, Forjett Hill Road, Mumbai 400036\",\n",
    "    \"education\": \"MBBS\"\n",
    "  },\n",
    "  {\n",
    "    \"email\": \"drbarman@vsnl.net\",\n",
    "    \"full_name\": \"Dr. Rohit Barman\",\n",
    "    \"mobile_number\": \"9820042042\",\n",
    "    \"speciality\": \"General Physician\",\n",
    "    \"full_combined_address\": \"202, Doctor House, Pedder Road, Mumbai - 400 026\",\n",
    "    \"education\": \"ICSE, HSC, MBBS, VQE, FMGEMS (USA)\"\n",
    "  },\n",
    "  {\n",
    "    \"email\": \"drporus.@hotmail.com\",\n",
    "    \"full_name\": \"Dr. Porus Kapadia\",\n",
    "    \"mobile_number\": \"919820213515\",\n",
    "    \"speciality\": \"General Physician\",\n",
    "    \"full_combined_address\": \"Kavarana Terrace, Opp Gloria Church, Dr B Ambedkar Road. Byculla, Mumbai 400027\",\n",
    "    \"education\": \"M.B.B.S F.C.G.P\"\n",
    "  },\n",
    "  {\n",
    "    \"email\": \"fnkapadia@gmail.com\",\n",
    "    \"full_name\": \"Dr. Farhad Kapadia\",\n",
    "    \"mobile_number\": \"919821031643\",\n",
    "    \"speciality\": \"Consultant Intensivist and Physician\",\n",
    "    \"full_combined_address\": \"72, B August Kranti Marg, Mumbai 400036\",\n",
    "    \"education\": \"1999 FRCP, 1991 EDIC, 1986 MD, 1982 MBBS\"\n",
    "  },\n",
    "  {\n",
    "    \"email\": \"meenalg@apolloahd.com\",\n",
    "    \"full_name\": \"Dr. Meenal Jain\",\n",
    "    \"mobile_number\": \"09898010780\",\n",
    "    \"speciality\": \"MBBS\",\n",
    "    \"full_combined_address\": \"Apollo Hospitals International LTD, PLOT NO 1A, BHAT\",\n",
    "    \"education\": \"MBBS graduated in 1998\"\n",
    "  }\n",
    "]\n",
    "\n",
    "\n",
    "\n",
    "\n",
    "\n"
   ]
  },
  {
   "cell_type": "code",
   "execution_count": 64,
   "id": "ce39fe20-a756-4636-91fe-d16aac98cab7",
   "metadata": {},
   "outputs": [
    {
     "name": "stdout",
     "output_type": "stream",
     "text": [
      "201\n",
      "201\n",
      "201\n",
      "201\n",
      "201\n",
      "201\n",
      "201\n",
      "201\n",
      "201\n",
      "201\n",
      "201\n",
      "400\n"
     ]
    }
   ],
   "source": [
    "for data in doctor_data:\n",
    "    \n",
    "    payload = {'email': data[\"email\"],\n",
    "    'password1': '1234',\n",
    "    'password2': '1234',\n",
    "    'name': data[\"full_name\"],\n",
    "    'role': 'doctor',\n",
    "    'registeration_number': '12345674567867'}\n",
    "    \n",
    "    \n",
    "    response = requests.post(\"http://127.0.0.1:8000/auth/register_user/\", data=payload)\n",
    "    doctor_id=response.json()[\"id\"]\n",
    "    \n",
    "    payload = {\n",
    "    \"phone_number\":data[\"mobile_number\"], \n",
    "    \"education\":data[\"education\"],\n",
    "    \"speciality\":data[\"speciality\"],\n",
    "        \"id\":doctor_id\n",
    "    \n",
    "    }\n",
    "    response = requests.post(\"http://127.0.0.1:8000/doctor/save_doctor_data/\",json=payload)\n",
    "    print(response.status_code)\n",
    "    payload = {\n",
    "      \"lat\": 19.019535,\n",
    "      \"lon\": 72.833726,\n",
    "      \"address\": data[\"full_combined_address\"],\n",
    "      \"address_type\": \"home\",\n",
    "        \"id\":doctor_id\n",
    "    }\n",
    "    response = requests.post(\"http://127.0.0.1:8000/doctor/add_doctor_address/\", json=payload)\n",
    "    print(response.status_code)"
   ]
  },
  {
   "cell_type": "code",
   "execution_count": 65,
   "id": "0b6821e9-b922-4ebb-8955-414f3681d41f",
   "metadata": {},
   "outputs": [
    {
     "data": {
      "text/plain": [
       "{'mssg': 'Address could not be added.Plz enter proper address'}"
      ]
     },
     "execution_count": 65,
     "metadata": {},
     "output_type": "execute_result"
    }
   ],
   "source": [
    "response.json()"
   ]
  },
  {
   "cell_type": "code",
   "execution_count": 7,
   "id": "c7f6b788-6a8e-43c8-ab38-e396e9df831c",
   "metadata": {},
   "outputs": [],
   "source": [
    "import googlemaps\n",
    "gmaps = googlemaps.Client(key=\"\")\n"
   ]
  },
  {
   "cell_type": "code",
   "execution_count": 8,
   "id": "ecc23fe4-7a71-4041-a12f-6c7bc8b7e4b7",
   "metadata": {},
   "outputs": [],
   "source": [
    "\n",
    "# Address to geocode\n",
    "address = \"Snehasadan,Mangalwadi,Girgaon,mumbai\"\n",
    "\n",
    "# Perform geocoding\n",
    "geocode_result = gmaps.geocode(address)"
   ]
  },
  {
   "cell_type": "code",
   "execution_count": 11,
   "id": "6778894c-2714-49dc-8b70-0fa132df61c5",
   "metadata": {},
   "outputs": [
    {
     "data": {
      "text/plain": [
       "'Sneha Sadan Building, Mangal Wadi St, Charni Road East, Mangal Wadi, Girgaon, Mumbai, Maharashtra 400004, India'"
      ]
     },
     "execution_count": 11,
     "metadata": {},
     "output_type": "execute_result"
    }
   ],
   "source": [
    "geocode_result[0][\"formatted_address\"]"
   ]
  },
  {
   "cell_type": "code",
   "execution_count": 14,
   "id": "7a4a4aab-6f80-4efe-a8b6-9495afdbe74b",
   "metadata": {},
   "outputs": [
    {
     "data": {
      "text/plain": [
       "{'lat': 18.9526111, 'lng': 72.8208056}"
      ]
     },
     "execution_count": 14,
     "metadata": {},
     "output_type": "execute_result"
    }
   ],
   "source": [
    "location=geocode_result[0][\"geometry\"][\"location\"]"
   ]
  },
  {
   "cell_type": "code",
   "execution_count": null,
   "id": "328f5d63-64c4-4d26-9317-d55022eaaf4b",
   "metadata": {},
   "outputs": [],
   "source": []
  }
 ],
 "metadata": {
  "kernelspec": {
   "display_name": "major",
   "language": "python",
   "name": "major"
  },
  "language_info": {
   "codemirror_mode": {
    "name": "ipython",
    "version": 3
   },
   "file_extension": ".py",
   "mimetype": "text/x-python",
   "name": "python",
   "nbconvert_exporter": "python",
   "pygments_lexer": "ipython3",
   "version": "3.11.5"
  }
 },
 "nbformat": 4,
 "nbformat_minor": 5
}
