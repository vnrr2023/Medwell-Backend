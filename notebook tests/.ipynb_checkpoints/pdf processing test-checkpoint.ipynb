{
 "cells": [
  {
   "cell_type": "code",
   "execution_count": 1,
   "id": "7e8829fc-5d64-4977-a084-4ce8a4f82b47",
   "metadata": {},
   "outputs": [],
   "source": [
    "import json\n",
    "import urllib3\n",
    "import pdfplumber\n",
    "import io\n",
    "import requests"
   ]
  },
  {
   "cell_type": "code",
   "execution_count": 2,
   "id": "6947b203-03d6-45f7-9ba0-a11e4562a307",
   "metadata": {},
   "outputs": [
    {
     "data": {
      "text/plain": [
       "'\\n    read file using pdf plumber and urllib\\n    give to groq\\n    extarct get the json\\n    put to db\\n    ask django to send mail\\n    set task id to completed\\n    '"
      ]
     },
     "execution_count": 2,
     "metadata": {},
     "output_type": "execute_result"
    }
   ],
   "source": [
    "'''\n",
    "    read file using pdf plumber and urllib\n",
    "    give to groq\n",
    "    extarct get the json\n",
    "    put to db\n",
    "    ask django to send mail\n",
    "    set task id to completed\n",
    "    '''"
   ]
  },
  {
   "cell_type": "code",
   "execution_count": 3,
   "id": "5df249c8-4e27-40c8-ae70-201df033a482",
   "metadata": {},
   "outputs": [
    {
     "data": {
      "text/plain": [
       "101098"
      ]
     },
     "execution_count": 3,
     "metadata": {},
     "output_type": "execute_result"
    }
   ],
   "source": [
    "http = urllib3.PoolManager()\n",
    "temp = io.BytesIO()\n",
    "temp.write(http.request(\"GET\", \"http://127.0.0.1:8000/media/user_reports/MyPathTest-4.pdf\").data)"
   ]
  },
  {
   "cell_type": "code",
   "execution_count": 4,
   "id": "b0e9a357-e327-443f-899f-bea12056bb79",
   "metadata": {},
   "outputs": [],
   "source": [
    "text = ''\n",
    "with pdfplumber.open(temp) as pdf:\n",
    "    for pdf_page in pdf.pages:\n",
    "        text += pdf_page.extract_text()+\"\\n\""
   ]
  },
  {
   "cell_type": "code",
   "execution_count": 5,
   "id": "54215222-5ed0-48ec-94b6-104ff02f55b0",
   "metadata": {},
   "outputs": [
    {
     "data": {
      "text/plain": [
       "'LAB NO. : 92 REG DATE : 15-Jun-2023 3:02 pm\\nPATIENT NAME : Komal Dere\\nREPORT DATE : 15-Jun-2023 3:07 pm\\nREF. BY DR. : Ayesha Ansari\\nSAMPLE COLL. AT : LAB SEX / AGE : Female / 74 Years\\nCOMPLETE BLOOD COUNT\\nTEST RESULT UNITS NORMAL VALUES\\nHaemoglobin 13.1 g% Male : 14 - 18 g%\\nFemale : 12 - 14 g%\\nRBC Count 4.72 million/cu.mm. 4.0 - 6.0 million / cu.mm\\nPCV 41 % 35 - 50 %\\nRBC INDICES\\nMCV 86.86 fl 77 - 99 fl\\nMCH 27.75 pg 28 - 32 pg\\nMCHC 31.95 % 30 - 34 %\\nRDW 15.7 fl 9 - 17 fl\\nTOTAL WBC COUNT\\nTotal WBC Count 12700 / cumm 4000 - 11000 / cu.mm\\nNeutrophils 60 % 40 - 75 %\\nLymphocytes 34 % 20 - 45 %\\nEosinophils 05 % 00 - 06 %\\nMonocytes 01 % 00 - 10 %\\nBasophils 00 % 00 - 01 %\\nPLATELETS\\nPlatelet Count 294000 / cumm 150000 - 450000 / cu.mm\\nPlatelets on Smear Adequate On Smear\\nPERIPHERAL BLOOD SMEAR\\nRBC Morphology Normocytic, Normochromic\\nTest done on Nihon Kohden MEK- 6420K fully automated cell counter.\\n---------- End of Report. ----------\\nBold Indicates Abnormal Values\\nDr.Sayyed Manazir Hasan\\nPathologist (M.D.)\\nLAB NO. : 92 REG DATE : 15-Jun-2023 3:02 pm\\nPATIENT NAME : Komal Dere\\nREPORT DATE : 15-Jun-2023 3:07 pm\\nREF. BY DR. : Ayesha Ansari\\nSAMPLE COLL. AT : LAB SEX / AGE : Female / 74 Years\\nREPORT ON BLOOD SUGAR ESTIMATION\\nTEST RESULT UNITS NORMAL VALUES\\nFASTING SUGAR\\nBlood Sugar 76 mg / dl 60 - 110 mg %\\nUrine Sugar Absent\\nUrine Acetone Absent\\n2 HRS AFTER LUNCH\\nBlood Sugar 119 mg / dl < 140 mg %\\nUrine Sugar Absent\\nUrine Acetone Absent\\nComments Rechecked\\nMethod : GOD - POD Enzymatic\\nTest Done on Semi automated analyserMicro Lab RX-50\\nUrine Sugar Interpretation:\\nTrace : 0.1 g/dl\\n+ : 0.25 g/dl\\n++ : 0.5 g/dl\\n+++ : 1.0 g/dl\\n++++ : 2.0 g/dl\\n---------- End of Report. ----------\\nBold Indicates Abnormal Values\\nDr.Sayyed Manazir Hasan\\nPathologist (M.D.)\\n'"
      ]
     },
     "execution_count": 5,
     "metadata": {},
     "output_type": "execute_result"
    }
   ],
   "source": [
    "text"
   ]
  },
  {
   "cell_type": "code",
   "execution_count": 6,
   "id": "c9087cbb-6957-48dc-8b46-153d954154c4",
   "metadata": {},
   "outputs": [],
   "source": [
    "from groq import Groq"
   ]
  },
  {
   "cell_type": "code",
   "execution_count": 7,
   "id": "3cdbe273-ec75-4227-90c9-fde6b12822aa",
   "metadata": {},
   "outputs": [],
   "source": [
    "import os\n",
    "from dotenv import load_dotenv"
   ]
  },
  {
   "cell_type": "code",
   "execution_count": 8,
   "id": "b0f6421b-899a-4358-8d22-4862ae6e3f74",
   "metadata": {},
   "outputs": [
    {
     "data": {
      "text/plain": [
       "True"
      ]
     },
     "execution_count": 8,
     "metadata": {},
     "output_type": "execute_result"
    }
   ],
   "source": [
    "load_dotenv()"
   ]
  },
  {
   "cell_type": "code",
   "execution_count": 9,
   "id": "579aeac8-05d7-486f-ae7a-3487974d676b",
   "metadata": {},
   "outputs": [],
   "source": [
    "client=Groq(api_key=os.environ['GROQ'])"
   ]
  },
  {
   "cell_type": "code",
   "execution_count": 37,
   "id": "ba728a92-4b1d-4aef-b1a5-97024eff9b51",
   "metadata": {},
   "outputs": [],
   "source": [
    "prompts={\n",
    "    \"type_prompt\":'''\n",
    "you are a medical report classifier.\n",
    "you will be given a medical report in text and you have to classify it in blood_report or other.\n",
    "if there are values of hemoglobin,rbc count wbc count,platelet count bilirubin etc then it is a blood report else other.\n",
    "Give me the result in Json format with key as \"type\" with no preamble and no nested json.\n",
    "''',\n",
    "    'blood_prompt':'''\n",
    "you are a medical report parser.\n",
    "Give me the output in json format strictly with no preamble.\n",
    "If you dont get any value assign it None\n",
    "Extract the following fields\n",
    "    name of the doctor with key as \"doctor_name\"\n",
    "    date of report with key as \"date_of_report\" with dd/mm/yy format with no leading zeroes\n",
    "    date of collection with key as \"date_of_collection\" with dd/mm/yy format with no leading zeroes\n",
    "    hemoglobin with key as \"hemoglobin\"\n",
    "    rbc count with key as \"rbc_count\"\n",
    "    wbc count with key as \"wbc_count\"\n",
    "    pcv with key as \"pcv\"\n",
    "    iron with key as \"iron\"\n",
    "    sodium with key \"sodium\"\n",
    "    pottasium with key \"potassium\"\n",
    "    phosphorus with key \"phosphorus\"\n",
    "    chloride with key \"chloride\"\n",
    "    platelet count with key as \"platelet_count\"\n",
    "    bilirubin total with key as \"bilirubin_total\"\n",
    "    bilirubin direct with key as \"bilirubin_direct\"\n",
    "    bilirubin indirect with key as \"bilirubin_indirect\"\n",
    "    proteins with key as \"proteins\"\n",
    "    calcium with key as \"calcium\"\n",
    "    albumin with key as \"albumin\"\n",
    "    Globulin with key as \"globulin\"\n",
    "    Blood Urea with the key \"blood_urea\"\n",
    "    Blood Urea Nitrogen with the key \"blood_urea_nitrogen\"\n",
    "    S. Creatinine with the key \"s_creatinine\"\n",
    "    S. Uric Acid with the key \"s_uric_acid\"\n",
    "    S. Phosphorus with the key \"s_phosphorus\"\n",
    "    Neutrophils with the key \"neutrophils\".\n",
    "    Lymphocytes with the key \"lymphocytes\".\n",
    "    Sr. Cholesterol with the key \"sr_cholesterol\".\n",
    "    HDL Cholesterol with the key \"hdl_cholesterol\".\n",
    "    fasting sugar with key \"fasting_sugar\"\n",
    "    after lunch sugar with key \"after_lunch_sugar\"\n",
    "Summarize the medical report, focusing on any values that are abnormal or outside the normal range with key \"summary\"\n",
    "Strictly give me in proper json format with no nested json and  with no preamble.\n",
    "''' ,\n",
    "    \"other_prompt\":'''\n",
    "you are a medical report summarizer and entity extractor.\n",
    "Give me the following details in json format\n",
    "    name of the doctor with key as \"doctor_name\"\n",
    "    date of report with key as \"date_of_report\" with dd/mm/yy format\n",
    "    date of collection with key as \"date_of_collections\" with dd/mm/yy format\n",
    "    summary the report with key as \"summary\".\n",
    "Only give me json with no preamble\n",
    "'''\n",
    "}"
   ]
  },
  {
   "cell_type": "code",
   "execution_count": 11,
   "id": "be78ca0c-e2a8-47a7-ad52-43aacef45665",
   "metadata": {},
   "outputs": [],
   "source": [
    "def get_model_response(prompt,text):\n",
    "    chat_completion=client.chat.completions.create(\n",
    "        messages=[{'role':\"system\",\"content\":prompt},{\"role\":\"user\",\"content\":text}],\n",
    "        model=\"llama3-70b-8192\"\n",
    "    )\n",
    "    return chat_completion.choices[0].message.content"
   ]
  },
  {
   "cell_type": "code",
   "execution_count": 14,
   "id": "2e363e50-3d5e-4373-bd6f-a5fa8b5f0984",
   "metadata": {},
   "outputs": [],
   "source": [
    "text = ''\n",
    "pdf=pdfplumber.open(temp)\n",
    "for pdf_page in pdf.pages[:2]:\n",
    "    text += pdf_page.extract_text()+\"\\n\""
   ]
  },
  {
   "cell_type": "code",
   "execution_count": 15,
   "id": "7c903e4a-c4d1-4fb7-a471-483c915b89f9",
   "metadata": {},
   "outputs": [],
   "source": [
    "type_of_report=eval(get_model_response(prompts['type_prompt'],text=text))['type']"
   ]
  },
  {
   "cell_type": "code",
   "execution_count": 16,
   "id": "a4e60c1a-23da-44e1-929d-8a2a8fe7cc0c",
   "metadata": {},
   "outputs": [
    {
     "data": {
      "text/plain": [
       "'blood_report'"
      ]
     },
     "execution_count": 16,
     "metadata": {},
     "output_type": "execute_result"
    }
   ],
   "source": [
    "type_of_report"
   ]
  },
  {
   "cell_type": "code",
   "execution_count": 17,
   "id": "2695e78f-319e-4cba-a487-c629bf243fe7",
   "metadata": {},
   "outputs": [],
   "source": [
    "for page in pdf.pages[2:]:\n",
    "    text+=page.extract_text()+\"\\n\""
   ]
  },
  {
   "cell_type": "code",
   "execution_count": null,
   "id": "fe7a3598-d186-46af-a84f-aed54cdf2636",
   "metadata": {},
   "outputs": [],
   "source": [
    "if type_of_report==\"other\":\n",
    "    data=eval(\n",
    "        get_model_response(prompts['other_prompt'],text)\n",
    "    )\n",
    "    print(data)"
   ]
  },
  {
   "cell_type": "code",
   "execution_count": null,
   "id": "8d957c9c-79a6-4eea-a3e5-a21cf82ea698",
   "metadata": {},
   "outputs": [],
   "source": []
  },
  {
   "cell_type": "code",
   "execution_count": 38,
   "id": "f23ca59a-0393-4d97-97a6-db68b5ef855b",
   "metadata": {},
   "outputs": [],
   "source": [
    "data=eval(\n",
    "    get_model_response(prompts['blood_prompt'],text)\n",
    ")"
   ]
  },
  {
   "cell_type": "code",
   "execution_count": 39,
   "id": "f4363e34-4f11-4b9f-9502-2e3a2fd880c6",
   "metadata": {},
   "outputs": [
    {
     "data": {
      "text/plain": [
       "{'doctor_name': 'Ayesha Ansari',\n",
       " 'date_of_report': '15/6/23',\n",
       " 'date_of_collection': '15/6/23',\n",
       " 'hemoglobin': 13.1,\n",
       " 'rbc_count': 4.72,\n",
       " 'wbc_count': 12700,\n",
       " 'pcv': 41,\n",
       " 'iron': None,\n",
       " 'sodium': None,\n",
       " 'potassium': None,\n",
       " 'phosphorus': None,\n",
       " 'chloride': None,\n",
       " 'platelet_count': 294000,\n",
       " 'bilirubin_total': None,\n",
       " 'bilirubin_direct': None,\n",
       " 'bilirubin_indirect': None,\n",
       " 'proteins': None,\n",
       " 'calcium': None,\n",
       " 'albumin': None,\n",
       " 'globulin': None,\n",
       " 'blood_urea': None,\n",
       " 'blood_urea_nitrogen': None,\n",
       " 's_creatinine': None,\n",
       " 's_uric_acid': None,\n",
       " 's_phosphorus': None,\n",
       " 'neutrophils': 60,\n",
       " 'lymphocytes': 34,\n",
       " 'sr_cholesterol': None,\n",
       " 'hdl_cholesterol': None,\n",
       " 'fasting_sugar': 76,\n",
       " 'after_lunch_sugar': 119,\n",
       " 'summary': 'Haemoglobin and RBC Count are within normal range. Neutrophils percentage is at upper limit of normal range. Platelet Count is within normal range. Fasting Blood Sugar is within normal range. 2 Hrs after lunch Blood Sugar is within normal range.'}"
      ]
     },
     "execution_count": 39,
     "metadata": {},
     "output_type": "execute_result"
    }
   ],
   "source": [
    "data"
   ]
  },
  {
   "cell_type": "code",
   "execution_count": 115,
   "id": "5466f31e-90b3-4cdf-addc-ec938a8c7207",
   "metadata": {},
   "outputs": [],
   "source": [
    "data_template={\n",
    "  \"hemoglobin\": {\n",
    "    \"value\": -1,\n",
    "    \"min\": 12.1,\n",
    "    \"max\": 15.5,\n",
    "    \"unit\": \"g/dL\"\n",
    "  },\n",
    "  \"rbc_count\": {\n",
    "    \"value\": -1,\n",
    "    \"min\": 4.2,\n",
    "    \"max\": 5.4,\n",
    "    \"unit\": \"million cells/μL\"\n",
    "  },\n",
    "  \"wbc_count\": {\n",
    "    \"value\": -1,\n",
    "    \"min\": 4.5,\n",
    "    \"max\": 11.0,\n",
    "    \"unit\": \"thousand cells/μL\"\n",
    "  },\n",
    "  \"pcv\": {\n",
    "    \"value\": -1,\n",
    "    \"min\": 36,\n",
    "    \"max\": 50,\n",
    "    \"unit\": \"%\"\n",
    "  },\n",
    "  \"iron\": {\n",
    "    \"value\": -1,\n",
    "    \"min\": 60,\n",
    "    \"max\": 170,\n",
    "    \"unit\": \"μg/dL\"\n",
    "  },\n",
    "  \"sodium\": {\n",
    "    \"value\": -1,\n",
    "    \"min\": 135,\n",
    "    \"max\": 145,\n",
    "    \"unit\": \"mmol/L\"\n",
    "  },\n",
    "  \"potassium\": {\n",
    "    \"value\": -1,\n",
    "    \"min\": 3.5,\n",
    "    \"max\": 5.0,\n",
    "    \"unit\": \"mmol/L\"\n",
    "  },\n",
    "  \"phosphorus\": {\n",
    "    \"value\": -1,\n",
    "    \"min\": 2.5,\n",
    "    \"max\": 4.5,\n",
    "    \"unit\": \"mg/dL\"\n",
    "  },\n",
    "  \"chloride\": {\n",
    "    \"value\": -1,\n",
    "    \"min\": 98,\n",
    "    \"max\": 107,\n",
    "    \"unit\": \"mmol/L\"\n",
    "  },\n",
    "  \"platelet_count\": {\n",
    "    \"value\": -1,\n",
    "    \"min\": 150000,\n",
    "    \"max\": 450000,\n",
    "    \"unit\": \"cells/μL\"\n",
    "  },\n",
    "  \"bilirubin_total\": {\n",
    "    \"value\": -1,\n",
    "    \"min\": 0.1,\n",
    "    \"max\": 1.2,\n",
    "    \"unit\": \"mg/dL\"\n",
    "  },\n",
    "  \"bilirubin_direct\": {\n",
    "    \"value\": -1,\n",
    "    \"min\": 0.0,\n",
    "    \"max\": 0.3,\n",
    "    \"unit\": \"mg/dL\"\n",
    "  },\n",
    "  \"bilirubin_indirect\": {\n",
    "    \"value\": -1,\n",
    "    \"min\": 0.1,\n",
    "    \"max\": 0.8,\n",
    "    \"unit\": \"mg/dL\"\n",
    "  },\n",
    "  \"proteins\": {\n",
    "    \"value\": -1,\n",
    "    \"min\": 6.0,\n",
    "    \"max\": 8.0,\n",
    "    \"unit\": \"g/dL\"\n",
    "  },\n",
    "  \"calcium\": {\n",
    "    \"value\": -1,\n",
    "    \"min\": 8.5,\n",
    "    \"max\": 10.2,\n",
    "    \"unit\": \"mg/dL\"\n",
    "  },\n",
    "  \"albumin\": {\n",
    "    \"value\": -1,\n",
    "    \"min\": 3.5,\n",
    "    \"max\": 5.0,\n",
    "    \"unit\": \"g/dL\"\n",
    "  },\n",
    "  \"globulin\": {\n",
    "    \"value\": -1,\n",
    "    \"min\": 2.0,\n",
    "    \"max\": 4.0,\n",
    "    \"unit\": \"g/dL\"\n",
    "  },\n",
    "  \"blood_urea\": {\n",
    "    \"value\": -1,\n",
    "    \"min\": 7,\n",
    "    \"max\": 20,\n",
    "    \"unit\": \"mg/dL\"\n",
    "  },\n",
    "  \"blood_urea_nitrogen\": {\n",
    "    \"value\": -1,\n",
    "    \"min\": 7,\n",
    "    \"max\": 20,\n",
    "    \"unit\": \"mg/dL\"\n",
    "  },\n",
    "  \"s_creatinine\": {\n",
    "    \"value\": -1,\n",
    "    \"min\": 0.6,\n",
    "    \"max\": 1.2,\n",
    "    \"unit\": \"mg/dL\"\n",
    "  },\n",
    "  \"s_uric_acid\": {\n",
    "    \"value\": -1,\n",
    "    \"min\": 3.5,\n",
    "    \"max\": 7.2,\n",
    "    \"unit\": \"mg/dL\"\n",
    "  },\n",
    "  \"s_phosphorus\": {\n",
    "    \"value\": -1,\n",
    "    \"min\": 2.5,\n",
    "    \"max\": 4.5,\n",
    "    \"unit\": \"mg/dL\"\n",
    "  },\n",
    "  \"neutrophils\": {\n",
    "    \"value\": -1,\n",
    "    \"min\": 40,\n",
    "    \"max\": 75,\n",
    "    \"unit\": \"%\"\n",
    "  },\n",
    "  \"lymphocytes\": {\n",
    "    \"value\": -1,\n",
    "    \"min\": 20,\n",
    "    \"max\": 45,\n",
    "    \"unit\": \"%\"\n",
    "  },\n",
    "  \"sr_cholesterol\": {\n",
    "    \"value\": -1,\n",
    "    \"min\": 0,\n",
    "    \"max\": 200,\n",
    "    \"unit\": \"mg/dL\"\n",
    "  },\n",
    "  \"hdl_cholesterol\": {\n",
    "    \"value\": -1,\n",
    "    \"min\": 40,\n",
    "    \"max\": 60,\n",
    "    \"unit\": \"mg/dL\"\n",
    "  },\n",
    "  \"fasting_sugar\": {\n",
    "    \"value\": -1,\n",
    "    \"min\": 70,\n",
    "    \"max\": 100,\n",
    "    \"unit\": \"mg/dL\"\n",
    "  },\n",
    "  \"after_lunch_sugar\": {\n",
    "    \"value\": -1,\n",
    "    \"min\": 70,\n",
    "    \"max\": 140,\n",
    "    \"unit\": \"mg/dL\"\n",
    "  }\n",
    "}\n",
    "\n"
   ]
  },
  {
   "cell_type": "code",
   "execution_count": 116,
   "id": "54262fb5-3259-45d0-aad9-a0c9e9eaef19",
   "metadata": {},
   "outputs": [],
   "source": [
    "sett={\"doctor_name\",\"date_of_report\",\"date_of_collection\",\"summary\"}"
   ]
  },
  {
   "cell_type": "code",
   "execution_count": 121,
   "id": "7e42f5cc-53b5-47e7-be5c-7998145743ef",
   "metadata": {},
   "outputs": [],
   "source": [
    "for i in data:\n",
    "    if i not in sett:\n",
    "        data_template[i]['value']=data[i] if data[i] else str( -1)"
   ]
  },
  {
   "cell_type": "code",
   "execution_count": 122,
   "id": "6f7345fd-beee-400a-a929-877c3acb25c0",
   "metadata": {},
   "outputs": [
    {
     "data": {
      "text/plain": [
       "{'hemoglobin': {'value': 13.1, 'min': 12.1, 'max': 15.5, 'unit': 'g/dL'},\n",
       " 'rbc_count': {'value': 4.72,\n",
       "  'min': 4.2,\n",
       "  'max': 5.4,\n",
       "  'unit': 'million cells/μL'},\n",
       " 'wbc_count': {'value': 12700,\n",
       "  'min': 4.5,\n",
       "  'max': 11.0,\n",
       "  'unit': 'thousand cells/μL'},\n",
       " 'pcv': {'value': 41, 'min': 36, 'max': 50, 'unit': '%'},\n",
       " 'iron': {'value': '-1', 'min': 60, 'max': 170, 'unit': 'μg/dL'},\n",
       " 'sodium': {'value': '-1', 'min': 135, 'max': 145, 'unit': 'mmol/L'},\n",
       " 'potassium': {'value': '-1', 'min': 3.5, 'max': 5.0, 'unit': 'mmol/L'},\n",
       " 'phosphorus': {'value': '-1', 'min': 2.5, 'max': 4.5, 'unit': 'mg/dL'},\n",
       " 'chloride': {'value': '-1', 'min': 98, 'max': 107, 'unit': 'mmol/L'},\n",
       " 'platelet_count': {'value': 294000,\n",
       "  'min': 150000,\n",
       "  'max': 450000,\n",
       "  'unit': 'cells/μL'},\n",
       " 'bilirubin_total': {'value': '-1', 'min': 0.1, 'max': 1.2, 'unit': 'mg/dL'},\n",
       " 'bilirubin_direct': {'value': '-1', 'min': 0.0, 'max': 0.3, 'unit': 'mg/dL'},\n",
       " 'bilirubin_indirect': {'value': '-1',\n",
       "  'min': 0.1,\n",
       "  'max': 0.8,\n",
       "  'unit': 'mg/dL'},\n",
       " 'proteins': {'value': '-1', 'min': 6.0, 'max': 8.0, 'unit': 'g/dL'},\n",
       " 'calcium': {'value': '-1', 'min': 8.5, 'max': 10.2, 'unit': 'mg/dL'},\n",
       " 'albumin': {'value': '-1', 'min': 3.5, 'max': 5.0, 'unit': 'g/dL'},\n",
       " 'globulin': {'value': '-1', 'min': 2.0, 'max': 4.0, 'unit': 'g/dL'},\n",
       " 'blood_urea': {'value': '-1', 'min': 7, 'max': 20, 'unit': 'mg/dL'},\n",
       " 'blood_urea_nitrogen': {'value': '-1', 'min': 7, 'max': 20, 'unit': 'mg/dL'},\n",
       " 's_creatinine': {'value': '-1', 'min': 0.6, 'max': 1.2, 'unit': 'mg/dL'},\n",
       " 's_uric_acid': {'value': '-1', 'min': 3.5, 'max': 7.2, 'unit': 'mg/dL'},\n",
       " 's_phosphorus': {'value': '-1', 'min': 2.5, 'max': 4.5, 'unit': 'mg/dL'},\n",
       " 'neutrophils': {'value': 60, 'min': 40, 'max': 75, 'unit': '%'},\n",
       " 'lymphocytes': {'value': 34, 'min': 20, 'max': 45, 'unit': '%'},\n",
       " 'sr_cholesterol': {'value': '-1', 'min': 0, 'max': 200, 'unit': 'mg/dL'},\n",
       " 'hdl_cholesterol': {'value': '-1', 'min': 40, 'max': 60, 'unit': 'mg/dL'},\n",
       " 'fasting_sugar': {'value': 76, 'min': 70, 'max': 100, 'unit': 'mg/dL'},\n",
       " 'after_lunch_sugar': {'value': 119, 'min': 70, 'max': 140, 'unit': 'mg/dL'}}"
      ]
     },
     "execution_count": 122,
     "metadata": {},
     "output_type": "execute_result"
    }
   ],
   "source": [
    "data_template"
   ]
  },
  {
   "cell_type": "code",
   "execution_count": 46,
   "id": "bcd942b8-90a1-4fed-a41f-7d767866bdfd",
   "metadata": {},
   "outputs": [],
   "source": [
    "import psycopg2\n",
    "\n",
    "# Connection details\n",
    "hostname = 'localhost'      # Change to your PostgreSQL host\n",
    "port = '5432'               # PostgreSQL default port is 5432\n",
    "database = 'medwell_db'    # Your database name\n",
    "username = 'myuser'    # Your PostgreSQL user\n",
    "password = 'root'   # Your PostgreSQL password\n",
    "\n",
    "\n"
   ]
  },
  {
   "cell_type": "code",
   "execution_count": 126,
   "id": "3cc6a4cd-8030-44b5-a2c6-b7f7063e3928",
   "metadata": {},
   "outputs": [],
   "source": [
    "connection = psycopg2.connect(\n",
    "    host=hostname,\n",
    "    port=port,\n",
    "    dbname=database,\n",
    "    user=username,\n",
    "    password=password\n",
    ")"
   ]
  },
  {
   "cell_type": "code",
   "execution_count": 127,
   "id": "cbe44fc8-efea-48eb-84c2-58a527b6c2bd",
   "metadata": {},
   "outputs": [],
   "source": [
    "cursor=connection.cursor()"
   ]
  },
  {
   "cell_type": "code",
   "execution_count": 78,
   "id": "55230900-47d7-4c15-a8e9-df8da3bb5eb1",
   "metadata": {},
   "outputs": [],
   "source": [
    "cursor.close()\n",
    "connection.close()"
   ]
  },
  {
   "cell_type": "code",
   "execution_count": 56,
   "id": "29ef256d-cc1b-4298-8ae4-bba280338361",
   "metadata": {},
   "outputs": [],
   "source": [
    "report_id=\"1c9dbdd3-bf85-4e61-8e12-c988698b3b3c\""
   ]
  },
  {
   "cell_type": "code",
   "execution_count": 60,
   "id": "185a4e8b-4ca2-47be-9219-02229e21e690",
   "metadata": {},
   "outputs": [],
   "source": [
    "report_query='''\n",
    "update patient_report\n",
    "set doctor_name= %s,date_of_report=%s,date_of_collection=%s,\n",
    "report_type=%s,summary=%s\n",
    "where id=%s;\n",
    "'''\n",
    "report_values = (data['doctor_name'], data[\"date_of_report\"], data['date_of_collection'],type_of_report,data['summary'],report_id)  "
   ]
  },
  {
   "cell_type": "code",
   "execution_count": 61,
   "id": "629aaa72-8820-4c50-b32b-f949f2bf2eaf",
   "metadata": {},
   "outputs": [],
   "source": [
    "cursor.execute(report_query,report_values)"
   ]
  },
  {
   "cell_type": "code",
   "execution_count": 62,
   "id": "264362a0-1c8b-4789-993e-86c612e43c0c",
   "metadata": {},
   "outputs": [],
   "source": [
    "connection.commit()"
   ]
  },
  {
   "cell_type": "code",
   "execution_count": 59,
   "id": "8f2dd574-4910-4d4b-82b7-4d2eebdf9250",
   "metadata": {},
   "outputs": [
    {
     "data": {
      "text/plain": [
       "('Ayesha Ansari',\n",
       " '15/6/23',\n",
       " '15/6/23',\n",
       " 'blood_report',\n",
       " 'Haemoglobin and RBC Count are within normal range. Neutrophils percentage is at upper limit of normal range. Platelet Count is within normal range. Fasting Blood Sugar is within normal range. 2 Hrs after lunch Blood Sugar is within normal range.',\n",
       " '1c9dbdd3-bf85-4e61-8e12-c988698b3b3c')"
      ]
     },
     "execution_count": 59,
     "metadata": {},
     "output_type": "execute_result"
    }
   ],
   "source": [
    "report_values"
   ]
  },
  {
   "cell_type": "code",
   "execution_count": 69,
   "id": "da9b3836-7b81-4f41-bf75-53c29d1548e4",
   "metadata": {},
   "outputs": [],
   "source": [
    "import uuid"
   ]
  },
  {
   "cell_type": "code",
   "execution_count": 123,
   "id": "d8c21b30-9588-423b-add5-f76ff67e6ab2",
   "metadata": {},
   "outputs": [],
   "source": [
    "report_detail_query='''\n",
    "insert into patient_reportdetail\n",
    "    ( id,\n",
    "    report_id,\n",
    "    hemoglobin,\n",
    "    rbc_count,\n",
    "    wbc_count,\n",
    "    platelet_count,\n",
    "    pcv,\n",
    "    bilirubin,\n",
    "    proteins,\n",
    "    calcium,\n",
    "    blood_urea,\n",
    "    sr_cholestrol,\n",
    "    report_data\n",
    "    )\n",
    "VALUES\n",
    "(%s, %s, %s, %s, %s, %s, %s, %s, %s, %s, %s, %s,%s);\n",
    "'''\n",
    "report_detail_values=(\n",
    "    str(uuid.uuid4()),\n",
    "    report_id,\n",
    "    str(data['hemoglobin']) if data['hemoglobin'] is not None else str(-1),\n",
    "    str(data['rbc_count']) if data['rbc_count'] is not None else str(-1),\n",
    "    str(data['wbc_count']) if data['wbc_count'] is not None else str(-1),\n",
    "    str(data['platelet_count']) if data['platelet_count'] is not None else str(-1),\n",
    "    str(data['pcv']) if data['pcv'] is not None else str(-1),\n",
    "    str(data['bilirubin_total']) if data['bilirubin_total'] is not None else str(-1),\n",
    "    str(data['proteins']) if data['proteins'] is not None else str(-1),\n",
    "    str(data['calcium']) if data['calcium'] is not None else str(-1),\n",
    "    str(data['blood_urea']) if data['blood_urea'] is not None else str(-1),\n",
    "    str(data['sr_cholesterol']) if data['sr_cholesterol'] is not None else str(-1),\n",
    "    json.dumps(data_template)\n",
    "    \n",
    "   \n",
    ")"
   ]
  },
  {
   "cell_type": "code",
   "execution_count": 108,
   "id": "c7689ca7-9fe8-4342-8ab2-6d33d5f1eabb",
   "metadata": {},
   "outputs": [],
   "source": [
    "import json"
   ]
  },
  {
   "cell_type": "code",
   "execution_count": 129,
   "id": "ed16d04d-55d0-4935-96ae-38346dac12c1",
   "metadata": {},
   "outputs": [
    {
     "data": {
      "text/plain": [
       "('b4cdea9f-2e6f-4c2b-8c7f-89ba5d403fbe',\n",
       " '1c9dbdd3-bf85-4e61-8e12-c988698b3b3c',\n",
       " '13.1',\n",
       " '4.72',\n",
       " '12700',\n",
       " '294000',\n",
       " '41',\n",
       " '-1',\n",
       " '-1',\n",
       " '-1',\n",
       " '-1',\n",
       " '-1',\n",
       " '{\"hemoglobin\": {\"value\": 13.1, \"min\": 12.1, \"max\": 15.5, \"unit\": \"g/dL\"}, \"rbc_count\": {\"value\": 4.72, \"min\": 4.2, \"max\": 5.4, \"unit\": \"million cells/\\\\u03bcL\"}, \"wbc_count\": {\"value\": 12700, \"min\": 4.5, \"max\": 11.0, \"unit\": \"thousand cells/\\\\u03bcL\"}, \"pcv\": {\"value\": 41, \"min\": 36, \"max\": 50, \"unit\": \"%\"}, \"iron\": {\"value\": \"-1\", \"min\": 60, \"max\": 170, \"unit\": \"\\\\u03bcg/dL\"}, \"sodium\": {\"value\": \"-1\", \"min\": 135, \"max\": 145, \"unit\": \"mmol/L\"}, \"potassium\": {\"value\": \"-1\", \"min\": 3.5, \"max\": 5.0, \"unit\": \"mmol/L\"}, \"phosphorus\": {\"value\": \"-1\", \"min\": 2.5, \"max\": 4.5, \"unit\": \"mg/dL\"}, \"chloride\": {\"value\": \"-1\", \"min\": 98, \"max\": 107, \"unit\": \"mmol/L\"}, \"platelet_count\": {\"value\": 294000, \"min\": 150000, \"max\": 450000, \"unit\": \"cells/\\\\u03bcL\"}, \"bilirubin_total\": {\"value\": \"-1\", \"min\": 0.1, \"max\": 1.2, \"unit\": \"mg/dL\"}, \"bilirubin_direct\": {\"value\": \"-1\", \"min\": 0.0, \"max\": 0.3, \"unit\": \"mg/dL\"}, \"bilirubin_indirect\": {\"value\": \"-1\", \"min\": 0.1, \"max\": 0.8, \"unit\": \"mg/dL\"}, \"proteins\": {\"value\": \"-1\", \"min\": 6.0, \"max\": 8.0, \"unit\": \"g/dL\"}, \"calcium\": {\"value\": \"-1\", \"min\": 8.5, \"max\": 10.2, \"unit\": \"mg/dL\"}, \"albumin\": {\"value\": \"-1\", \"min\": 3.5, \"max\": 5.0, \"unit\": \"g/dL\"}, \"globulin\": {\"value\": \"-1\", \"min\": 2.0, \"max\": 4.0, \"unit\": \"g/dL\"}, \"blood_urea\": {\"value\": \"-1\", \"min\": 7, \"max\": 20, \"unit\": \"mg/dL\"}, \"blood_urea_nitrogen\": {\"value\": \"-1\", \"min\": 7, \"max\": 20, \"unit\": \"mg/dL\"}, \"s_creatinine\": {\"value\": \"-1\", \"min\": 0.6, \"max\": 1.2, \"unit\": \"mg/dL\"}, \"s_uric_acid\": {\"value\": \"-1\", \"min\": 3.5, \"max\": 7.2, \"unit\": \"mg/dL\"}, \"s_phosphorus\": {\"value\": \"-1\", \"min\": 2.5, \"max\": 4.5, \"unit\": \"mg/dL\"}, \"neutrophils\": {\"value\": 60, \"min\": 40, \"max\": 75, \"unit\": \"%\"}, \"lymphocytes\": {\"value\": 34, \"min\": 20, \"max\": 45, \"unit\": \"%\"}, \"sr_cholesterol\": {\"value\": \"-1\", \"min\": 0, \"max\": 200, \"unit\": \"mg/dL\"}, \"hdl_cholesterol\": {\"value\": \"-1\", \"min\": 40, \"max\": 60, \"unit\": \"mg/dL\"}, \"fasting_sugar\": {\"value\": 76, \"min\": 70, \"max\": 100, \"unit\": \"mg/dL\"}, \"after_lunch_sugar\": {\"value\": 119, \"min\": 70, \"max\": 140, \"unit\": \"mg/dL\"}}')"
      ]
     },
     "execution_count": 129,
     "metadata": {},
     "output_type": "execute_result"
    }
   ],
   "source": [
    "report_detail_values"
   ]
  },
  {
   "cell_type": "code",
   "execution_count": 125,
   "id": "3ba62e2c-5f6f-4012-9eb8-a9c04b565ce1",
   "metadata": {},
   "outputs": [],
   "source": [
    "connection.close()\n",
    "cursor.close()"
   ]
  },
  {
   "cell_type": "code",
   "execution_count": 130,
   "id": "c75b4b71-7500-4da7-b320-bfc21a0bb288",
   "metadata": {},
   "outputs": [],
   "source": [
    "cursor.execute(report_detail_query,report_detail_values)"
   ]
  },
  {
   "cell_type": "code",
   "execution_count": 131,
   "id": "03c65897-8d32-419e-adf8-d5018f4eac85",
   "metadata": {},
   "outputs": [],
   "source": [
    "connection.commit()"
   ]
  },
  {
   "cell_type": "code",
   "execution_count": 95,
   "id": "357c35ff-f1a8-4c5c-a2e6-39e46009c2e5",
   "metadata": {},
   "outputs": [
    {
     "data": {
      "text/plain": [
       "{'hemoglobin': {'value': '13.1', 'min': 12.1, 'max': 15.5, 'unit': 'g/dL'},\n",
       " 'rbc_count': {'value': '4.72',\n",
       "  'min': 4.2,\n",
       "  'max': 5.4,\n",
       "  'unit': 'million cells/μL'},\n",
       " 'wbc_count': {'value': '12700',\n",
       "  'min': 4.5,\n",
       "  'max': 11.0,\n",
       "  'unit': 'thousand cells/μL'},\n",
       " 'pcv': {'value': '41', 'min': 36, 'max': 50, 'unit': '%'},\n",
       " 'iron': {'value': '-1', 'min': 60, 'max': 170, 'unit': 'μg/dL'},\n",
       " 'sodium': {'value': '-1', 'min': 135, 'max': 145, 'unit': 'mmol/L'},\n",
       " 'potassium': {'value': '-1', 'min': 3.5, 'max': 5.0, 'unit': 'mmol/L'},\n",
       " 'phosphorus': {'value': '-1', 'min': 2.5, 'max': 4.5, 'unit': 'mg/dL'},\n",
       " 'chloride': {'value': '-1', 'min': 98, 'max': 107, 'unit': 'mmol/L'},\n",
       " 'platelet_count': {'value': '294000',\n",
       "  'min': 150000,\n",
       "  'max': 450000,\n",
       "  'unit': 'cells/μL'},\n",
       " 'bilirubin_total': {'value': '-1', 'min': 0.1, 'max': 1.2, 'unit': 'mg/dL'},\n",
       " 'bilirubin_direct': {'value': '-1', 'min': 0.0, 'max': 0.3, 'unit': 'mg/dL'},\n",
       " 'bilirubin_indirect': {'value': '-1',\n",
       "  'min': 0.1,\n",
       "  'max': 0.8,\n",
       "  'unit': 'mg/dL'},\n",
       " 'proteins': {'value': '-1', 'min': 6.0, 'max': 8.0, 'unit': 'g/dL'},\n",
       " 'calcium': {'value': '-1', 'min': 8.5, 'max': 10.2, 'unit': 'mg/dL'},\n",
       " 'albumin': {'value': '-1', 'min': 3.5, 'max': 5.0, 'unit': 'g/dL'},\n",
       " 'globulin': {'value': '-1', 'min': 2.0, 'max': 4.0, 'unit': 'g/dL'},\n",
       " 'blood_urea': {'value': '-1', 'min': 7, 'max': 20, 'unit': 'mg/dL'},\n",
       " 'blood_urea_nitrogen': {'value': '-1', 'min': 7, 'max': 20, 'unit': 'mg/dL'},\n",
       " 's_creatinine': {'value': '-1', 'min': 0.6, 'max': 1.2, 'unit': 'mg/dL'},\n",
       " 's_uric_acid': {'value': '-1', 'min': 3.5, 'max': 7.2, 'unit': 'mg/dL'},\n",
       " 's_phosphorus': {'value': '-1', 'min': 2.5, 'max': 4.5, 'unit': 'mg/dL'},\n",
       " 'neutrophils': {'value': '60', 'min': 40, 'max': 75, 'unit': '%'},\n",
       " 'lymphocytes': {'value': '34', 'min': 20, 'max': 45, 'unit': '%'},\n",
       " 'sr_cholesterol': {'value': '-1', 'min': 0, 'max': 200, 'unit': 'mg/dL'},\n",
       " 'hdl_cholesterol': {'value': '-1', 'min': 40, 'max': 60, 'unit': 'mg/dL'},\n",
       " 'fasting_sugar': {'value': '76', 'min': 70, 'max': 100, 'unit': 'mg/dL'},\n",
       " 'after_lunch_sugar': {'value': '119', 'min': 70, 'max': 140, 'unit': 'mg/dL'}}"
      ]
     },
     "execution_count": 95,
     "metadata": {},
     "output_type": "execute_result"
    }
   ],
   "source": [
    "data_template"
   ]
  },
  {
   "cell_type": "code",
   "execution_count": 145,
   "id": "38de0beb-f139-4065-956e-e24ee591d3a9",
   "metadata": {},
   "outputs": [
    {
     "name": "stdout",
     "output_type": "stream",
     "text": [
      "{'doctor_name': 'Ayesha Ansari', 'date_of_report': '15/6/23', 'date_of_collection': '15/6/23', 'hemoglobin': '13.1', 'rbc_count': '4.72', 'wbc_count': '12700', 'pcv': '41', 'iron': None, 'sodium': None, 'potassium': None, 'phosphorus': None, 'chloride': None, 'platelet_count': '294000', 'bilirubin_total': None, 'bilirubin_direct': None, 'bilirubin_indirect': None, 'proteins': None, 'calcium': None, 'albumin': None, 'globulin': None, 'blood_urea': None, 'blood_urea_nitrogen': None, 's_creatinine': None, 's_uric_acid': None, 's_phosphorus': None, 'neutrophils': '60', 'lymphocytes': '34', 'sr_cholesterol': None, 'hdl_cholesterol': None, 'fasting_sugar': '76', 'after_lunch_sugar': '119', 'summary': 'No abnormal values reported'}\n",
      "0\n"
     ]
    }
   ],
   "source": [
    "for i in range(3):\n",
    "    try:\n",
    "        data=eval(\n",
    "            get_model_response(prompts['blood_prompt'],text)\n",
    "        )\n",
    "        print(data)\n",
    "        print(i)\n",
    "        break\n",
    "    except:\n",
    "        pass"
   ]
  },
  {
   "cell_type": "code",
   "execution_count": null,
   "id": "187f1d8f-d69f-4383-9ad3-92210098a7af",
   "metadata": {},
   "outputs": [],
   "source": []
  },
  {
   "cell_type": "code",
   "execution_count": null,
   "id": "e0d9a73e-4c8a-4b4a-9638-33337cc17299",
   "metadata": {},
   "outputs": [],
   "source": []
  }
 ],
 "metadata": {
  "kernelspec": {
   "display_name": "major",
   "language": "python",
   "name": "major"
  },
  "language_info": {
   "codemirror_mode": {
    "name": "ipython",
    "version": 3
   },
   "file_extension": ".py",
   "mimetype": "text/x-python",
   "name": "python",
   "nbconvert_exporter": "python",
   "pygments_lexer": "ipython3",
   "version": "3.11.5"
  }
 },
 "nbformat": 4,
 "nbformat_minor": 5
}
