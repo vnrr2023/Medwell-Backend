{
 "cells": [
  {
   "cell_type": "code",
   "execution_count": 1,
   "id": "c53bea38-c13e-4112-8221-8bac2a95862e",
   "metadata": {},
   "outputs": [],
   "source": [
    "import pdfplumber\n",
    "import groq"
   ]
  },
  {
   "cell_type": "code",
   "execution_count": 6,
   "id": "aeb0d12c-17ea-443b-a3c5-b5e1d52db4db",
   "metadata": {},
   "outputs": [],
   "source": [
    "from groq import Groq"
   ]
  },
  {
   "cell_type": "code",
   "execution_count": 99,
   "id": "4f1e955c-ffca-4dff-83ed-c4444ee281a8",
   "metadata": {},
   "outputs": [],
   "source": [
    "import os\n",
    "from dotenv import load_dotenv"
   ]
  },
  {
   "cell_type": "code",
   "execution_count": 100,
   "id": "5a5e6770-e94e-4106-a99a-470c506fbbe4",
   "metadata": {},
   "outputs": [
    {
     "data": {
      "text/plain": [
       "True"
      ]
     },
     "execution_count": 100,
     "metadata": {},
     "output_type": "execute_result"
    }
   ],
   "source": [
    "load_dotenv()"
   ]
  },
  {
   "cell_type": "code",
   "execution_count": 101,
   "id": "d3463aed-6c17-49b6-be75-e4d049a18ae8",
   "metadata": {},
   "outputs": [],
   "source": [
    "client=Groq(api_key=os.environ['GROQ'])"
   ]
  },
  {
   "cell_type": "code",
   "execution_count": 92,
   "id": "00bb3fc7-87cc-4ac4-bb88-f0567f3765ed",
   "metadata": {},
   "outputs": [],
   "source": [
    "prompts={\n",
    "    \"type_prompt\":'''\n",
    "you are a medical report classifier.\n",
    "you will be given a medical report in text and you have to classify it in blood_report or other.\n",
    "if there are values of hemoglobin,rbc count wbc count,platelet count bilirubin etc then it is a blood report else other.\n",
    "Give me the result in Json format with key as \"type\" with no preamble and no nested json.\n",
    "''',\n",
    "    'blood_prompt':'''\n",
    "you are a medical report parser.\n",
    "Give me the output in json format strictly with no preamble.\n",
    "If you dont get any value assign it None\n",
    "Extract the following fields\n",
    "    name of the doctor with key as \"doctor_name\"\n",
    "    date of report with key as \"date_of_report\" with dd/mm/yy format\n",
    "    date of collection with key as \"date_of_collection\" with dd/mm/yy format\n",
    "    hemoglobin with key as \"hemoglobin\"\n",
    "    rbc count with key as \"rbc_count\"\n",
    "    wbc count with key as \"wbc_count\"\n",
    "    pcv with key as \"pcv\"\n",
    "    iron with key as \"iron\"\n",
    "    sodium with key \"sodium\"\n",
    "    pottasium with key \"potassium\"\n",
    "    phosphorus with key \"phosphorus\"\n",
    "    chloride with key \"chloride\"\n",
    "    platelet count with key as \"platelet_count\"\n",
    "    bilirubin total with key as \"bilirubin_total\"\n",
    "    bilirubin direct with key as \"bilirubin_direct\"\n",
    "    bilirubin indirect with key as \"bilirubin_indirect\"\n",
    "    proteins with key as \"proteins\"\n",
    "    calcium with key as \"calcium\"\n",
    "    albumin with key as \"albumin\"\n",
    "    Globulin with key as \"globulin\"\n",
    "    Blood Urea with the key \"blood_urea\"\n",
    "    Blood Urea Nitrogen with the key \"blood_urea_nitrogen\"\n",
    "    S. Creatinine with the key \"s_creatinine\"\n",
    "    S. Uric Acid with the key \"s_uric_acid\"\n",
    "    S. Phosphorus with the key \"s_phosphorus\"\n",
    "    Neutrophils with the key \"neutrophils\".\n",
    "    Lymphocytes with the key \"lymphocytes\".\n",
    "    Sr. Cholesterol with the key \"sr_cholesterol\".\n",
    "    HDL Cholesterol with the key \"hdl_cholesterol\".\n",
    "    fasting sugar with key \"fasting_sugar\"\n",
    "    after lunch sugar with key \"after_lunch_sugar\"\n",
    "Summarize the medical report, focusing on any values that are abnormal or outside the normal range with key \"summary\"\n",
    "Strictly give me in proper json format with no nested json and  with no preamble.\n",
    "''' ,\n",
    "    \"other_prompt\":'''\n",
    "you are a medical report summarizer and entity extractor.\n",
    "Give me the following details in json format\n",
    "    name of the doctor with key as \"doctor_name\"\n",
    "    date of report with key as \"date_of_report\" with dd/mm/yy format\n",
    "    date of collection with key as \"date_of_collections\" with dd/mm/yy format\n",
    "    summary the report with key as \"summary\".\n",
    "Only give me json with no preamble\n",
    "'''\n",
    "}"
   ]
  },
  {
   "cell_type": "code",
   "execution_count": 15,
   "id": "3804e307-dec9-4876-b234-f169b3a20a1b",
   "metadata": {},
   "outputs": [],
   "source": [
    "# check type of report\n",
    "def get_model_response(prompt,text):\n",
    "    chat_completion=client.chat.completions.create(\n",
    "        messages=[{'role':\"system\",\"content\":prompt},{\"role\":\"user\",\"content\":text}],\n",
    "        model=\"llama3-70b-8192\"\n",
    "    )\n",
    "    return chat_completion.choices[0].message.content"
   ]
  },
  {
   "cell_type": "code",
   "execution_count": 33,
   "id": "cb43cd3c-5b3d-4ba0-9c50-be0cbbca77f5",
   "metadata": {},
   "outputs": [],
   "source": [
    "pdf=pdfplumber.open(\"test2.pdf\")\n",
    "pages=pdf.pages"
   ]
  },
  {
   "cell_type": "code",
   "execution_count": 34,
   "id": "a5df0b8d-95af-420e-8e06-0babb1c17d94",
   "metadata": {},
   "outputs": [],
   "source": [
    "text=\"\"\n",
    "for page in pages[:2] :\n",
    "    text+=page.extract_text()"
   ]
  },
  {
   "cell_type": "code",
   "execution_count": 35,
   "id": "10193ee4-3bb9-4ec0-9f19-7342412eae70",
   "metadata": {},
   "outputs": [],
   "source": [
    "type_of_report=eval(get_model_response(prompts['type_prompt'],text=text))['type']"
   ]
  },
  {
   "cell_type": "code",
   "execution_count": 37,
   "id": "dfd6c5e6-4e7f-4d02-9de2-c51bc724b6ad",
   "metadata": {},
   "outputs": [],
   "source": [
    "for page in pages[2:]:\n",
    "    text+=page.extract_text()"
   ]
  },
  {
   "cell_type": "code",
   "execution_count": 25,
   "id": "c832ea5c-3987-4759-a7cd-5f1f08c0f63d",
   "metadata": {},
   "outputs": [
    {
     "name": "stdout",
     "output_type": "stream",
     "text": [
      "{'doctor_name': 'Dr. A.A. Chaudhary', 'date_of_report': '16/11/22', 'date_of_collections': '15/11/22', 'summary': 'The malaria parasites test result is not detected using the thick smear method. However, it does not rule out malaria, and smears may be required 2-3 times in few cases.'}\n"
     ]
    }
   ],
   "source": [
    "if type_of_report==\"other\":\n",
    "    data=eval(\n",
    "        get_model_response(prompts['other_prompt'],text)\n",
    "    )\n",
    "    print(data)"
   ]
  },
  {
   "cell_type": "code",
   "execution_count": 36,
   "id": "fe751287-a502-4414-9661-2491e14d7231",
   "metadata": {},
   "outputs": [
    {
     "data": {
      "text/plain": [
       "'blood_report'"
      ]
     },
     "execution_count": 36,
     "metadata": {},
     "output_type": "execute_result"
    }
   ],
   "source": [
    "type_of_report"
   ]
  },
  {
   "cell_type": "code",
   "execution_count": 38,
   "id": "2c00c790-fba1-46e1-a8b9-1381c0718e42",
   "metadata": {},
   "outputs": [
    {
     "data": {
      "text/plain": [
       "2761"
      ]
     },
     "execution_count": 38,
     "metadata": {},
     "output_type": "execute_result"
    }
   ],
   "source": [
    "len(text)"
   ]
  },
  {
   "cell_type": "code",
   "execution_count": 102,
   "id": "bb82b0f7-c6dc-474b-a7b8-94064ba9a03a",
   "metadata": {},
   "outputs": [],
   "source": [
    "data=eval(\n",
    "    get_model_response(prompts['blood_prompt'],text)\n",
    ")"
   ]
  },
  {
   "cell_type": "code",
   "execution_count": 94,
   "id": "c4030924-1f93-4bac-a5f1-23fde33e68c6",
   "metadata": {},
   "outputs": [],
   "source": [
    "data_template={\n",
    "  \"hemoglobin\": {\n",
    "    \"value\": -1,\n",
    "    \"min\": 12.1,\n",
    "    \"max\": 15.5,\n",
    "    \"unit\": \"g/dL\"\n",
    "  },\n",
    "  \"rbc_count\": {\n",
    "    \"value\": -1,\n",
    "    \"min\": 4.2,\n",
    "    \"max\": 5.4,\n",
    "    \"unit\": \"million cells/μL\"\n",
    "  },\n",
    "  \"wbc_count\": {\n",
    "    \"value\": -1,\n",
    "    \"min\": 4.5,\n",
    "    \"max\": 11.0,\n",
    "    \"unit\": \"thousand cells/μL\"\n",
    "  },\n",
    "  \"pcv\": {\n",
    "    \"value\": -1,\n",
    "    \"min\": 36,\n",
    "    \"max\": 50,\n",
    "    \"unit\": \"%\"\n",
    "  },\n",
    "  \"iron\": {\n",
    "    \"value\": -1,\n",
    "    \"min\": 60,\n",
    "    \"max\": 170,\n",
    "    \"unit\": \"μg/dL\"\n",
    "  },\n",
    "  \"sodium\": {\n",
    "    \"value\": -1,\n",
    "    \"min\": 135,\n",
    "    \"max\": 145,\n",
    "    \"unit\": \"mmol/L\"\n",
    "  },\n",
    "  \"potassium\": {\n",
    "    \"value\": -1,\n",
    "    \"min\": 3.5,\n",
    "    \"max\": 5.0,\n",
    "    \"unit\": \"mmol/L\"\n",
    "  },\n",
    "  \"phosphorus\": {\n",
    "    \"value\": -1,\n",
    "    \"min\": 2.5,\n",
    "    \"max\": 4.5,\n",
    "    \"unit\": \"mg/dL\"\n",
    "  },\n",
    "  \"chloride\": {\n",
    "    \"value\": -1,\n",
    "    \"min\": 98,\n",
    "    \"max\": 107,\n",
    "    \"unit\": \"mmol/L\"\n",
    "  },\n",
    "  \"platelet_count\": {\n",
    "    \"value\": -1,\n",
    "    \"min\": 150000,\n",
    "    \"max\": 450000,\n",
    "    \"unit\": \"cells/μL\"\n",
    "  },\n",
    "  \"bilirubin_total\": {\n",
    "    \"value\": -1,\n",
    "    \"min\": 0.1,\n",
    "    \"max\": 1.2,\n",
    "    \"unit\": \"mg/dL\"\n",
    "  },\n",
    "  \"bilirubin_direct\": {\n",
    "    \"value\": -1,\n",
    "    \"min\": 0.0,\n",
    "    \"max\": 0.3,\n",
    "    \"unit\": \"mg/dL\"\n",
    "  },\n",
    "  \"bilirubin_indirect\": {\n",
    "    \"value\": -1,\n",
    "    \"min\": 0.1,\n",
    "    \"max\": 0.8,\n",
    "    \"unit\": \"mg/dL\"\n",
    "  },\n",
    "  \"proteins\": {\n",
    "    \"value\": -1,\n",
    "    \"min\": 6.0,\n",
    "    \"max\": 8.0,\n",
    "    \"unit\": \"g/dL\"\n",
    "  },\n",
    "  \"calcium\": {\n",
    "    \"value\": -1,\n",
    "    \"min\": 8.5,\n",
    "    \"max\": 10.2,\n",
    "    \"unit\": \"mg/dL\"\n",
    "  },\n",
    "  \"albumin\": {\n",
    "    \"value\": -1,\n",
    "    \"min\": 3.5,\n",
    "    \"max\": 5.0,\n",
    "    \"unit\": \"g/dL\"\n",
    "  },\n",
    "  \"globulin\": {\n",
    "    \"value\": -1,\n",
    "    \"min\": 2.0,\n",
    "    \"max\": 4.0,\n",
    "    \"unit\": \"g/dL\"\n",
    "  },\n",
    "  \"blood_urea\": {\n",
    "    \"value\": -1,\n",
    "    \"min\": 7,\n",
    "    \"max\": 20,\n",
    "    \"unit\": \"mg/dL\"\n",
    "  },\n",
    "  \"blood_urea_nitrogen\": {\n",
    "    \"value\": -1,\n",
    "    \"min\": 7,\n",
    "    \"max\": 20,\n",
    "    \"unit\": \"mg/dL\"\n",
    "  },\n",
    "  \"s_creatinine\": {\n",
    "    \"value\": -1,\n",
    "    \"min\": 0.6,\n",
    "    \"max\": 1.2,\n",
    "    \"unit\": \"mg/dL\"\n",
    "  },\n",
    "  \"s_uric_acid\": {\n",
    "    \"value\": -1,\n",
    "    \"min\": 3.5,\n",
    "    \"max\": 7.2,\n",
    "    \"unit\": \"mg/dL\"\n",
    "  },\n",
    "  \"s_phosphorus\": {\n",
    "    \"value\": -1,\n",
    "    \"min\": 2.5,\n",
    "    \"max\": 4.5,\n",
    "    \"unit\": \"mg/dL\"\n",
    "  },\n",
    "  \"neutrophils\": {\n",
    "    \"value\": -1,\n",
    "    \"min\": 40,\n",
    "    \"max\": 75,\n",
    "    \"unit\": \"%\"\n",
    "  },\n",
    "  \"lymphocytes\": {\n",
    "    \"value\": -1,\n",
    "    \"min\": 20,\n",
    "    \"max\": 45,\n",
    "    \"unit\": \"%\"\n",
    "  },\n",
    "  \"sr_cholesterol\": {\n",
    "    \"value\": -1,\n",
    "    \"min\": 0,\n",
    "    \"max\": 200,\n",
    "    \"unit\": \"mg/dL\"\n",
    "  },\n",
    "  \"hdl_cholesterol\": {\n",
    "    \"value\": -1,\n",
    "    \"min\": 40,\n",
    "    \"max\": 60,\n",
    "    \"unit\": \"mg/dL\"\n",
    "  },\n",
    "  \"fasting_sugar\": {\n",
    "    \"value\": -1,\n",
    "    \"min\": 70,\n",
    "    \"max\": 100,\n",
    "    \"unit\": \"mg/dL\"\n",
    "  },\n",
    "  \"after_lunch_sugar\": {\n",
    "    \"value\": -1,\n",
    "    \"min\": 70,\n",
    "    \"max\": 140,\n",
    "    \"unit\": \"mg/dL\"\n",
    "  }\n",
    "}\n",
    "\n"
   ]
  },
  {
   "cell_type": "code",
   "execution_count": 95,
   "id": "1718676d-fe24-4037-ae7d-ebca6141dc47",
   "metadata": {},
   "outputs": [],
   "source": [
    "sett={\"doctor_name\",\"date_of_report\",\"date_of_collection\",\"summary\"}"
   ]
  },
  {
   "cell_type": "code",
   "execution_count": 96,
   "id": "0edbade1-8571-4b57-8bb8-cd7428f8fcfc",
   "metadata": {},
   "outputs": [],
   "source": [
    "for i in data:\n",
    "    if i not in sett:\n",
    "        data_template[i]['value']=data[i] if data[i] else -1"
   ]
  },
  {
   "cell_type": "code",
   "execution_count": 97,
   "id": "64eb05ff-c0c7-4058-b353-a0918249c633",
   "metadata": {},
   "outputs": [
    {
     "data": {
      "text/plain": [
       "{'hemoglobin': {'value': 12.1, 'min': 12.1, 'max': 15.5, 'unit': 'g/dL'},\n",
       " 'rbc_count': {'value': 4.72,\n",
       "  'min': 4.2,\n",
       "  'max': 5.4,\n",
       "  'unit': 'million cells/μL'},\n",
       " 'wbc_count': {'value': 9700,\n",
       "  'min': 4.5,\n",
       "  'max': 11.0,\n",
       "  'unit': 'thousand cells/μL'},\n",
       " 'pcv': {'value': 38, 'min': 36, 'max': 50, 'unit': '%'},\n",
       " 'iron': {'value': -1, 'min': 60, 'max': 170, 'unit': 'μg/dL'},\n",
       " 'sodium': {'value': -1, 'min': 135, 'max': 145, 'unit': 'mmol/L'},\n",
       " 'potassium': {'value': -1, 'min': 3.5, 'max': 5.0, 'unit': 'mmol/L'},\n",
       " 'phosphorus': {'value': 3.84, 'min': 2.5, 'max': 4.5, 'unit': 'mg/dL'},\n",
       " 'chloride': {'value': -1, 'min': 98, 'max': 107, 'unit': 'mmol/L'},\n",
       " 'platelet_count': {'value': 219000,\n",
       "  'min': 150000,\n",
       "  'max': 450000,\n",
       "  'unit': 'cells/μL'},\n",
       " 'bilirubin_total': {'value': 0.57, 'min': 0.1, 'max': 1.2, 'unit': 'mg/dL'},\n",
       " 'bilirubin_direct': {'value': 0.19, 'min': 0.0, 'max': 0.3, 'unit': 'mg/dL'},\n",
       " 'bilirubin_indirect': {'value': 0.38,\n",
       "  'min': 0.1,\n",
       "  'max': 0.8,\n",
       "  'unit': 'mg/dL'},\n",
       " 'proteins': {'value': 6.18, 'min': 6.0, 'max': 8.0, 'unit': 'g/dL'},\n",
       " 'calcium': {'value': 8.19, 'min': 8.5, 'max': 10.2, 'unit': 'mg/dL'},\n",
       " 'albumin': {'value': 3.16, 'min': 3.5, 'max': 5.0, 'unit': 'g/dL'},\n",
       " 'globulin': {'value': 3.02, 'min': 2.0, 'max': 4.0, 'unit': 'g/dL'},\n",
       " 'blood_urea': {'value': 21, 'min': 7, 'max': 20, 'unit': 'mg/dL'},\n",
       " 'blood_urea_nitrogen': {'value': 9.81, 'min': 7, 'max': 20, 'unit': 'mg/dL'},\n",
       " 's_creatinine': {'value': 0.98, 'min': 0.6, 'max': 1.2, 'unit': 'mg/dL'},\n",
       " 's_uric_acid': {'value': 4.25, 'min': 3.5, 'max': 7.2, 'unit': 'mg/dL'},\n",
       " 's_phosphorus': {'value': 3.84, 'min': 2.5, 'max': 4.5, 'unit': 'mg/dL'},\n",
       " 'neutrophils': {'value': 91, 'min': 40, 'max': 75, 'unit': '%'},\n",
       " 'lymphocytes': {'value': 6, 'min': 20, 'max': 45, 'unit': '%'},\n",
       " 'sr_cholesterol': {'value': -1, 'min': 0, 'max': 200, 'unit': 'mg/dL'},\n",
       " 'hdl_cholesterol': {'value': -1, 'min': 40, 'max': 60, 'unit': 'mg/dL'},\n",
       " 'fasting_sugar': {'value': -1, 'min': 70, 'max': 100, 'unit': 'mg/dL'},\n",
       " 'after_lunch_sugar': {'value': -1, 'min': 70, 'max': 140, 'unit': 'mg/dL'}}"
      ]
     },
     "execution_count": 97,
     "metadata": {},
     "output_type": "execute_result"
    }
   ],
   "source": [
    "data_template"
   ]
  },
  {
   "cell_type": "code",
   "execution_count": 103,
   "id": "a12abb27-5b22-46be-a4ef-330669821d1c",
   "metadata": {},
   "outputs": [
    {
     "data": {
      "text/plain": [
       "{'doctor_name': 'Dr.Sayyed Manazir Hasan',\n",
       " 'date_of_report': '03-Aug-2024',\n",
       " 'date_of_collection': '02-Aug-2024',\n",
       " 'hemoglobin': 12.1,\n",
       " 'rbc_count': 4.72,\n",
       " 'wbc_count': 9700,\n",
       " 'pcv': 38,\n",
       " 'iron': None,\n",
       " 'sodium': None,\n",
       " 'potassium': None,\n",
       " 'phosphorus': 3.84,\n",
       " 'chloride': None,\n",
       " 'platelet_count': 219000,\n",
       " 'bilirubin_total': 0.57,\n",
       " 'bilirubin_direct': 0.19,\n",
       " 'bilirubin_indirect': 0.38,\n",
       " 'proteins': 6.18,\n",
       " 'calcium': 8.19,\n",
       " 'albumin': 3.16,\n",
       " 'globulin': 3.02,\n",
       " 'blood_urea': 21,\n",
       " 'blood_urea_nitrogen': 9.81,\n",
       " 's_creatinine': 0.98,\n",
       " 's_uric_acid': 4.25,\n",
       " 's_phosphorus': 3.84,\n",
       " 'neutrophils': 91,\n",
       " 'lymphocytes': 6,\n",
       " 'sr_cholesterol': None,\n",
       " 'hdl_cholesterol': None,\n",
       " 'fasting_sugar': None,\n",
       " 'after_lunch_sugar': None,\n",
       " 'summary': 'Abnormal values include Hemoglobin which is below the normal range, RBC Count is lower than normal range, RBC Morphology shows Hypochromia and Mild Microcytosis. Platelet Count is normal. Neutrophils percentage is higher than normal range.'}"
      ]
     },
     "execution_count": 103,
     "metadata": {},
     "output_type": "execute_result"
    }
   ],
   "source": [
    "data"
   ]
  },
  {
   "cell_type": "code",
   "execution_count": null,
   "id": "fb3d19be-484e-4549-a565-cb07103affc7",
   "metadata": {},
   "outputs": [],
   "source": []
  }
 ],
 "metadata": {
  "kernelspec": {
   "display_name": "major",
   "language": "python",
   "name": "major"
  },
  "language_info": {
   "codemirror_mode": {
    "name": "ipython",
    "version": 3
   },
   "file_extension": ".py",
   "mimetype": "text/x-python",
   "name": "python",
   "nbconvert_exporter": "python",
   "pygments_lexer": "ipython3",
   "version": "3.11.5"
  }
 },
 "nbformat": 4,
 "nbformat_minor": 5
}
