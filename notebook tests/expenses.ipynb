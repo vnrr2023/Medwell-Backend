{
 "cells": [
  {
   "cell_type": "code",
   "execution_count": 29,
   "id": "7f586a24-311d-44d8-a96b-321ebb291bca",
   "metadata": {},
   "outputs": [],
   "source": [
    "from groq import Groq\n",
    "import os\n",
    "from dotenv import load_dotenv\n",
    "import requests\n",
    "\n",
    "load_dotenv()\n",
    "client=Groq(api_key=os.environ['GROQ'])"
   ]
  },
  {
   "cell_type": "code",
   "execution_count": 3,
   "id": "e28d52a8-b73b-4495-af6d-85a4432dc4f9",
   "metadata": {},
   "outputs": [
    {
     "ename": "ModuleNotFoundError",
     "evalue": "No module named 'llama_index'",
     "output_type": "error",
     "traceback": [
      "\u001b[1;31m---------------------------------------------------------------------------\u001b[0m",
      "\u001b[1;31mModuleNotFoundError\u001b[0m                       Traceback (most recent call last)",
      "Cell \u001b[1;32mIn[3], line 1\u001b[0m\n\u001b[1;32m----> 1\u001b[0m \u001b[38;5;28;01mfrom\u001b[39;00m \u001b[38;5;21;01mllama_index\u001b[39;00m\u001b[38;5;21;01m.\u001b[39;00m\u001b[38;5;21;01mcore\u001b[39;00m\u001b[38;5;21;01m.\u001b[39;00m\u001b[38;5;21;01mllms\u001b[39;00m \u001b[38;5;28;01mimport\u001b[39;00m ChatMessage\n",
      "\u001b[1;31mModuleNotFoundError\u001b[0m: No module named 'llama_index'"
     ]
    }
   ],
   "source": []
  },
  {
   "cell_type": "code",
   "execution_count": 2,
   "id": "99c78a56-db6b-425f-9e6b-f2bf51370717",
   "metadata": {},
   "outputs": [
    {
     "ename": "NameError",
     "evalue": "name 'ChatMessage' is not defined",
     "output_type": "error",
     "traceback": [
      "\u001b[1;31m---------------------------------------------------------------------------\u001b[0m",
      "\u001b[1;31mNameError\u001b[0m                                 Traceback (most recent call last)",
      "Cell \u001b[1;32mIn[2], line 2\u001b[0m\n\u001b[0;32m      1\u001b[0m messages \u001b[38;5;241m=\u001b[39m [\n\u001b[1;32m----> 2\u001b[0m     \u001b[43mChatMessage\u001b[49m(\n\u001b[0;32m      3\u001b[0m         role\u001b[38;5;241m=\u001b[39m\u001b[38;5;124m\"\u001b[39m\u001b[38;5;124msystem\u001b[39m\u001b[38;5;124m\"\u001b[39m, content\u001b[38;5;241m=\u001b[39m\u001b[38;5;124m\"\"\"\u001b[39m\n\u001b[0;32m      4\u001b[0m \u001b[38;5;124m        You are a medical entity recognition system. Your task is to extract information and return a JSON object with exactly three keys: \u001b[39m\u001b[38;5;124m\"\u001b[39m\u001b[38;5;124mamount\u001b[39m\u001b[38;5;124m\"\u001b[39m\u001b[38;5;124m, \u001b[39m\u001b[38;5;124m\"\u001b[39m\u001b[38;5;124mexpenditure\u001b[39m\u001b[38;5;124m\"\u001b[39m\u001b[38;5;124m, and \u001b[39m\u001b[38;5;124m\"\u001b[39m\u001b[38;5;124mstatus\u001b[39m\u001b[38;5;124m\"\u001b[39m\u001b[38;5;124m. \u001b[39m\n\u001b[0;32m      5\u001b[0m \n\u001b[0;32m      6\u001b[0m \u001b[38;5;124m1. Extract the monetary value and assign it to the \u001b[39m\u001b[38;5;124m\"\u001b[39m\u001b[38;5;124mamount\u001b[39m\u001b[38;5;124m\"\u001b[39m\u001b[38;5;124m key.\u001b[39m\n\u001b[0;32m      7\u001b[0m \u001b[38;5;124m2. Identify the category of expenditure and assign it to the \u001b[39m\u001b[38;5;124m\"\u001b[39m\u001b[38;5;124mexpenditure\u001b[39m\u001b[38;5;124m\"\u001b[39m\u001b[38;5;124m key. The expenditure should be classified into one of the following categories: \u001b[39m\u001b[38;5;124m\"\u001b[39m\u001b[38;5;124mtests\u001b[39m\u001b[38;5;124m\"\u001b[39m\u001b[38;5;124m, \u001b[39m\u001b[38;5;124m\"\u001b[39m\u001b[38;5;124mdoctor\u001b[39m\u001b[38;5;124m\"\u001b[39m\u001b[38;5;124m, or \u001b[39m\u001b[38;5;124m\"\u001b[39m\u001b[38;5;124mmedicine\u001b[39m\u001b[38;5;124m\"\u001b[39m\u001b[38;5;124m.\u001b[39m\n\u001b[0;32m      8\u001b[0m \u001b[38;5;124m3. If the input is related to medical expenses, set the \u001b[39m\u001b[38;5;124m\"\u001b[39m\u001b[38;5;124mstatus\u001b[39m\u001b[38;5;124m\"\u001b[39m\u001b[38;5;124m key to True. If the input is unrelated or outside your scope, set the \u001b[39m\u001b[38;5;124m\"\u001b[39m\u001b[38;5;124mstatus\u001b[39m\u001b[38;5;124m\"\u001b[39m\u001b[38;5;124m key to False.\u001b[39m\n\u001b[0;32m      9\u001b[0m \n\u001b[0;32m     10\u001b[0m \u001b[38;5;124mEnsure the output is a simple JSON object with no additional text or nested structures.\u001b[39m\n\u001b[0;32m     11\u001b[0m \n\u001b[0;32m     12\u001b[0m \u001b[38;5;124m\"\"\"\u001b[39m\n\u001b[0;32m     13\u001b[0m     ),\n\u001b[0;32m     14\u001b[0m     ChatMessage(role\u001b[38;5;241m=\u001b[39m\u001b[38;5;124m\"\u001b[39m\u001b[38;5;124muser\u001b[39m\u001b[38;5;124m\"\u001b[39m, content\u001b[38;5;241m=\u001b[39m\u001b[38;5;124m\"\u001b[39m\u001b[38;5;124mspent 1k rs on neuro surgeon\u001b[39m\u001b[38;5;124m\"\u001b[39m),\n\u001b[0;32m     15\u001b[0m ]\n\u001b[0;32m     16\u001b[0m resp \u001b[38;5;241m=\u001b[39m llm\u001b[38;5;241m.\u001b[39mchat(messages)\n\u001b[0;32m     18\u001b[0m data \u001b[38;5;241m=\u001b[39m resp\u001b[38;5;241m.\u001b[39mmodel_dump()  \u001b[38;5;66;03m# This gives you the full response as a dictionary\u001b[39;00m\n",
      "\u001b[1;31mNameError\u001b[0m: name 'ChatMessage' is not defined"
     ]
    }
   ],
   "source": [
    "messages = [\n",
    "    ChatMessage(\n",
    "        role=\"system\", content:\"\"\"\n",
    "        You are a medical entity recognition system. Your task is to extract information and return a JSON object with exactly three keys: \"amount\", \"expenditure\", and \"status\". \n",
    "\n",
    "1. Extract the monetary value and assign it to the \"amount\" key.\n",
    "2. Identify the category of expenditure and assign it to the \"expenditure\" key. The expenditure should be classified into one of the following categories: \"tests\", \"doctor\", or \"medicine\".\n",
    "3. If the input is related to medical expenses, set the \"status\" key to True. If the input is unrelated or outside your scope, set the \"status\" key to False.\n",
    "\n",
    "Ensure the output is a simple JSON object with no additional text or nested structures.\n",
    "\n",
    "\"\"\"\n",
    "    ),\n",
    "    ChatMessage(role=\"user\", content=\"spent 1k rs on neuro surgeon\"),\n",
    "]\n",
    "resp = llm.chat(messages)\n",
    "\n",
    "data = resp.model_dump()  # This gives you the full response as a dictionary\n",
    "message_content = data['message']['content']  # Extract the 'content' part"
   ]
  },
  {
   "cell_type": "code",
   "execution_count": 31,
   "id": "2ca1bb25-f7fe-4758-9f83-d07da3c7087f",
   "metadata": {},
   "outputs": [],
   "source": [
    "chat_completion = client.chat.completions.create(\n",
    "    messages=[\n",
    "         {\"role\":\"system\", \"content\":\"\"\"\n",
    "        You are a medical entity recognition system. Your task is to extract information and return a JSON object with exactly three keys: \"amount\", \"expenditure\", and \"status\". \n",
    "\n",
    "        1. Extract the monetary value and assign it to the \"amount\" key and value should be whole number.\n",
    "        2. Identify the category of expenditure and assign it to the \"expenditure\" key. The expenditure should be classified into one of the following categories: \"tests\", \"doctor\", or \"medicine\".\n",
    "        3. If the input is related to medical expenses, set the \"status\" key to \"true\". If the input is unrelated or outside your scope, set the \"status\" key to \"false\".\n",
    "        \n",
    "        Ensure the output is a simple JSON object with no additional text or nested structures.\n",
    "        give me the json with no preamble and the value of status key will be in double quotes cumpolsurily\n",
    "        \"\"\"\n",
    "         },\n",
    "         {\n",
    "            \"role\": \"user\",\n",
    "            \"content\": \"spent 13k rs on neuro surgeon\",\n",
    "        }\n",
    "    ],\n",
    "    model=\"llama3-70b-8192\",\n",
    ")\n",
    "\n",
    "resp=chat_completion.choices[0].message.content"
   ]
  },
  {
   "cell_type": "code",
   "execution_count": 32,
   "id": "34940ce8-6f14-4623-813e-58580c92e6d7",
   "metadata": {},
   "outputs": [
    {
     "data": {
      "text/plain": [
       "{'amount': 13000, 'expenditure': 'doctor', 'status': 'true'}"
      ]
     },
     "execution_count": 32,
     "metadata": {},
     "output_type": "execute_result"
    }
   ],
   "source": [
    "eval(resp)"
   ]
  },
  {
   "cell_type": "code",
   "execution_count": 1,
   "id": "80813577-231b-4777-8c51-bef2c87a2881",
   "metadata": {},
   "outputs": [],
   "source": [
    "import psycopg2\n",
    "import pandas as pd\n",
    "from sqlalchemy import create_engine,text as to_sql_text\n",
    "\n",
    "\n",
    "db_username = 'myuser'\n",
    "db_password = 'root'\n",
    "db_host = 'localhost'\n",
    "db_port = '5432'\n",
    "db_name = 'medwell_db'\n",
    "\n",
    "connection_string = f'postgresql+psycopg2://{db_username}:{db_password}@{db_host}:{db_port}/{db_name}'\n",
    "engine = create_engine(connection_string)\n",
    "conn=engine.connect()"
   ]
  },
  {
   "cell_type": "code",
   "execution_count": 2,
   "id": "15b7da10-6ddd-4139-b146-473cc555060e",
   "metadata": {},
   "outputs": [],
   "source": [
    "import pandas as pd"
   ]
  },
  {
   "cell_type": "code",
   "execution_count": 18,
   "id": "e36127cd-6cd3-4175-a983-823425e24330",
   "metadata": {},
   "outputs": [],
   "source": [
    "df=pd.read_sql_query('''select expense_type,amount,date(date) from patient_expense order by date desc limit 10;''',engine)"
   ]
  },
  {
   "cell_type": "code",
   "execution_count": 19,
   "id": "6e64bae7-9cb9-4576-8c0e-a7b3620cf848",
   "metadata": {},
   "outputs": [],
   "source": [
    "df['date'] = pd.to_datetime(df['date'])\n",
    "df['date'] = df['date'].dt.strftime('%Y-%m-%d')"
   ]
  },
  {
   "cell_type": "code",
   "execution_count": 20,
   "id": "e7768755-ee38-4c58-b58a-e4c7dff9ccd4",
   "metadata": {},
   "outputs": [
    {
     "data": {
      "text/plain": [
       "[{'expense_type': 'reports', 'amount': '500', 'date': '2024-10-26'},\n",
       " {'expense_type': 'doctor', 'amount': '10000', 'date': '2024-10-26'},\n",
       " {'expense_type': 'doctor', 'amount': '10000', 'date': '2024-10-26'}]"
      ]
     },
     "execution_count": 20,
     "metadata": {},
     "output_type": "execute_result"
    }
   ],
   "source": [
    "df.to_dict(\"records\")"
   ]
  },
  {
   "cell_type": "code",
   "execution_count": 15,
   "id": "6ab39dde-110a-4c33-a9f3-7985d6e7dd5c",
   "metadata": {},
   "outputs": [
    {
     "data": {
      "text/html": [
       "<div>\n",
       "<style scoped>\n",
       "    .dataframe tbody tr th:only-of-type {\n",
       "        vertical-align: middle;\n",
       "    }\n",
       "\n",
       "    .dataframe tbody tr th {\n",
       "        vertical-align: top;\n",
       "    }\n",
       "\n",
       "    .dataframe thead th {\n",
       "        text-align: right;\n",
       "    }\n",
       "</style>\n",
       "<table border=\"1\" class=\"dataframe\">\n",
       "  <thead>\n",
       "    <tr style=\"text-align: right;\">\n",
       "      <th></th>\n",
       "      <th>expense_type</th>\n",
       "      <th>amount</th>\n",
       "      <th>date</th>\n",
       "    </tr>\n",
       "  </thead>\n",
       "  <tbody>\n",
       "    <tr>\n",
       "      <th>0</th>\n",
       "      <td>reports</td>\n",
       "      <td>500</td>\n",
       "      <td>2024-10-26</td>\n",
       "    </tr>\n",
       "    <tr>\n",
       "      <th>1</th>\n",
       "      <td>doctor</td>\n",
       "      <td>10000</td>\n",
       "      <td>2024-10-26</td>\n",
       "    </tr>\n",
       "    <tr>\n",
       "      <th>2</th>\n",
       "      <td>doctor</td>\n",
       "      <td>10000</td>\n",
       "      <td>2024-10-26</td>\n",
       "    </tr>\n",
       "  </tbody>\n",
       "</table>\n",
       "</div>"
      ],
      "text/plain": [
       "  expense_type amount        date\n",
       "0      reports    500  2024-10-26\n",
       "1       doctor  10000  2024-10-26\n",
       "2       doctor  10000  2024-10-26"
      ]
     },
     "execution_count": 15,
     "metadata": {},
     "output_type": "execute_result"
    }
   ],
   "source": [
    "df"
   ]
  },
  {
   "cell_type": "code",
   "execution_count": 21,
   "id": "a11bbb70-de1c-4d32-bcfe-1e24c5e0952c",
   "metadata": {},
   "outputs": [],
   "source": [
    "df=pd.read_sql_query('''\n",
    "SELECT expense_type,SUM(CAST(amount AS DECIMAL)) as total\n",
    "from patient_expense\n",
    "where user_id=43\n",
    "group by expense_type\n",
    ";\n",
    "''',engine)"
   ]
  },
  {
   "cell_type": "code",
   "execution_count": 28,
   "id": "108bf168-94c1-46ee-8dd4-46e4f11d3cd2",
   "metadata": {},
   "outputs": [
    {
     "data": {
      "text/plain": [
       "{'expense_type': ['doctor', 'reports'], 'total': [20000.0, 500.0]}"
      ]
     },
     "execution_count": 28,
     "metadata": {},
     "output_type": "execute_result"
    }
   ],
   "source": [
    "df.to_dict(\"list\")"
   ]
  },
  {
   "cell_type": "code",
   "execution_count": 29,
   "id": "99f20a1b-7be2-4bc8-b899-c4228bfe55c9",
   "metadata": {},
   "outputs": [],
   "source": [
    "df=pd.read_sql_query('''\n",
    "SELECT CAST(amount AS DECIMAL) as expenses\n",
    "from patient_expense\n",
    "where user_id=43\n",
    "\n",
    ";\n",
    "''',engine)"
   ]
  },
  {
   "cell_type": "code",
   "execution_count": 31,
   "id": "57b1618f-6859-49ce-ba5b-0808a88ed0ed",
   "metadata": {},
   "outputs": [
    {
     "data": {
      "text/plain": [
       "{'expenses': [500.0, 10000.0, 10000.0]}"
      ]
     },
     "execution_count": 31,
     "metadata": {},
     "output_type": "execute_result"
    }
   ],
   "source": [
    "df.to_dict(\"list\")"
   ]
  },
  {
   "cell_type": "code",
   "execution_count": 36,
   "id": "3eb4202f-ae84-48b7-be84-7e9a475fdd9c",
   "metadata": {},
   "outputs": [],
   "source": [
    "df=pd.read_sql_query('''\n",
    "SELECT to_char(date, 'Month') AS month_name,sum(CAST(amount AS DECIMAL)) as expenses,date_part('month', date) AS month\n",
    "from patient_expense\n",
    "where user_id=43\n",
    "group by to_char(date, 'Month'),date_part('month', date)\n",
    "order by date_part('month', date)\n",
    ";\n",
    "''',engine)[[\"month_name\",\"expenses\"]]"
   ]
  },
  {
   "cell_type": "code",
   "execution_count": 37,
   "id": "ab6b0fb7-370a-4ddd-90f2-8a745eb44677",
   "metadata": {},
   "outputs": [
    {
     "data": {
      "text/plain": [
       "{'month_name': ['October  '], 'expenses': [20500.0]}"
      ]
     },
     "execution_count": 37,
     "metadata": {},
     "output_type": "execute_result"
    }
   ],
   "source": [
    "df.to_dict(\"list\")"
   ]
  },
  {
   "cell_type": "code",
   "execution_count": 38,
   "id": "6d40fd37-1751-42be-8fc4-474fb5a99737",
   "metadata": {},
   "outputs": [
    {
     "data": {
      "text/plain": [
       "{'expenses': [20500.0], 'year': [2024.0]}"
      ]
     },
     "execution_count": 38,
     "metadata": {},
     "output_type": "execute_result"
    }
   ],
   "source": [
    "df=pd.read_sql_query('''\n",
    "SELECT sum(CAST(amount AS DECIMAL)) as expenses,date_part('year', date) AS year\n",
    "from patient_expense\n",
    "where user_id=43\n",
    "group by date_part('year', date)\n",
    "order by date_part('year', date)\n",
    ";\n",
    "''',engine)\n",
    "df.to_dict(\"list\")"
   ]
  },
  {
   "cell_type": "code",
   "execution_count": 39,
   "id": "f7881083-6f8c-452e-bac7-6ace21fbbc81",
   "metadata": {},
   "outputs": [
    {
     "data": {
      "text/plain": [
       "{'month': [10.0, 10.0],\n",
       " 'expense_type': ['doctor', 'reports'],\n",
       " 'expenses': [20000.0, 500.0]}"
      ]
     },
     "execution_count": 39,
     "metadata": {},
     "output_type": "execute_result"
    }
   ],
   "source": [
    "df=pd.read_sql_query('''\n",
    "SELECT date_part('month', date) AS month,expense_type,sum(CAST(amount AS DECIMAL)) as expenses\n",
    "from patient_expense\n",
    "where user_id=43\n",
    "group by date_part('month', date),expense_type\n",
    "order by date_part('month', date)\n",
    ";\n",
    ";\n",
    "''',engine)\n",
    "df.to_dict(\"list\")"
   ]
  },
  {
   "cell_type": "code",
   "execution_count": 48,
   "id": "06a5bc8f-af78-4c8c-8d19-b34187ca38ce",
   "metadata": {},
   "outputs": [
    {
     "data": {
      "text/plain": [
       "{'month': [10.0, 10.0],\n",
       " 'expense_type': ['doctor', 'reports'],\n",
       " 'expenses': [20000.0, 500.0]}"
      ]
     },
     "execution_count": 48,
     "metadata": {},
     "output_type": "execute_result"
    }
   ],
   "source": [
    "df.to_dict(\"list\")"
   ]
  },
  {
   "cell_type": "code",
   "execution_count": 61,
   "id": "493cbc3c-4a3a-449b-b41d-d52c57759eb1",
   "metadata": {},
   "outputs": [],
   "source": [
    "grouped_df = df.groupby(by=\"month\")\n",
    "\n",
    "# Convert to the desired JSON-like structure\n",
    "result = []"
   ]
  },
  {
   "cell_type": "code",
   "execution_count": 62,
   "id": "b4e4da1c-9941-419f-bd9f-1da17f6e1f9e",
   "metadata": {},
   "outputs": [
    {
     "name": "stdout",
     "output_type": "stream",
     "text": [
      "10.0\n",
      "   month expense_type  expenses\n",
      "0   10.0       doctor   20000.0\n",
      "1   10.0      reports     500.0\n"
     ]
    }
   ],
   "source": [
    "for month,df in grouped_df:\n",
    "    print(month)\n",
    "    print(df)\n",
    "    month_data = {\n",
    "        \"month\": month,\n",
    "        \"data\": df[[\"expense_type\",\"expenses\"]].to_dict(\"list\")\n",
    "    }\n",
    "    result.append(month_data)"
   ]
  },
  {
   "cell_type": "code",
   "execution_count": 63,
   "id": "502c9e81-d5a7-4e4f-b2db-2c85a1960593",
   "metadata": {},
   "outputs": [
    {
     "data": {
      "text/plain": [
       "[{'month': 10.0,\n",
       "  'data': {'expense_type': ['doctor', 'reports'],\n",
       "   'expenses': [20000.0, 500.0]}}]"
      ]
     },
     "execution_count": 63,
     "metadata": {},
     "output_type": "execute_result"
    }
   ],
   "source": [
    "result"
   ]
  },
  {
   "cell_type": "code",
   "execution_count": null,
   "id": "5262417f-2cee-4d76-a9a1-c7eb35b70b0e",
   "metadata": {},
   "outputs": [],
   "source": [
    "SELECT date_part('year', date) AS month,expense_type,sum(CAST(amount AS DECIMAL)) as expenses\n",
    "from patient_expense\n",
    "where user_id=43\n",
    "group by date_part('year', date),expense_type\n",
    "order by date_part('year', date)\n",
    ";"
   ]
  },
  {
   "cell_type": "code",
   "execution_count": 81,
   "id": "2b52a15b-6f02-4bb8-8aca-ed4b668a4b4b",
   "metadata": {},
   "outputs": [],
   "source": [
    "df=pd.read_sql_query('''\n",
    "    select date_of_report,report_type,report_data from patient_report r join patient_reportdetail d on r.id=d.report_id \n",
    "    order by r.submitted_at desc\n",
    "    limit 5;\n",
    "    ''',engine)"
   ]
  },
  {
   "cell_type": "code",
   "execution_count": 22,
   "id": "723b5065-a8b1-47d7-a802-a117efd90258",
   "metadata": {},
   "outputs": [],
   "source": [
    "def generate_report_text(report_data):\n",
    "    report_text = \"\"\n",
    "    for test, details in report_data.items():\n",
    "        min_val = details['min']\n",
    "        max_val = details['max']\n",
    "        unit = details['unit']\n",
    "        value = details['value']\n",
    "        if value==-1:continue\n",
    "        \n",
    "        value_text = f\"{value} {unit}\" if value != -1 else \"Not available\"\n",
    "        \n",
    "        report_text += f\"{test.capitalize()}: Normal range {min_val}-{max_val} {unit}, Current value: {value_text}\\n\"\n",
    "    \n",
    "    return report_text"
   ]
  },
  {
   "cell_type": "code",
   "execution_count": 82,
   "id": "5b07f595-51d4-4b2b-920e-654dd95247b9",
   "metadata": {},
   "outputs": [],
   "source": [
    "df[\"report_data\"]=df.report_data.apply(generate_report_text)"
   ]
  },
  {
   "cell_type": "code",
   "execution_count": 14,
   "id": "cc31f7c1-c9fb-45c0-a14a-855930c71438",
   "metadata": {},
   "outputs": [
    {
     "data": {
      "text/plain": [
       "'Pcv: Normal range 36-50 %, Current value: 32 %\\nIron: Normal range 60-170 μg/dL, Current value: Not available\\nSodium: Normal range 135-145 mmol/L, Current value: Not available\\nAlbumin: Normal range 3.5-5.0 g/dL, Current value: Not available\\nCalcium: Normal range 8.5-10.2 mg/dL, Current value: Not available\\nChloride: Normal range 98-107 mmol/L, Current value: Not available\\nGlobulin: Normal range 2.0-4.0 g/dL, Current value: Not available\\nProteins: Normal range 6.0-8.0 g/dL, Current value: Not available\\nPotassium: Normal range 3.5-5.0 mmol/L, Current value: Not available\\nRbc_count: Normal range 4.2-5.4 million cells/μL, Current value: 3.98 million cells/μL\\nWbc_count: Normal range 4.5-11.0 thousand cells/μL, Current value: 5100 thousand cells/μL\\nBlood_urea: Normal range 7-20 mg/dL, Current value: Not available\\nHemoglobin: Normal range 12.1-15.5 g/dL, Current value: 10.8 g/dL\\nPhosphorus: Normal range 2.5-4.5 mg/dL, Current value: Not available\\nLymphocytes: Normal range 20-45 %, Current value: 15 %\\nNeutrophils: Normal range 40-75 %, Current value: 80 %\\nS_uric_acid: Normal range 3.5-7.2 mg/dL, Current value: Not available\\nS_creatinine: Normal range 0.6-1.2 mg/dL, Current value: Not available\\nS_phosphorus: Normal range 2.5-4.5 mg/dL, Current value: Not available\\nFasting_sugar: Normal range 70-100 mg/dL, Current value: Not available\\nPlatelet_count: Normal range 150000-450000 cells/μL, Current value: 159000 cells/μL\\nSr_cholesterol: Normal range 0-200 mg/dL, Current value: Not available\\nBilirubin_total: Normal range 0.1-1.2 mg/dL, Current value: Not available\\nHdl_cholesterol: Normal range 40-60 mg/dL, Current value: Not available\\nBilirubin_direct: Normal range 0.0-0.3 mg/dL, Current value: Not available\\nAfter_lunch_sugar: Normal range 70-140 mg/dL, Current value: Not available\\nBilirubin_indirect: Normal range 0.1-0.8 mg/dL, Current value: Not available\\nBlood_urea_nitrogen: Normal range 7-20 mg/dL, Current value: Not available\\n'"
      ]
     },
     "execution_count": 14,
     "metadata": {},
     "output_type": "execute_result"
    }
   ],
   "source": [
    "df.iloc[0].report_data"
   ]
  },
  {
   "cell_type": "code",
   "execution_count": 83,
   "id": "fa6fbde3-fa74-4710-a2b4-366cafd5e821",
   "metadata": {},
   "outputs": [
    {
     "data": {
      "text/html": [
       "<div>\n",
       "<style scoped>\n",
       "    .dataframe tbody tr th:only-of-type {\n",
       "        vertical-align: middle;\n",
       "    }\n",
       "\n",
       "    .dataframe tbody tr th {\n",
       "        vertical-align: top;\n",
       "    }\n",
       "\n",
       "    .dataframe thead th {\n",
       "        text-align: right;\n",
       "    }\n",
       "</style>\n",
       "<table border=\"1\" class=\"dataframe\">\n",
       "  <thead>\n",
       "    <tr style=\"text-align: right;\">\n",
       "      <th></th>\n",
       "      <th>date_of_report</th>\n",
       "      <th>report_type</th>\n",
       "      <th>report_data</th>\n",
       "    </tr>\n",
       "  </thead>\n",
       "  <tbody>\n",
       "    <tr>\n",
       "      <th>0</th>\n",
       "      <td>11/09/22</td>\n",
       "      <td>blood_report</td>\n",
       "      <td>Pcv: Normal range 36-50 %, Current value: 32 %...</td>\n",
       "    </tr>\n",
       "    <tr>\n",
       "      <th>1</th>\n",
       "      <td>3/8/24</td>\n",
       "      <td>blood_report</td>\n",
       "      <td>Pcv: Normal range 36-50 %, Current value: 38 %...</td>\n",
       "    </tr>\n",
       "    <tr>\n",
       "      <th>2</th>\n",
       "      <td>13/8/24</td>\n",
       "      <td>blood_report</td>\n",
       "      <td>Pcv: Normal range 36-50 %, Current value: 31 %...</td>\n",
       "    </tr>\n",
       "  </tbody>\n",
       "</table>\n",
       "</div>"
      ],
      "text/plain": [
       "  date_of_report   report_type  \\\n",
       "0       11/09/22  blood_report   \n",
       "1         3/8/24  blood_report   \n",
       "2        13/8/24  blood_report   \n",
       "\n",
       "                                         report_data  \n",
       "0  Pcv: Normal range 36-50 %, Current value: 32 %...  \n",
       "1  Pcv: Normal range 36-50 %, Current value: 38 %...  \n",
       "2  Pcv: Normal range 36-50 %, Current value: 31 %...  "
      ]
     },
     "execution_count": 83,
     "metadata": {},
     "output_type": "execute_result"
    }
   ],
   "source": [
    "df"
   ]
  },
  {
   "cell_type": "code",
   "execution_count": 84,
   "id": "17125687-2945-4ccf-9bc6-a478106e3d3b",
   "metadata": {},
   "outputs": [],
   "source": [
    "entire_data_text=\"\""
   ]
  },
  {
   "cell_type": "code",
   "execution_count": 85,
   "id": "c94ee1a4-5075-4f16-976d-873aa6dedb4c",
   "metadata": {},
   "outputs": [],
   "source": [
    "for index,data in df.iterrows():\n",
    "    text=f'''\n",
    "    report date:{data.date_of_report} report type : {data.report_type}\n",
    "    report data :\n",
    "    {data.report_data}\n",
    "    \\n\n",
    "    '''\n",
    "    entire_data_text+=text\n",
    "    "
   ]
  },
  {
   "cell_type": "code",
   "execution_count": 86,
   "id": "e9fe16ed-99b2-4071-bace-4aaa0f43b56e",
   "metadata": {},
   "outputs": [
    {
     "data": {
      "text/plain": [
       "2826"
      ]
     },
     "execution_count": 86,
     "metadata": {},
     "output_type": "execute_result"
    }
   ],
   "source": [
    "len(entire_data_text)"
   ]
  },
  {
   "cell_type": "code",
   "execution_count": 28,
   "id": "df0a7035-9027-47be-a0f8-1ba192875d0a",
   "metadata": {},
   "outputs": [
    {
     "data": {
      "text/plain": [
       "2826"
      ]
     },
     "execution_count": 28,
     "metadata": {},
     "output_type": "execute_result"
    }
   ],
   "source": [
    "len(entire_data_text)"
   ]
  },
  {
   "cell_type": "code",
   "execution_count": 70,
   "id": "7aee327c-cc3a-4a46-ab95-c47529ae047f",
   "metadata": {},
   "outputs": [],
   "source": [
    "from langchain_core.output_parsers import JsonOutputParser\n",
    "parser=JsonOutputParser()"
   ]
  },
  {
   "cell_type": "code",
   "execution_count": 87,
   "id": "617b689b-3b77-4bc2-a260-e5f4d854aa68",
   "metadata": {},
   "outputs": [],
   "source": [
    "chat_completion = client.chat.completions.create(\n",
    "    messages=[\n",
    "         {\"role\":\"system\", \"content\":\"\"\"\n",
    "        You will receive a user's complete medical history, including:\n",
    "\n",
    "Date of report\n",
    "Type of report\n",
    "Detailed report data with various metrics, each indicating its normal range, unit, and current measured value.\n",
    "Task: Analyze this data to:\n",
    "\n",
    "Provide an overall health summary of approximately 400 words that:\n",
    "\n",
    "Highlights trends in critical health metrics and any notable fluctuations over time.\n",
    "Identifies deficiencies, excesses, or patterns that may indicate potential health concerns \n",
    "Assesses the user’s overall health status, detailing how well their results align with healthy ranges and discussing implications of any recurring deviations from these ranges.\n",
    "Create a personalized diet and nutrition plan that:\n",
    "\n",
    "Recommends specific foods and dietary adjustments to address the user’s unique needs (e.g., foods rich in iron, vitamin D, or low in sodium).\n",
    "Includes general advice to support balanced nutrition and ongoing health improvement based on observed trends.\n",
    "Output Format: Return a JSON object structured as follows, with no extra text or preamble:\n",
    "\n",
    "\"summary\": A string containing the detailed health summary.\n",
    "\"plans\": A string containing the personalized diet and nutrition plan.\n",
    "Return the JSON in a precise format with no additional whitespace before or after keys and no preamble.\n",
    "        \"\"\"\n",
    "         },\n",
    "         {\n",
    "            \"role\": \"user\",\n",
    "            \"content\": entire_data_text,\n",
    "        }\n",
    "    ],\n",
    "    model=\"llama3-70b-8192\",\n",
    ")\n",
    "\n",
    "resp=chat_completion.choices[0].message.content"
   ]
  },
  {
   "cell_type": "code",
   "execution_count": 68,
   "id": "edc6a9a2-9eb3-443d-8eef-b80cafebb83f",
   "metadata": {},
   "outputs": [
    {
     "ename": "SyntaxError",
     "evalue": "unterminated string literal (detected at line 3) (<string>, line 3)",
     "output_type": "error",
     "traceback": [
      "Traceback \u001b[1;36m(most recent call last)\u001b[0m:\n",
      "\u001b[0m  File \u001b[0;32mB:\\Major Project\\major\\Lib\\site-packages\\IPython\\core\\interactiveshell.py:3577\u001b[0m in \u001b[0;35mrun_code\u001b[0m\n    exec(code_obj, self.user_global_ns, self.user_ns)\u001b[0m\n",
      "\u001b[1;36m  Cell \u001b[1;32mIn[68], line 1\u001b[1;36m\n\u001b[1;33m    eval(resp)[\"summary\"]\u001b[1;36m\n",
      "\u001b[1;36m  File \u001b[1;32m<string>:3\u001b[1;36m\u001b[0m\n\u001b[1;33m    \"Based on the medical history of the user, there are some concerns regarding their overall health.\u001b[0m\n\u001b[1;37m    ^\u001b[0m\n\u001b[1;31mSyntaxError\u001b[0m\u001b[1;31m:\u001b[0m unterminated string literal (detected at line 3)\n"
     ]
    }
   ],
   "source": [
    "eval(resp)[\"summary\"]"
   ]
  },
  {
   "cell_type": "code",
   "execution_count": 88,
   "id": "872f9d89-ce75-43ad-99b5-8023737bc342",
   "metadata": {},
   "outputs": [
    {
     "name": "stdout",
     "output_type": "stream",
     "text": [
      "Based on the user's unique needs, a personalized diet and nutrition plan is recommended. To address anemia, the user should increase consumption of iron-rich foods such as red meat, spinach, and fortified cereals. Vitamin C-rich foods like citrus fruits, bell peppers, and broccoli can help increase iron absorption. To support balanced nutrition, the user should increase consumption of fruits, vegetables, whole grains, and lean proteins. \n",
      "\n",
      "Additionally, the user should limit sodium intake to address potential kidney dysfunction. Foods rich in vitamin D, calcium, and phosphorus can help support bone health. Foods high in antioxidants like berries, nuts, and leafy greens can help reduce inflammation. \n",
      "\n",
      "It is essential to consult with a healthcare professional to develop a comprehensive treatment plan that addresses the user's specific health needs.\n"
     ]
    }
   ],
   "source": [
    "print(parser.parse(resp)[\"plans\"])"
   ]
  },
  {
   "cell_type": "code",
   "execution_count": 20,
   "id": "8ec28236-68eb-4ef0-b3a1-a93a7d325d8a",
   "metadata": {},
   "outputs": [],
   "source": [
    "df=pd.read_sql_query(sql=to_sql_text('''select round(avg(cast(hemoglobin as decimal)),2) as avg_hemoglobin,\n",
    "    round(avg(cast(rbc_count as decimal)),2) as avg_rbc_count,\n",
    "    round(avg(cast(wbc_count as decimal)),2) as avg_wbc_count\n",
    "    from patient_report p join patient_reportdetail r on r.report_id=p.id\n",
    "    where p.user_id=43'''),con=conn)"
   ]
  },
  {
   "cell_type": "code",
   "execution_count": 18,
   "id": "af3449a2-408f-463a-aa27-cb5adfb53f6a",
   "metadata": {},
   "outputs": [],
   "source": [
    "\n",
    "df[\"submitted_at\"]=df.submitted_at.astype(str)"
   ]
  },
  {
   "cell_type": "code",
   "execution_count": 24,
   "id": "70e44f0a-300d-47eb-b40c-4001669dfccb",
   "metadata": {},
   "outputs": [
    {
     "data": {
      "text/plain": [
       "{'avg_hemoglobin': 11.48, 'avg_rbc_count': 4.32, 'avg_wbc_count': 8075.0}"
      ]
     },
     "execution_count": 24,
     "metadata": {},
     "output_type": "execute_result"
    }
   ],
   "source": [
    "df.to_dict(\"records\")[0]"
   ]
  },
  {
   "cell_type": "code",
   "execution_count": null,
   "id": "0f0411af-9e59-496f-b201-b3a1de953f52",
   "metadata": {},
   "outputs": [],
   "source": []
  }
 ],
 "metadata": {
  "kernelspec": {
   "display_name": "major",
   "language": "python",
   "name": "major"
  },
  "language_info": {
   "codemirror_mode": {
    "name": "ipython",
    "version": 3
   },
   "file_extension": ".py",
   "mimetype": "text/x-python",
   "name": "python",
   "nbconvert_exporter": "python",
   "pygments_lexer": "ipython3",
   "version": "3.11.5"
  }
 },
 "nbformat": 4,
 "nbformat_minor": 5
}
