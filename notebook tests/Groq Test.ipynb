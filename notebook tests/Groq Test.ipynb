{
 "cells": [
  {
   "cell_type": "code",
   "execution_count": 1,
   "id": "2eea0127-18a2-4c02-ae5d-000d34abd02a",
   "metadata": {},
   "outputs": [],
   "source": [
    "import pdfplumber\n",
    "import groq\n",
    "import ollama\n",
    "import os\n",
    "from langchain_groq import ChatGroq\n",
    "from langchain_core.output_parsers import JsonOutputParser\n",
    "from langchain_ollama import ChatOllama\n",
    "from langchain_core.prompts.prompt import PromptTemplate"
   ]
  },
  {
   "cell_type": "code",
   "execution_count": 89,
   "id": "a76523b9-1dc6-439d-b157-c97f9e90db4b",
   "metadata": {},
   "outputs": [],
   "source": [
    "pdf=pdfplumber.open(\"test3.pdf\")\n",
    "pages=pdf.pages"
   ]
  },
  {
   "cell_type": "code",
   "execution_count": 90,
   "id": "5490f706-db46-400d-b28b-1e6c65e5d601",
   "metadata": {},
   "outputs": [],
   "source": [
    "text=\"\"\n",
    "for i in range(6):\n",
    "    text+=pages[i].extract_text()\n"
   ]
  },
  {
   "cell_type": "code",
   "execution_count": 9,
   "id": "f67999da-a904-4152-991f-338677ab9648",
   "metadata": {},
   "outputs": [],
   "source": [
    "from groq import Groq"
   ]
  },
  {
   "cell_type": "code",
   "execution_count": 10,
   "id": "f12c5477-8f35-480f-9e31-7974bbb9bf02",
   "metadata": {},
   "outputs": [],
   "source": [
    "client=Groq(api_key=\"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\")"
   ]
  },
  {
   "cell_type": "code",
   "execution_count": 102,
   "id": "1df09d33-c562-423f-b9e2-7d17d741dc69",
   "metadata": {},
   "outputs": [],
   "source": [
    "prompt='''\n",
    "you are a medical report parser.\n",
    "Give me the output in json format strictly with no preamble.\n",
    "If you dont get any value assign it None\n",
    "Extract the following fields\n",
    "    name of the doctor with key as \"doctor_name\"\n",
    "    date of report with key as \"date_of_report\" with dd/mm/yy format\n",
    "    date of collection with key as \"date_of_collections\" with dd/mm/yy format\n",
    "    hemoglobin with key as \"hemoglobin\"\n",
    "    rbc count with key as \"rbc_count\"\n",
    "    wbc count with key as \"wbc_count\"\n",
    "    pcv with key as \"pcv\"\n",
    "    iron with key as \"iron\"\n",
    "    sodium with key \"sodium\"\n",
    "    pottasium with key \"pottasium\"\n",
    "    phosphorus with key \"phosphorus\"\n",
    "    chloride with key \"chloride\"\n",
    "    platelet count with key as \"platelet_count\"\n",
    "    bilirubin total with key as \"bilirubin_total\"\n",
    "    bilirubin direct with key as \"bilirubin_direct\"\n",
    "    bilirubin indirect with key as \"bilirubin_indirect\"\n",
    "    protiens with key as \"protiens\"\n",
    "    calcium with key as \"calcium\"\n",
    "    albumin with key as \"albumin\"\n",
    "    Globulin with key as \"globulin\"\n",
    "    Blood Urea with the key \"blood_urea\"\n",
    "    Blood Urea Nitrogen with the key \"blood_urea_nitrogen\"\n",
    "    S. Creatinine with the key \"s_creatinine\"\n",
    "    S. Uric Acid with the key \"s_uric_acid\"\n",
    "    S. Phosphorus with the key \"s_phosphorus\"\n",
    "    Neutrophils with the key \"neutrophils\".\n",
    "    Lymphocytes with the key \"lymphocytes\".\n",
    "    Sr. Cholesterol with the key \"sr_cholesterol\".\n",
    "    HDL Cholesterol with the key \"hdl_cholesterol\".\n",
    "    fasting sugar with key \"fasting_sugar\"\n",
    "    after lunch sugar with key \"after_lunch_sugar\"\n",
    "    summary of the entire report of each section in short with key \"summary\"\n",
    "Strictly give me in proper json format  and it should not be nested json with no preamble.\n",
    "''' "
   ]
  },
  {
   "cell_type": "code",
   "execution_count": 103,
   "id": "5e5c8206-77ca-44de-8d3d-de6c8e000a02",
   "metadata": {},
   "outputs": [],
   "source": [
    "chat_completion=client.chat.completions.create(\n",
    "    messages=[{'role':\"system\",\"content\":prompt},{\"role\":\"user\",\"content\":text}],\n",
    "    model=\"llama3-70b-8192\"\n",
    ")"
   ]
  },
  {
   "cell_type": "code",
   "execution_count": 105,
   "id": "0afe025d-af0b-444c-af38-faa833a544bb",
   "metadata": {},
   "outputs": [
    {
     "ename": "SyntaxError",
     "evalue": "invalid syntax (<string>, line 1)",
     "output_type": "error",
     "traceback": [
      "Traceback \u001b[1;36m(most recent call last)\u001b[0m:\n",
      "\u001b[0m  File \u001b[0;32mB:\\Major Project\\major\\Lib\\site-packages\\IPython\\core\\interactiveshell.py:3577\u001b[0m in \u001b[0;35mrun_code\u001b[0m\n    exec(code_obj, self.user_global_ns, self.user_ns)\u001b[0m\n",
      "\u001b[1;36m  Cell \u001b[1;32mIn[105], line 1\u001b[1;36m\n\u001b[1;33m    data=eval(chat_completion.choices[0].message.content)\u001b[1;36m\n",
      "\u001b[1;36m  File \u001b[1;32m<string>:1\u001b[1;36m\u001b[0m\n\u001b[1;33m    Here is the output in JSON format:\u001b[0m\n\u001b[1;37m                ^\u001b[0m\n\u001b[1;31mSyntaxError\u001b[0m\u001b[1;31m:\u001b[0m invalid syntax\n"
     ]
    }
   ],
   "source": [
    "data=eval(chat_completion.choices[0].message.content)"
   ]
  },
  {
   "cell_type": "code",
   "execution_count": 81,
   "id": "b9a8a162-2bce-46ae-a6ee-5fd903400429",
   "metadata": {},
   "outputs": [
    {
     "data": {
      "text/plain": [
       "{'doctor_name': 'Raihan Ahmed Siddiqui',\n",
       " 'date_of_report': '03-Aug-2024',\n",
       " 'date_of_collections': '02-Aug-2024',\n",
       " 'hemoglobin': 12.1,\n",
       " 'rbc_count': 4.72,\n",
       " 'wbc_count': 9700,\n",
       " 'pcv': 38,\n",
       " 'platelet_count': 219000,\n",
       " 'bilirubin_total': 0.57,\n",
       " 'bilirubin_direct': 0.19,\n",
       " 'bilirubin_indirect': 0.38,\n",
       " 'protiens': 6.18,\n",
       " 'calcium': 8.19,\n",
       " 'albumin': 3.16,\n",
       " 'globulin': 3.02,\n",
       " 'blood_urea': 21,\n",
       " 'blood_urea_nitrogen': 9.81,\n",
       " 's_creatinine': 0.98,\n",
       " 's_uric_acid': 4.25,\n",
       " 's_phosphorus': 3.84,\n",
       " 'neutrophils': 91,\n",
       " 'lymphocytes': 6,\n",
       " 'sr_cholesterol': None,\n",
       " 'hdl_cholesterol': None,\n",
       " 'fasting_sugar': None,\n",
       " 'after_lunch_sugar': None,\n",
       " 'summary': \"The patient's Hemoglobin, RBC Count, and Platelet Count are slightly low. The patient also has Hypochromia and Mild Microcytosis in RBC Morphology. The patient's Bilirubin Total, Bilirubin Direct, and Bilirubin Indirect are within normal range. The patient's Blood Urea and Blood Urea Nitrogen are slightly high. The patient's S. Creatinine, S. Uric Acid, and S. Phosphorus are within normal range.\"}"
      ]
     },
     "execution_count": 81,
     "metadata": {},
     "output_type": "execute_result"
    }
   ],
   "source": [
    "data"
   ]
  },
  {
   "cell_type": "code",
   "execution_count": 95,
   "id": "91c5c042-2896-47ec-bd82-24f7585a8961",
   "metadata": {},
   "outputs": [],
   "source": [
    "def process_pdf(text):\n",
    "    try:\n",
    "        chat_completion=client.chat.completions.create(\n",
    "            messages=[{'role':\"system\",\"content\":prompt},{\"role\":\"user\",\"content\":text}],\n",
    "            model=\"llama3-70b-8192\"\n",
    "            )\n",
    "        data=eval(chat_completion.choices[0].message.content)\n",
    "        return {\"data\":data,\"status\":True}\n",
    "    except:\n",
    "        return {\"status\":False,\"data\":chat_completion.choices[0].message.content}"
   ]
  },
  {
   "cell_type": "code",
   "execution_count": 106,
   "id": "7cc4e4c5-fe82-42e3-8b38-88e64fe0a8c6",
   "metadata": {},
   "outputs": [
    {
     "data": {
      "text/plain": [
       "{'data': {'doctor_name': 'CLIENT',\n",
       "  'date_of_report': '08/12/2019',\n",
       "  'date_of_collections': '08/12/2019',\n",
       "  'hemoglobin': 15.2,\n",
       "  'rbc_count': 5.46,\n",
       "  'wbc_count': 6.1,\n",
       "  'pcv': 46.8,\n",
       "  'iron': 82,\n",
       "  'sodium': 139,\n",
       "  'pottasium': 4.5,\n",
       "  'phosphorus': 341,\n",
       "  'chloride': 99,\n",
       "  'platelet_count': 228,\n",
       "  'bilirubin_total': 0.4,\n",
       "  'bilirubin_direct': 0.1,\n",
       "  'bilirubin_indirect': 0.3,\n",
       "  'protiens': 8.6,\n",
       "  'calcium': 9.4,\n",
       "  'albumin': 4.4,\n",
       "  'globulin': 4.2,\n",
       "  'blood_urea': 8.0,\n",
       "  'blood_urea_nitrogen': 8.0,\n",
       "  's_creatinine': 0.9,\n",
       "  's_uric_acid': 6.8,\n",
       "  's_phosphorus': 341,\n",
       "  'neutrophils': 56,\n",
       "  'lymphocytes': 32,\n",
       "  'sr_cholesterol': 228,\n",
       "  'hdl_cholesterol': 50,\n",
       "  'fasting_sugar': 84,\n",
       "  'after_lunch_sugar': 125.5,\n",
       "  'summary': 'The report shows some abnormal values, including Hemoglobin, Mean Corpuscular Volume, Mean Corpuscular Hemoglobin, Platelet Count, Total Protein, Globulin, Fasting Sugar, Blood Urea Nitrogen, Creatinine, Uric Acid, Thyroid Stimulating Hormone, Cholesterol, Triglycerides, LDL Cholesterol, and HDL Cholesterol.'},\n",
       " 'status': True}"
      ]
     },
     "execution_count": 106,
     "metadata": {},
     "output_type": "execute_result"
    }
   ],
   "source": [
    "process_pdf(text)"
   ]
  },
  {
   "cell_type": "code",
   "execution_count": 25,
   "id": "30ffb88d-8094-4365-8389-0a5e309afe36",
   "metadata": {},
   "outputs": [],
   "source": [
    "type_prompt='''\n",
    "you are a medical report classifier.\n",
    "you will be given a medical report in text and you have to classify it in blood_report or other.\n",
    "if there are values of hemoglobin,rbc count wbc count,platelet count bilirubin etc then it is a blood report else other.\n",
    "Give me the result in Json format with key as \"type\" with no preamble and no nested json.\n",
    "'''"
   ]
  },
  {
   "cell_type": "code",
   "execution_count": 28,
   "id": "243cd49c-ca91-496b-9aa7-1e98869b48b5",
   "metadata": {},
   "outputs": [],
   "source": [
    "pdf=pdfplumber.open(\"test3.pdf\")\n",
    "pages=pdf.pages"
   ]
  },
  {
   "cell_type": "code",
   "execution_count": 29,
   "id": "3984bba7-f83a-4411-b4ff-8a3cd446a598",
   "metadata": {},
   "outputs": [],
   "source": [
    "text=\"\""
   ]
  },
  {
   "cell_type": "code",
   "execution_count": 30,
   "id": "9e246d82-352d-4919-949b-a4af8e83ae68",
   "metadata": {},
   "outputs": [],
   "source": [
    "for page in pages[:2]:\n",
    "    text+=page.extract_text()"
   ]
  },
  {
   "cell_type": "code",
   "execution_count": 31,
   "id": "0cf9845c-e493-4f88-92dc-99beb58f0d81",
   "metadata": {},
   "outputs": [
    {
     "data": {
      "text/plain": [
       "\"DIAGNOSTIC REPORT\\nCLIENT CODE : C000096169\\nCert. No. MC-2015\\nCLIENT'S NAME AND ADDRESS :\\nNUTRIWELL HEALTH INDIA PVT LTD SRL LIMITED\\n227 OKHLA PHASE lll, FIRST FLOOR, SOUTH DELHI, SRL,REFERENCE LAB, GP-26, MARUTI INDUSTRIAL ESTATE,UDYOG\\nVIHAR,SECTOR-18,\\nDELHI 110020 GURGAON, 122015\\nDELHI INDIA HARYANA, INDIA\\n11-41343500 9873863338 Tel : 1800-222-000, 1800-102-8282, Fax : 0124-4591001 CIN -\\nU74899PB1995PLC045956\\nEmail : connect@srl.in\\nPATIENT NAME : DEVENDER SINGH PATIENT ID :\\nACCESSION NO : 0009SL015385 AGE : 51 Years SEX : Male DATE OF BIRTH :\\nDRAWN : RECEIVED : 08/12/2019 15:48 REPORTED : 08/12/2019 19:45\\nREFERRING DOCTOR : CLIENT PATIENT ID :\\nTest Report Status Final Results Biological Reference Interval Units\\nCOMPLETE CARE TOTAL\\nBLOOD COUNTS\\nHEMOGLOBIN 15.2 13.0 - 17.0 g/dL\\nMETHOD : PHOTOMETRIC MEASUREMENT\\nREDBLOODCELLCOUNT 5.46 4.5 - 5.5 mil/µL\\nMETHOD : COULTER IMPEDENCE PRINCIPLE\\nWHITEBLOODCELLCOUNT 6.10 4.0 - 10.0 thou/µL\\nMETHOD : COULTER IMPEDENCE PRINCIPLE\\nPLATELETCOUNT 228 150 - 410 thou/µL\\nMETHOD : IMPEDENCE / PLATELET HISTOGRAM\\nRBC AND PLATELET INDICES\\nHEMATOCRIT 46.8 40 - 50 %\\nMETHOD : CALCULATED PARAMETER\\nMEANCORPUSCULARVOL 85.8 83.0 - 101.0 fL\\nMETHOD : DERIVED PARAMETER\\nMEANCORPUSCULARHGB. 27.8 27.0 - 32.0 pg\\nMETHOD : CALCULATED PARAMETER\\nMEANCORPUSCULARHEMOGLOBIN 32.5 31.5 - 34.5 g/dL\\nCONCENTRATION\\nMETHOD : CALCULATED PARAMETER\\nREDCELLDISTRIBUTIONWIDTH 13.7 11.6 - 14.0 %\\nMETHOD : DERIVED PARAMETER\\nMEANPLATELETVOLUME 8.7 6.8 - 10.9 fL\\nMETHOD : DERIVED PARAMETER\\nWBC DIFFERENTIAL COUNT\\nSEGMENTEDNEUTROPHILS 56 40 - 80 %\\nMETHOD : VCS TECHNOLOGY/ MICROSCOPY\\nABSOLUTENEUTROPHILCOUNT 3.42 2.0 - 7.0 thou/µL\\nMETHOD : CALCULATED PARAMETER\\nEOSINOPHILS 3 1 - 6 %\\nMETHOD : VCS TECHNOLOGY/ MICROSCOPY\\nABSOLUTEEOSINOPHILCOUNT 0.18 0.02 - 0.50 thou/µL\\nMETHOD : CALCULATED PARAMETER\\nLYMPHOCYTES 32 20 - 40 %\\nMETHOD : VCS TECHNOLOGY/ MICROSCOPY\\nABSOLUTELYMPHOCYTECOUNT 1.95 1.0 - 3.0 thou/µL\\nMETHOD : CALCULATED PARAMETER\\nPage 1 Of 10DIAGNOSTIC REPORT\\nCLIENT CODE : C000096169\\nCert. No. MC-2015\\nCLIENT'S NAME AND ADDRESS :\\nNUTRIWELL HEALTH INDIA PVT LTD SRL LIMITED\\n227 OKHLA PHASE lll, FIRST FLOOR, SOUTH DELHI, SRL,REFERENCE LAB, GP-26, MARUTI INDUSTRIAL ESTATE,UDYOG\\nVIHAR,SECTOR-18,\\nDELHI 110020 GURGAON, 122015\\nDELHI INDIA HARYANA, INDIA\\n11-41343500 9873863338 Tel : 1800-222-000, 1800-102-8282, Fax : 0124-4591001 CIN -\\nU74899PB1995PLC045956\\nEmail : connect@srl.in\\nPATIENT NAME : DEVENDER SINGH PATIENT ID :\\nACCESSION NO : 0009SL015385 AGE : 51 Years SEX : Male DATE OF BIRTH :\\nDRAWN : RECEIVED : 08/12/2019 15:48 REPORTED : 08/12/2019 19:45\\nREFERRING DOCTOR : CLIENT PATIENT ID :\\nTest Report Status Final Results Biological Reference Interval Units\\nMONOCYTES 8 2 - 10 %\\nMETHOD : VCS TECHNOLOGY/ MICROSCOPY\\nABSOLUTEMONOCYTECOUNT 0.49 0.2 - 1.0 thou/µL\\nMETHOD : CALCULATED PARAMETER\\nBASOPHILS 1 < 1 - 2 %\\nMETHOD : VCS TECHNOLOGY/ MICROSCOPY\\nABSOLUTEBASOPHILCOUNT 0.06 0.02 - 0.10 thou/µL\\nMETHOD : CALCULATED PARAMETER\\nDIFFERENTIALCOUNTPERFORMEDON: EDTA SMEAR\\nMETHOD : AUTOMATED ANALYZER / MICROSCOPY\\nDISCLAIMER: THE ABSOLUTE WHITE CELL COUNTS ARE OUTSIDE THE NABL ACCREDITED SCOPE OF THE LABORATORY.\\nERYTHRO SEDIMENTATION RATE, BLOOD\\nSEDIMENTATIONRATE(ESR) 16 High 0 - 14 mm at 1 hr\\nMETHOD : AUTOMATED (PHOTOMETRICAL CAPILLARY STOPPED FLOW KINETIC ANALYSIS)\\nPERIPHERAL SMEAR EXAM, EDTA WHOLE BLOOD\\nRBC PREDOMINANTLY NORMOCYTIC NORMOCHROMIC\\nMETHOD : MICROSCOPIC EXAMINATION\\nWBC NORMAL IN NUMBER, MORPHOLOGY AND DISTRIBUTION\\nMETHOD : MICROSCOPIC EXAMINATION\\nPLATELETS NORMAL IN NUMBER AND MORPHOLOGY.\\nMETHOD : MICROSCOPIC EXAMINATION\\nTOTAL IRON BINDING CAPACITY, SERUM\\nIRON 82 65 - 175 µg/dL\\nMETHOD : SPECTROPHOTOMETRY, FERENE CHROMOPHORE METHOD\\nTOTALIRONBINDINGCAPACITY 341 250 - 450 µg/dL\\nMETHOD : SPECTROPHOTOMETRY – FERENE\\n%SATURATION 24.1 13 - 45 %\\nMETHOD : SPECTROPHOTOMETRY\\nGLUCOSE, FASTING, PLASMA\\nGLUCOSE,FASTING,PLASMA 84 74 - 99 mg/dL\\nMETHOD : SPECTROPHOTOMETRY HEXOKINASE\\nGLYCOSYLATED HEMOGLOBIN, EDTA WHOLE BLOOD\\nGLYCOSYLATEDHEMOGLOBIN(HBA1C) 6.0 High Non-diabetic: < 5.7 %\\nPre-diabetics: 5.7 - 6.4\\nDiabetics: > or = 6.5\\nADA Target: 7.0\\nAction suggested: > 8.0\\nMETHOD : HIGH PERFORMANCE LIQUID CHROMATOGRAPHY (HPLC)\\nPage 2 Of 10\""
      ]
     },
     "execution_count": 31,
     "metadata": {},
     "output_type": "execute_result"
    }
   ],
   "source": [
    "text"
   ]
  },
  {
   "cell_type": "code",
   "execution_count": 32,
   "id": "eb5b834b-3660-4023-b270-d03239d53cbf",
   "metadata": {},
   "outputs": [],
   "source": [
    "chat_completion=client.chat.completions.create(\n",
    "    messages=[{'role':\"system\",\"content\":type_prompt},{\"role\":\"user\",\"content\":text}],\n",
    "    model=\"llama3-70b-8192\"\n",
    ")"
   ]
  },
  {
   "cell_type": "code",
   "execution_count": 33,
   "id": "2ec534e5-2ce2-4d5f-93e1-b01532e67a2a",
   "metadata": {},
   "outputs": [
    {
     "data": {
      "text/plain": [
       "{'type': 'blood_report'}"
      ]
     },
     "execution_count": 33,
     "metadata": {},
     "output_type": "execute_result"
    }
   ],
   "source": [
    "eval(chat_completion.choices[0].message.content)"
   ]
  },
  {
   "cell_type": "code",
   "execution_count": 34,
   "id": "c55e9fcd-479b-4a48-a5d0-3d8ee17c6ae5",
   "metadata": {},
   "outputs": [],
   "source": [
    "other_prompt='''\n",
    "you are a medical report summarizer.\n",
    "summarize the report and give the summary in json format with key as \"summary\".\n",
    "Only give me json with no preamble\n",
    "'''"
   ]
  },
  {
   "cell_type": "code",
   "execution_count": null,
   "id": "21134f09-5a9e-4099-a4b2-a5551eff1017",
   "metadata": {},
   "outputs": [],
   "source": []
  }
 ],
 "metadata": {
  "kernelspec": {
   "display_name": "major",
   "language": "python",
   "name": "major"
  },
  "language_info": {
   "codemirror_mode": {
    "name": "ipython",
    "version": 3
   },
   "file_extension": ".py",
   "mimetype": "text/x-python",
   "name": "python",
   "nbconvert_exporter": "python",
   "pygments_lexer": "ipython3",
   "version": "3.11.5"
  }
 },
 "nbformat": 4,
 "nbformat_minor": 5
}
