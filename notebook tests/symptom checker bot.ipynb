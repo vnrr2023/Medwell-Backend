{
 "cells": [
  {
   "cell_type": "code",
   "execution_count": 1,
   "id": "4779798d-3f14-4ba0-83b0-8b553a44833a",
   "metadata": {},
   "outputs": [],
   "source": [
    "import pandas as pd"
   ]
  },
  {
   "cell_type": "code",
   "execution_count": 2,
   "id": "27892254-3315-40fe-8562-4d5466562b83",
   "metadata": {},
   "outputs": [],
   "source": [
    "df=pd.read_csv(\"FINAL_DATA.csv\",encoding='cp1252')"
   ]
  },
  {
   "cell_type": "code",
   "execution_count": 3,
   "id": "feb099e9-49f9-47c8-ba75-4e845646abae",
   "metadata": {},
   "outputs": [
    {
     "name": "stdout",
     "output_type": "stream",
     "text": [
      "<class 'pandas.core.frame.DataFrame'>\n",
      "RangeIndex: 371 entries, 0 to 370\n",
      "Data columns (total 6 columns):\n",
      " #   Column         Non-Null Count  Dtype \n",
      "---  ------         --------------  ----- \n",
      " 0   Conditions     371 non-null    object\n",
      " 1   Home Remedies  371 non-null    object\n",
      " 2   Symptoms       371 non-null    object\n",
      " 3   Risk Factors   371 non-null    object\n",
      " 4   Prevention     371 non-null    object\n",
      " 5   Image URL      371 non-null    object\n",
      "dtypes: object(6)\n",
      "memory usage: 17.5+ KB\n"
     ]
    }
   ],
   "source": [
    "df.info()"
   ]
  },
  {
   "cell_type": "code",
   "execution_count": 4,
   "id": "e02f0240-9416-4076-a21f-77f833661cdc",
   "metadata": {},
   "outputs": [
    {
     "data": {
      "text/html": [
       "<div>\n",
       "<style scoped>\n",
       "    .dataframe tbody tr th:only-of-type {\n",
       "        vertical-align: middle;\n",
       "    }\n",
       "\n",
       "    .dataframe tbody tr th {\n",
       "        vertical-align: top;\n",
       "    }\n",
       "\n",
       "    .dataframe thead th {\n",
       "        text-align: right;\n",
       "    }\n",
       "</style>\n",
       "<table border=\"1\" class=\"dataframe\">\n",
       "  <thead>\n",
       "    <tr style=\"text-align: right;\">\n",
       "      <th></th>\n",
       "      <th>Conditions</th>\n",
       "      <th>Home Remedies</th>\n",
       "      <th>Symptoms</th>\n",
       "      <th>Risk Factors</th>\n",
       "      <th>Prevention</th>\n",
       "      <th>Image URL</th>\n",
       "    </tr>\n",
       "  </thead>\n",
       "  <tbody>\n",
       "    <tr>\n",
       "      <th>0</th>\n",
       "      <td>Abdominal aortic aneurysm</td>\n",
       "      <td>Your health care provider may tell you to avoi...</td>\n",
       "      <td>Abdominal aortic aneurysms often grow slowly w...</td>\n",
       "      <td>Abdominal aortic aneurysm risk factors include...</td>\n",
       "      <td>To prevent an abdominal aortic aneurysm or to ...</td>\n",
       "      <td>https://www.mayoclinic.org/-/media/kcms/gbs/pa...</td>\n",
       "    </tr>\n",
       "    <tr>\n",
       "      <th>1</th>\n",
       "      <td>Absence seizure</td>\n",
       "      <td>Dietary therapy\\nA ketogenic diet can improve ...</td>\n",
       "      <td>A simple absence seizure causes a vacant stare...</td>\n",
       "      <td>Certain factors are common to children who hav...</td>\n",
       "      <td>Not found</td>\n",
       "      <td>Image not found</td>\n",
       "    </tr>\n",
       "    <tr>\n",
       "      <th>2</th>\n",
       "      <td>Acne</td>\n",
       "      <td>You can try to avoid or control mild or modera...</td>\n",
       "      <td>Cystic acne\\nEnlarge image\\nAcne signs vary de...</td>\n",
       "      <td>Risk factors for acne include:\\nAge. People of...</td>\n",
       "      <td>Not found</td>\n",
       "      <td>Image not found</td>\n",
       "    </tr>\n",
       "    <tr>\n",
       "      <th>3</th>\n",
       "      <td>Acute coronary syndrome</td>\n",
       "      <td>Heart-healthy lifestyle changes are an importa...</td>\n",
       "      <td>The symptoms of acute coronary syndrome usuall...</td>\n",
       "      <td>The risk factors for acute coronary syndrome a...</td>\n",
       "      <td>Not found</td>\n",
       "      <td>Image not found</td>\n",
       "    </tr>\n",
       "    <tr>\n",
       "      <th>4</th>\n",
       "      <td>Acute kidney injury</td>\n",
       "      <td>During your recovery from acute kidney injury,...</td>\n",
       "      <td>Symptoms of acute kidney injury may include:\\n...</td>\n",
       "      <td>Acute kidney injury almost always is linked to...</td>\n",
       "      <td>You might cut your risk of acute kidney injury...</td>\n",
       "      <td>Image not found</td>\n",
       "    </tr>\n",
       "  </tbody>\n",
       "</table>\n",
       "</div>"
      ],
      "text/plain": [
       "                  Conditions  \\\n",
       "0  Abdominal aortic aneurysm   \n",
       "1            Absence seizure   \n",
       "2                       Acne   \n",
       "3    Acute coronary syndrome   \n",
       "4        Acute kidney injury   \n",
       "\n",
       "                                       Home Remedies  \\\n",
       "0  Your health care provider may tell you to avoi...   \n",
       "1  Dietary therapy\\nA ketogenic diet can improve ...   \n",
       "2  You can try to avoid or control mild or modera...   \n",
       "3  Heart-healthy lifestyle changes are an importa...   \n",
       "4  During your recovery from acute kidney injury,...   \n",
       "\n",
       "                                            Symptoms  \\\n",
       "0  Abdominal aortic aneurysms often grow slowly w...   \n",
       "1  A simple absence seizure causes a vacant stare...   \n",
       "2  Cystic acne\\nEnlarge image\\nAcne signs vary de...   \n",
       "3  The symptoms of acute coronary syndrome usuall...   \n",
       "4  Symptoms of acute kidney injury may include:\\n...   \n",
       "\n",
       "                                        Risk Factors  \\\n",
       "0  Abdominal aortic aneurysm risk factors include...   \n",
       "1  Certain factors are common to children who hav...   \n",
       "2  Risk factors for acne include:\\nAge. People of...   \n",
       "3  The risk factors for acute coronary syndrome a...   \n",
       "4  Acute kidney injury almost always is linked to...   \n",
       "\n",
       "                                          Prevention  \\\n",
       "0  To prevent an abdominal aortic aneurysm or to ...   \n",
       "1                                          Not found   \n",
       "2                                          Not found   \n",
       "3                                          Not found   \n",
       "4  You might cut your risk of acute kidney injury...   \n",
       "\n",
       "                                           Image URL  \n",
       "0  https://www.mayoclinic.org/-/media/kcms/gbs/pa...  \n",
       "1                                    Image not found  \n",
       "2                                    Image not found  \n",
       "3                                    Image not found  \n",
       "4                                    Image not found  "
      ]
     },
     "execution_count": 4,
     "metadata": {},
     "output_type": "execute_result"
    }
   ],
   "source": [
    "df.head()"
   ]
  },
  {
   "cell_type": "code",
   "execution_count": 5,
   "id": "ef962dc2-0683-4874-8f51-2b9416ce4813",
   "metadata": {},
   "outputs": [
    {
     "data": {
      "text/plain": [
       "(371, 6)"
      ]
     },
     "execution_count": 5,
     "metadata": {},
     "output_type": "execute_result"
    }
   ],
   "source": [
    "df.shape"
   ]
  },
  {
   "cell_type": "code",
   "execution_count": 7,
   "id": "e6861a9f-bada-4415-bea6-8dd0f6819d09",
   "metadata": {},
   "outputs": [],
   "source": [
    "df.drop(\"Image URL\",axis=1,inplace=True)"
   ]
  },
  {
   "cell_type": "code",
   "execution_count": 12,
   "id": "9131ebc3-cb43-4b26-9516-f05cbfa7931e",
   "metadata": {},
   "outputs": [],
   "source": [
    "conditions=df.Conditions.values.tolist()"
   ]
  },
  {
   "cell_type": "code",
   "execution_count": 13,
   "id": "f161a23f-436d-438b-933b-5325b91f7fce",
   "metadata": {},
   "outputs": [],
   "source": [
    "df_new=pd.read_csv(\"cleaned_newtest_final.csv\")"
   ]
  },
  {
   "cell_type": "code",
   "execution_count": 17,
   "id": "3a06a0a3-62ff-43fa-b8de-434a97550146",
   "metadata": {},
   "outputs": [
    {
     "data": {
      "text/html": [
       "<div>\n",
       "<style scoped>\n",
       "    .dataframe tbody tr th:only-of-type {\n",
       "        vertical-align: middle;\n",
       "    }\n",
       "\n",
       "    .dataframe tbody tr th {\n",
       "        vertical-align: top;\n",
       "    }\n",
       "\n",
       "    .dataframe thead th {\n",
       "        text-align: right;\n",
       "    }\n",
       "</style>\n",
       "<table border=\"1\" class=\"dataframe\">\n",
       "  <thead>\n",
       "    <tr style=\"text-align: right;\">\n",
       "      <th></th>\n",
       "      <th>Conditions</th>\n",
       "      <th>Overview</th>\n",
       "      <th>Symptoms</th>\n",
       "      <th>Causes</th>\n",
       "      <th>Risk factors</th>\n",
       "      <th>Complications</th>\n",
       "      <th>Prevention</th>\n",
       "      <th>Lifestyle and home remedies</th>\n",
       "    </tr>\n",
       "  </thead>\n",
       "  <tbody>\n",
       "    <tr>\n",
       "      <th>0</th>\n",
       "      <td>Abdominal aortic aneurysm</td>\n",
       "      <td>An abdominal aortic aneurysm is an enlarged ar...</td>\n",
       "      <td>Abdominal aortic aneurysms often grow slowly w...</td>\n",
       "      <td>Aneurysms can develop anywhere along the aorta...</td>\n",
       "      <td>Abdominal aortic aneurysm risk factors include...</td>\n",
       "      <td>Complications of abdominal aortic aneurysms in...</td>\n",
       "      <td>To prevent an abdominal aortic aneurysm or to ...</td>\n",
       "      <td>Not found</td>\n",
       "    </tr>\n",
       "    <tr>\n",
       "      <th>1</th>\n",
       "      <td>Absence seizure</td>\n",
       "      <td>Absence seizures involve brief, sudden lapses ...</td>\n",
       "      <td>A simple absence seizure causes a vacant stare...</td>\n",
       "      <td>Absence seizures usually have a genetic cause....</td>\n",
       "      <td>Certain factors are common to children who hav...</td>\n",
       "      <td>While most children outgrow absence seizures, ...</td>\n",
       "      <td>Not found</td>\n",
       "      <td>Not found</td>\n",
       "    </tr>\n",
       "    <tr>\n",
       "      <th>2</th>\n",
       "      <td>Achilles tendon rupture</td>\n",
       "      <td>Achilles (uh-KILL-eez) tendon rupture is an in...</td>\n",
       "      <td>Although it's possible to have no signs or sym...</td>\n",
       "      <td>Your Achilles tendon helps you point your foot...</td>\n",
       "      <td>Factors that may increase your risk of Achille...</td>\n",
       "      <td>Not found</td>\n",
       "      <td>To reduce your chance of developing Achilles t...</td>\n",
       "      <td>Not found</td>\n",
       "    </tr>\n",
       "    <tr>\n",
       "      <th>3</th>\n",
       "      <td>ACL injury</td>\n",
       "      <td>An ACL injury is a tear or sprain of the anter...</td>\n",
       "      <td>Signs and symptoms of an ACL injury usually in...</td>\n",
       "      <td>Ligaments are strong bands of tissue that conn...</td>\n",
       "      <td>There are a number of factors that increase yo...</td>\n",
       "      <td>People who experience an ACL injury have a hig...</td>\n",
       "      <td>Proper training and exercise can help reduce t...</td>\n",
       "      <td>Not found</td>\n",
       "    </tr>\n",
       "    <tr>\n",
       "      <th>4</th>\n",
       "      <td>Acne</td>\n",
       "      <td>Acne is a skin condition that occurs when your...</td>\n",
       "      <td>Acne signs vary depending on the severity of y...</td>\n",
       "      <td>Four main factors cause acne:\\nExcess oil (seb...</td>\n",
       "      <td>Risk factors for acne include:\\nAge. People of...</td>\n",
       "      <td>People with darker skin types are more likely ...</td>\n",
       "      <td>Not found</td>\n",
       "      <td>Not found</td>\n",
       "    </tr>\n",
       "  </tbody>\n",
       "</table>\n",
       "</div>"
      ],
      "text/plain": [
       "                  Conditions  \\\n",
       "0  Abdominal aortic aneurysm   \n",
       "1            Absence seizure   \n",
       "2    Achilles tendon rupture   \n",
       "3                 ACL injury   \n",
       "4                       Acne   \n",
       "\n",
       "                                            Overview  \\\n",
       "0  An abdominal aortic aneurysm is an enlarged ar...   \n",
       "1  Absence seizures involve brief, sudden lapses ...   \n",
       "2  Achilles (uh-KILL-eez) tendon rupture is an in...   \n",
       "3  An ACL injury is a tear or sprain of the anter...   \n",
       "4  Acne is a skin condition that occurs when your...   \n",
       "\n",
       "                                            Symptoms  \\\n",
       "0  Abdominal aortic aneurysms often grow slowly w...   \n",
       "1  A simple absence seizure causes a vacant stare...   \n",
       "2  Although it's possible to have no signs or sym...   \n",
       "3  Signs and symptoms of an ACL injury usually in...   \n",
       "4  Acne signs vary depending on the severity of y...   \n",
       "\n",
       "                                              Causes  \\\n",
       "0  Aneurysms can develop anywhere along the aorta...   \n",
       "1  Absence seizures usually have a genetic cause....   \n",
       "2  Your Achilles tendon helps you point your foot...   \n",
       "3  Ligaments are strong bands of tissue that conn...   \n",
       "4  Four main factors cause acne:\\nExcess oil (seb...   \n",
       "\n",
       "                                        Risk factors  \\\n",
       "0  Abdominal aortic aneurysm risk factors include...   \n",
       "1  Certain factors are common to children who hav...   \n",
       "2  Factors that may increase your risk of Achille...   \n",
       "3  There are a number of factors that increase yo...   \n",
       "4  Risk factors for acne include:\\nAge. People of...   \n",
       "\n",
       "                                       Complications  \\\n",
       "0  Complications of abdominal aortic aneurysms in...   \n",
       "1  While most children outgrow absence seizures, ...   \n",
       "2                                          Not found   \n",
       "3  People who experience an ACL injury have a hig...   \n",
       "4  People with darker skin types are more likely ...   \n",
       "\n",
       "                                          Prevention  \\\n",
       "0  To prevent an abdominal aortic aneurysm or to ...   \n",
       "1                                          Not found   \n",
       "2  To reduce your chance of developing Achilles t...   \n",
       "3  Proper training and exercise can help reduce t...   \n",
       "4                                          Not found   \n",
       "\n",
       "  Lifestyle and home remedies  \n",
       "0                   Not found  \n",
       "1                   Not found  \n",
       "2                   Not found  \n",
       "3                   Not found  \n",
       "4                   Not found  "
      ]
     },
     "execution_count": 17,
     "metadata": {},
     "output_type": "execute_result"
    }
   ],
   "source": [
    "df_new.head()"
   ]
  },
  {
   "cell_type": "code",
   "execution_count": 19,
   "id": "9cd9ca51-92d0-48fe-8784-2247523987cd",
   "metadata": {},
   "outputs": [
    {
     "data": {
      "text/plain": [
       "Index(['Conditions', 'Overview', 'Symptoms', 'Causes', 'Risk factors',\n",
       "       'Complications', 'Prevention', 'Lifestyle and home remedies'],\n",
       "      dtype='object')"
      ]
     },
     "execution_count": 19,
     "metadata": {},
     "output_type": "execute_result"
    }
   ],
   "source": [
    "df_new.columns"
   ]
  },
  {
   "cell_type": "code",
   "execution_count": 18,
   "id": "3992a6b6-4b89-4ba8-a6af-ddc5bc285555",
   "metadata": {},
   "outputs": [
    {
     "data": {
      "text/plain": [
       "(843, 8)"
      ]
     },
     "execution_count": 18,
     "metadata": {},
     "output_type": "execute_result"
    }
   ],
   "source": [
    "df_new.shape"
   ]
  },
  {
   "cell_type": "code",
   "execution_count": 20,
   "id": "11f1a670-2205-4926-8fdf-f080ccfe859e",
   "metadata": {},
   "outputs": [],
   "source": [
    "df_dummy=df[[\"Conditions\",\"Home Remedies\"]]"
   ]
  },
  {
   "cell_type": "code",
   "execution_count": 30,
   "id": "ea011dc5-9058-4009-93d3-f62a3f4f84eb",
   "metadata": {},
   "outputs": [],
   "source": [
    "mapping_dict=dict(zip(df_dummy.to_dict(\"list\")[\"Conditions\"],df_dummy.to_dict(\"list\")[\"Home Remedies\"]))"
   ]
  },
  {
   "cell_type": "code",
   "execution_count": 32,
   "id": "7a290696-07fa-4f5e-bd46-fb7b3fbe6998",
   "metadata": {},
   "outputs": [],
   "source": [
    "conditions=set(conditions)"
   ]
  },
  {
   "cell_type": "code",
   "execution_count": 36,
   "id": "67b8d4de-955b-4719-b7f4-c75c1c2d7ed3",
   "metadata": {},
   "outputs": [],
   "source": [
    "def recover(row):\n",
    "    \n",
    "    if row[\"Conditions\"] in conditions:\n",
    "        return mapping_dict[row[\"Conditions\"]]\n",
    "    \n",
    "    return row[\"Lifestyle and home remedies\"]"
   ]
  },
  {
   "cell_type": "code",
   "execution_count": 37,
   "id": "7f6257de-6d59-4926-b865-81219cdd7236",
   "metadata": {},
   "outputs": [],
   "source": [
    "df_new[\"Lifestyle and home remedies\"]=df_new.apply(recover, axis=1)"
   ]
  },
  {
   "cell_type": "code",
   "execution_count": 38,
   "id": "71ecde15-991d-4d54-a9ca-094b189e2ae9",
   "metadata": {},
   "outputs": [
    {
     "data": {
      "text/html": [
       "<div>\n",
       "<style scoped>\n",
       "    .dataframe tbody tr th:only-of-type {\n",
       "        vertical-align: middle;\n",
       "    }\n",
       "\n",
       "    .dataframe tbody tr th {\n",
       "        vertical-align: top;\n",
       "    }\n",
       "\n",
       "    .dataframe thead th {\n",
       "        text-align: right;\n",
       "    }\n",
       "</style>\n",
       "<table border=\"1\" class=\"dataframe\">\n",
       "  <thead>\n",
       "    <tr style=\"text-align: right;\">\n",
       "      <th></th>\n",
       "      <th>Conditions</th>\n",
       "      <th>Overview</th>\n",
       "      <th>Symptoms</th>\n",
       "      <th>Causes</th>\n",
       "      <th>Risk factors</th>\n",
       "      <th>Complications</th>\n",
       "      <th>Prevention</th>\n",
       "      <th>Lifestyle and home remedies</th>\n",
       "    </tr>\n",
       "  </thead>\n",
       "  <tbody>\n",
       "    <tr>\n",
       "      <th>0</th>\n",
       "      <td>Abdominal aortic aneurysm</td>\n",
       "      <td>An abdominal aortic aneurysm is an enlarged ar...</td>\n",
       "      <td>Abdominal aortic aneurysms often grow slowly w...</td>\n",
       "      <td>Aneurysms can develop anywhere along the aorta...</td>\n",
       "      <td>Abdominal aortic aneurysm risk factors include...</td>\n",
       "      <td>Complications of abdominal aortic aneurysms in...</td>\n",
       "      <td>To prevent an abdominal aortic aneurysm or to ...</td>\n",
       "      <td>Your health care provider may tell you to avoi...</td>\n",
       "    </tr>\n",
       "    <tr>\n",
       "      <th>1</th>\n",
       "      <td>Absence seizure</td>\n",
       "      <td>Absence seizures involve brief, sudden lapses ...</td>\n",
       "      <td>A simple absence seizure causes a vacant stare...</td>\n",
       "      <td>Absence seizures usually have a genetic cause....</td>\n",
       "      <td>Certain factors are common to children who hav...</td>\n",
       "      <td>While most children outgrow absence seizures, ...</td>\n",
       "      <td>Not found</td>\n",
       "      <td>Dietary therapy\\nA ketogenic diet can improve ...</td>\n",
       "    </tr>\n",
       "    <tr>\n",
       "      <th>2</th>\n",
       "      <td>Achilles tendon rupture</td>\n",
       "      <td>Achilles (uh-KILL-eez) tendon rupture is an in...</td>\n",
       "      <td>Although it's possible to have no signs or sym...</td>\n",
       "      <td>Your Achilles tendon helps you point your foot...</td>\n",
       "      <td>Factors that may increase your risk of Achille...</td>\n",
       "      <td>Not found</td>\n",
       "      <td>To reduce your chance of developing Achilles t...</td>\n",
       "      <td>Not found</td>\n",
       "    </tr>\n",
       "    <tr>\n",
       "      <th>3</th>\n",
       "      <td>ACL injury</td>\n",
       "      <td>An ACL injury is a tear or sprain of the anter...</td>\n",
       "      <td>Signs and symptoms of an ACL injury usually in...</td>\n",
       "      <td>Ligaments are strong bands of tissue that conn...</td>\n",
       "      <td>There are a number of factors that increase yo...</td>\n",
       "      <td>People who experience an ACL injury have a hig...</td>\n",
       "      <td>Proper training and exercise can help reduce t...</td>\n",
       "      <td>Not found</td>\n",
       "    </tr>\n",
       "    <tr>\n",
       "      <th>4</th>\n",
       "      <td>Acne</td>\n",
       "      <td>Acne is a skin condition that occurs when your...</td>\n",
       "      <td>Acne signs vary depending on the severity of y...</td>\n",
       "      <td>Four main factors cause acne:\\nExcess oil (seb...</td>\n",
       "      <td>Risk factors for acne include:\\nAge. People of...</td>\n",
       "      <td>People with darker skin types are more likely ...</td>\n",
       "      <td>Not found</td>\n",
       "      <td>You can try to avoid or control mild or modera...</td>\n",
       "    </tr>\n",
       "    <tr>\n",
       "      <th>...</th>\n",
       "      <td>...</td>\n",
       "      <td>...</td>\n",
       "      <td>...</td>\n",
       "      <td>...</td>\n",
       "      <td>...</td>\n",
       "      <td>...</td>\n",
       "      <td>...</td>\n",
       "      <td>...</td>\n",
       "    </tr>\n",
       "    <tr>\n",
       "      <th>838</th>\n",
       "      <td>X-linked agammaglobulinemia</td>\n",
       "      <td>X-linked agammaglobulinemia (a-gam-uh-glob-u-l...</td>\n",
       "      <td>Most babies with XLA appear healthy for the fi...</td>\n",
       "      <td>X-linked agammaglobulinemia is caused by a cha...</td>\n",
       "      <td>Not found</td>\n",
       "      <td>People with XLA can live mostly typical lives....</td>\n",
       "      <td>Not found</td>\n",
       "      <td>Not found</td>\n",
       "    </tr>\n",
       "    <tr>\n",
       "      <th>839</th>\n",
       "      <td>Yeast infection (vaginal)</td>\n",
       "      <td>A vaginal yeast infection is a fungal infectio...</td>\n",
       "      <td>Yeast infection symptoms can range from mild t...</td>\n",
       "      <td>The fungus candida albicans is responsible for...</td>\n",
       "      <td>Factors that increase your risk of developing ...</td>\n",
       "      <td>Not found</td>\n",
       "      <td>To reduce your risk of vaginal yeast infection...</td>\n",
       "      <td>Not found</td>\n",
       "    </tr>\n",
       "    <tr>\n",
       "      <th>840</th>\n",
       "      <td>Yips</td>\n",
       "      <td>The yips are involuntary wrist spasms that occ...</td>\n",
       "      <td>The most common symptom associated with the yi...</td>\n",
       "      <td>In some people, the yips are a type of focal d...</td>\n",
       "      <td>The yips tend to be associated with:\\nOlder ag...</td>\n",
       "      <td>Not found</td>\n",
       "      <td>Not found</td>\n",
       "      <td>Not found</td>\n",
       "    </tr>\n",
       "    <tr>\n",
       "      <th>841</th>\n",
       "      <td>Zenker's diverticulum</td>\n",
       "      <td>In Zenker's diverticulum, a bulge or pouch for...</td>\n",
       "      <td>A small Zenker's diverticulum may not have any...</td>\n",
       "      <td>The cause of Zenker's diverticulum isn't known...</td>\n",
       "      <td>Risk factors for Zenker's diverticulum include...</td>\n",
       "      <td>Complications can happen if Zenker's diverticu...</td>\n",
       "      <td>Not found</td>\n",
       "      <td>Not found</td>\n",
       "    </tr>\n",
       "    <tr>\n",
       "      <th>842</th>\n",
       "      <td>Zollinger-Ellison syndrome</td>\n",
       "      <td>Zollinger-Ellison syndrome is a rare condition...</td>\n",
       "      <td>Symptoms of Zollinger-Ellison syndrome may inc...</td>\n",
       "      <td>The exact cause of Zollinger-Ellison syndrome ...</td>\n",
       "      <td>If you have a first-degree relative, such as a...</td>\n",
       "      <td>Not found</td>\n",
       "      <td>Not found</td>\n",
       "      <td>Not found</td>\n",
       "    </tr>\n",
       "  </tbody>\n",
       "</table>\n",
       "<p>843 rows × 8 columns</p>\n",
       "</div>"
      ],
      "text/plain": [
       "                      Conditions  \\\n",
       "0      Abdominal aortic aneurysm   \n",
       "1                Absence seizure   \n",
       "2        Achilles tendon rupture   \n",
       "3                     ACL injury   \n",
       "4                           Acne   \n",
       "..                           ...   \n",
       "838  X-linked agammaglobulinemia   \n",
       "839    Yeast infection (vaginal)   \n",
       "840                         Yips   \n",
       "841        Zenker's diverticulum   \n",
       "842   Zollinger-Ellison syndrome   \n",
       "\n",
       "                                              Overview  \\\n",
       "0    An abdominal aortic aneurysm is an enlarged ar...   \n",
       "1    Absence seizures involve brief, sudden lapses ...   \n",
       "2    Achilles (uh-KILL-eez) tendon rupture is an in...   \n",
       "3    An ACL injury is a tear or sprain of the anter...   \n",
       "4    Acne is a skin condition that occurs when your...   \n",
       "..                                                 ...   \n",
       "838  X-linked agammaglobulinemia (a-gam-uh-glob-u-l...   \n",
       "839  A vaginal yeast infection is a fungal infectio...   \n",
       "840  The yips are involuntary wrist spasms that occ...   \n",
       "841  In Zenker's diverticulum, a bulge or pouch for...   \n",
       "842  Zollinger-Ellison syndrome is a rare condition...   \n",
       "\n",
       "                                              Symptoms  \\\n",
       "0    Abdominal aortic aneurysms often grow slowly w...   \n",
       "1    A simple absence seizure causes a vacant stare...   \n",
       "2    Although it's possible to have no signs or sym...   \n",
       "3    Signs and symptoms of an ACL injury usually in...   \n",
       "4    Acne signs vary depending on the severity of y...   \n",
       "..                                                 ...   \n",
       "838  Most babies with XLA appear healthy for the fi...   \n",
       "839  Yeast infection symptoms can range from mild t...   \n",
       "840  The most common symptom associated with the yi...   \n",
       "841  A small Zenker's diverticulum may not have any...   \n",
       "842  Symptoms of Zollinger-Ellison syndrome may inc...   \n",
       "\n",
       "                                                Causes  \\\n",
       "0    Aneurysms can develop anywhere along the aorta...   \n",
       "1    Absence seizures usually have a genetic cause....   \n",
       "2    Your Achilles tendon helps you point your foot...   \n",
       "3    Ligaments are strong bands of tissue that conn...   \n",
       "4    Four main factors cause acne:\\nExcess oil (seb...   \n",
       "..                                                 ...   \n",
       "838  X-linked agammaglobulinemia is caused by a cha...   \n",
       "839  The fungus candida albicans is responsible for...   \n",
       "840  In some people, the yips are a type of focal d...   \n",
       "841  The cause of Zenker's diverticulum isn't known...   \n",
       "842  The exact cause of Zollinger-Ellison syndrome ...   \n",
       "\n",
       "                                          Risk factors  \\\n",
       "0    Abdominal aortic aneurysm risk factors include...   \n",
       "1    Certain factors are common to children who hav...   \n",
       "2    Factors that may increase your risk of Achille...   \n",
       "3    There are a number of factors that increase yo...   \n",
       "4    Risk factors for acne include:\\nAge. People of...   \n",
       "..                                                 ...   \n",
       "838                                          Not found   \n",
       "839  Factors that increase your risk of developing ...   \n",
       "840  The yips tend to be associated with:\\nOlder ag...   \n",
       "841  Risk factors for Zenker's diverticulum include...   \n",
       "842  If you have a first-degree relative, such as a...   \n",
       "\n",
       "                                         Complications  \\\n",
       "0    Complications of abdominal aortic aneurysms in...   \n",
       "1    While most children outgrow absence seizures, ...   \n",
       "2                                            Not found   \n",
       "3    People who experience an ACL injury have a hig...   \n",
       "4    People with darker skin types are more likely ...   \n",
       "..                                                 ...   \n",
       "838  People with XLA can live mostly typical lives....   \n",
       "839                                          Not found   \n",
       "840                                          Not found   \n",
       "841  Complications can happen if Zenker's diverticu...   \n",
       "842                                          Not found   \n",
       "\n",
       "                                            Prevention  \\\n",
       "0    To prevent an abdominal aortic aneurysm or to ...   \n",
       "1                                            Not found   \n",
       "2    To reduce your chance of developing Achilles t...   \n",
       "3    Proper training and exercise can help reduce t...   \n",
       "4                                            Not found   \n",
       "..                                                 ...   \n",
       "838                                          Not found   \n",
       "839  To reduce your risk of vaginal yeast infection...   \n",
       "840                                          Not found   \n",
       "841                                          Not found   \n",
       "842                                          Not found   \n",
       "\n",
       "                           Lifestyle and home remedies  \n",
       "0    Your health care provider may tell you to avoi...  \n",
       "1    Dietary therapy\\nA ketogenic diet can improve ...  \n",
       "2                                            Not found  \n",
       "3                                            Not found  \n",
       "4    You can try to avoid or control mild or modera...  \n",
       "..                                                 ...  \n",
       "838                                          Not found  \n",
       "839                                          Not found  \n",
       "840                                          Not found  \n",
       "841                                          Not found  \n",
       "842                                          Not found  \n",
       "\n",
       "[843 rows x 8 columns]"
      ]
     },
     "execution_count": 38,
     "metadata": {},
     "output_type": "execute_result"
    }
   ],
   "source": [
    "df_new"
   ]
  },
  {
   "cell_type": "code",
   "execution_count": 55,
   "id": "787f17a5-3d6d-4a14-93a5-7486ec8e3a87",
   "metadata": {},
   "outputs": [],
   "source": [
    "file=open(\"new_data.txt\",\"a\",encoding=\"utf-8\")"
   ]
  },
  {
   "cell_type": "code",
   "execution_count": 56,
   "id": "53c562c3-c561-48bc-8d51-ae82b679b45e",
   "metadata": {},
   "outputs": [],
   "source": [
    "problem=[]"
   ]
  },
  {
   "cell_type": "code",
   "execution_count": 57,
   "id": "770c3beb-fd90-481c-8e2d-75a2e0a7e0dc",
   "metadata": {},
   "outputs": [],
   "source": [
    "for index,data in df_new.iterrows():\n",
    "    try:\n",
    "        text=\"\"\n",
    "        text+=\"Condition name:\"+data.Conditions+\"\\n\"\n",
    "        name=data.Conditions\n",
    "        text+=f\"Overview of {name}:\\n\"+data[\"Overview\"]+\"\\n\"\n",
    "        text+=f\"Home Remedies for {name}:\\n\"+data[\"Lifestyle and home remedies\"]+\"\\n\"  if data[\"Lifestyle and home remedies\"]!=\"Not found\" else f\"There are no home remedies available for {name} in the knowledge base\"\n",
    "        text+=f\"Symptoms for {name} :\\n\"+data.Symptoms+\"\\n\"\n",
    "        text+=f\"Causes for {name} :\\n\"+data.Causes+\"\\n\"  if data[\"Causes\"]!=\"Not found\" else f\"There are no Causes available for {name} in the knowledge base\"\n",
    "        text+=f\"Risk Factors for {name}:\\n\"+data[\"Risk factors\"]+\"\\n\"  if data[\"Risk factors\"]!=\"Not found\" else f\"There are no Risk Factors available for {name} in the knowledge base\"\n",
    "        text+=f\"Complications for {name}:\\n\"+data[\"Complications\"]+\"\\n\"  if data[\"Complications\"]!=\"Not found\" else f\"There are no Complications available for {name} in the knowledge base\"\n",
    "        text+=f\"Preventions for {name}\\n\"+data[\"Prevention\"]+\"\\n\" if data[\"Prevention\"]!=\"Not found\" else f\"There are no preventive measures available for {name} in the knowledge base\"\n",
    "        file.write(text)\n",
    "    except Exception as e:\n",
    "        print(e)\n",
    "        problem.append(data.Conditions)\n",
    "        pass\n",
    "\n",
    "\n",
    "file.close()"
   ]
  },
  {
   "cell_type": "code",
   "execution_count": 58,
   "id": "4551e7a6-4770-4024-8c46-151dba4f7e0c",
   "metadata": {},
   "outputs": [],
   "source": [
    "file.close()"
   ]
  },
  {
   "cell_type": "code",
   "execution_count": 59,
   "id": "f3600bc0-e59e-4624-ad62-7745a103b41a",
   "metadata": {},
   "outputs": [
    {
     "data": {
      "text/plain": [
       "[]"
      ]
     },
     "execution_count": 59,
     "metadata": {},
     "output_type": "execute_result"
    }
   ],
   "source": [
    "problem"
   ]
  },
  {
   "cell_type": "code",
   "execution_count": 20,
   "id": "599fc8e8-d16a-4cc8-9397-da3b165086d6",
   "metadata": {},
   "outputs": [
    {
     "name": "stdout",
     "output_type": "stream",
     "text": [
      "Your health care provider may tell you to avoid heavy lifting and vigorous physical activity. These activities may cause extreme increases in blood pressure, which can worsen an aneurysm.\n",
      "Emotional stress also can raise blood pressure. Try to avoid conflict and stressful situations. If you're feeling stressed or anxious, let your care provider know. Together you can come up with the best treatment plan.\n"
     ]
    }
   ],
   "source": [
    "for index,data in df.iterrows():\n",
    "    print(data[\"Home Remedies\"])\n",
    "    break"
   ]
  },
  {
   "cell_type": "code",
   "execution_count": 9,
   "id": "7941a11a-b9d5-4ddc-bc11-2d1c9481fdc7",
   "metadata": {},
   "outputs": [],
   "source": [
    "file.close()"
   ]
  },
  {
   "cell_type": "code",
   "execution_count": 60,
   "id": "2e1bc471-7262-43f8-9f0a-29004ab02eec",
   "metadata": {},
   "outputs": [],
   "source": [
    "from langchain_chroma import Chroma\n",
    "from langchain_groq import ChatGroq\n",
    "from langchain.chains.combine_documents import create_stuff_documents_chain\n",
    "from langchain.chains.retrieval import create_retrieval_chain\n",
    "from langchain.embeddings import HuggingFaceEmbeddings\n",
    "from langchain_core.prompts import ChatPromptTemplate\n",
    "\n"
   ]
  },
  {
   "cell_type": "code",
   "execution_count": 12,
   "id": "b8c7475c-7c27-4e3e-9cb5-a735f3ed0855",
   "metadata": {},
   "outputs": [
    {
     "name": "stderr",
     "output_type": "stream",
     "text": [
      "C:\\Users\\chouh\\AppData\\Local\\Temp\\ipykernel_21732\\3245483337.py:6: LangChainDeprecationWarning: The class `HuggingFaceEmbeddings` was deprecated in LangChain 0.2.2 and will be removed in 1.0. An updated version of the class exists in the langchain-huggingface package and should be used instead. To use it run `pip install -U langchain-huggingface` and import as `from langchain_huggingface import HuggingFaceEmbeddings`.\n",
      "  embeddings=HuggingFaceEmbeddings()\n",
      "B:\\Major Project\\major\\Lib\\site-packages\\sentence_transformers\\cross_encoder\\CrossEncoder.py:13: TqdmExperimentalWarning: Using `tqdm.autonotebook.tqdm` in notebook mode. Use `tqdm.tqdm` instead to force console mode (e.g. in jupyter console)\n",
      "  from tqdm.autonotebook import tqdm, trange\n",
      "B:\\Major Project\\major\\Lib\\site-packages\\transformers\\tokenization_utils_base.py:1601: FutureWarning: `clean_up_tokenization_spaces` was not set. It will be set to `True` by default. This behavior will be depracted in transformers v4.45, and will be then set to `False` by default. For more details check this issue: https://github.com/huggingface/transformers/issues/31884\n",
      "  warnings.warn(\n"
     ]
    }
   ],
   "source": [
    "\n",
    "\n",
    "### Vector DB config\n",
    "embeddings=HuggingFaceEmbeddings()\n",
    "persist_directory = \"chatbot_db\"\n",
    "collection_name=\"remedies_chatbot\"\n",
    "vector_store=Chroma(persist_directory=persist_directory,collection_name=collection_name, embedding_function=embeddings)\n",
    "##RAG config\n",
    "retriever = vector_store.as_retriever()\n",
    "\n",
    "\n"
   ]
  },
  {
   "cell_type": "code",
   "execution_count": 13,
   "id": "26479fa0-9131-4fe0-b8a9-5bfba13bf9b1",
   "metadata": {},
   "outputs": [],
   "source": [
    "### LLM config\n",
    "llm= ChatGroq(\n",
    "    model=\"llama-3.1-70b-versatile\",api_key=\"\"\n",
    ")"
   ]
  },
  {
   "cell_type": "code",
   "execution_count": 63,
   "id": "bfcc1940-7dc0-43f2-a433-35bb07a2f166",
   "metadata": {},
   "outputs": [],
   "source": [
    "template='''\n",
    "You are tasked with answering questions based on the provided context only.\n",
    "the context contains medical information about the home remedies,symptoms,risk factors and preventions about a particular disease.\n",
    "provide me the anwer from the context only for the given question.\n",
    "you have to return the result in json format with two keys as following.\n",
    "ans: the answer to the question.\n",
    "status: the value will be \"true\" if and only if the answer to the question is present in the context else will be \"false\".\n",
    "as you are a chatbot so keep the ans short in about 30 to 40 words and answer it in a friendly way and start your answer by providing context to the question.\n",
    "give me the json with no preamble with no extra text\n",
    "\n",
    "<context>{context} <context>\n",
    "Question: {input}\n",
    "'''"
   ]
  },
  {
   "cell_type": "code",
   "execution_count": 64,
   "id": "4f7a3012-b85e-4774-b51a-d9a304582c5c",
   "metadata": {},
   "outputs": [],
   "source": [
    "prompt=ChatPromptTemplate.from_template(template)\n",
    "document_chain=create_stuff_documents_chain(llm,prompt)\n",
    "retrieval_chain=create_retrieval_chain(retriever,document_chain)"
   ]
  },
  {
   "cell_type": "code",
   "execution_count": 77,
   "id": "6d412146-31c4-4bc6-bc77-4f4a6f756279",
   "metadata": {},
   "outputs": [],
   "source": [
    "response=retrieval_chain.invoke({\"input\":\"what are the possible home remedies of acne\"})['answer']"
   ]
  },
  {
   "cell_type": "code",
   "execution_count": 78,
   "id": "ba725c35-9305-4b44-aada-6d19c93c157f",
   "metadata": {},
   "outputs": [
    {
     "data": {
      "text/plain": [
       "{'ans': 'Wash with a gentle cleanser, avoid certain products, try over-the-counter acne products, protect your skin from the sun, avoid friction or pressure, avoid touching or picking acne-prone areas, and shower after strenuous activities.',\n",
       " 'status': 'true'}"
      ]
     },
     "execution_count": 78,
     "metadata": {},
     "output_type": "execute_result"
    }
   ],
   "source": [
    "eval(response)"
   ]
  },
  {
   "cell_type": "code",
   "execution_count": 26,
   "id": "ebc5050b-f0a3-4058-9ba1-263dfe43ac4a",
   "metadata": {},
   "outputs": [],
   "source": [
    "from langchain_core.output_parsers import JsonOutputParser"
   ]
  },
  {
   "cell_type": "code",
   "execution_count": 27,
   "id": "aff8cd1a-9cf1-40d2-b80c-4a8bcb2c88f6",
   "metadata": {},
   "outputs": [],
   "source": [
    "parser=JsonOutputParser()"
   ]
  },
  {
   "cell_type": "code",
   "execution_count": 28,
   "id": "a6f2f5df-b35f-47d0-9495-6aac6a855327",
   "metadata": {},
   "outputs": [
    {
     "data": {
      "text/plain": [
       "{'ans': '', 'status': 'false'}"
      ]
     },
     "execution_count": 28,
     "metadata": {},
     "output_type": "execute_result"
    }
   ],
   "source": [
    "parser.parse(response)"
   ]
  },
  {
   "cell_type": "code",
   "execution_count": null,
   "id": "85a60229-d146-49bf-a68c-691af4d3cbd3",
   "metadata": {},
   "outputs": [],
   "source": [
    "def get_llm_response(question):\n",
    "    try:\n",
    "        response=retrieval_chain.invoke({\"input\":question})['answer']\n",
    "        return {\"status\":True,\"resp\":response}\n",
    "    except:\n",
    "        set_new_api_key()\n",
    "        response=retrieval_chain.invoke({\"input\":question})['answer']\n",
    "        return {\"status\":True,\"resp\":response}"
   ]
  },
  {
   "cell_type": "code",
   "execution_count": 84,
   "id": "29ffb114-b403-4552-a9c8-fc99eed0a53b",
   "metadata": {},
   "outputs": [
    {
     "data": {
      "text/plain": [
       "\"Abdominal aortic aneurysm,Absence seizure,Acne,Acute coronary syndrome,Acute kidney injury,Acute sinusitis,Adjustment disorders,Adult attention-deficit/hyperactivity disorder (ADHD),Adult Still disease,Albinism,Alcohol poisoning,Alcohol use disorder,Allergies,Alzheimer's disease,Amenorrhea,Anal fissure,Anal fistula,Anal itching,Angina,Anorexia nervosa,Anterior vaginal prolapse (cystocele),Anxiety disorders,Aortic valve disease,Aortic valve regurgitation,Aortic valve stenosis,Appendicitis,ARDS,Arteriosclerosis / atherosclerosis,Arthritis,Asthma,Athlete's foot,Atopic dermatitis (eczema),Atrial fibrillation,Attention-deficit/hyperactivity disorder (ADHD) in children,Auditory processing disorder,Back Pain,Bad breath,Bags under eyes,Baker cyst,Barrett's esophagus,Bed-wetting,Bee sting,Bell's palsy,Benign paroxysmal positional vertigo (BPPV),Benign prostatic hyperplasia (BPH),Binge-eating disorder,Bipolar disorder,Black hairy tongue,Body dysmorphic disorder,Bone spurs,Brain aneurysm,Breast cysts,Broken collarbone,Broken toe,Bronchiolitis,Bronchitis,Bruxism (teeth grinding),Buerger disease,Bulimia nervosa,Bullous pemphigoid,Burning mouth syndrome,Bursitis,C. difficile infection,Canker sore,Cardiomyopathy,Carpal tunnel syndrome,Cataracts,Celiac disease,Cellulite,Chemo brain,Chickenpox,Chilblains,Childhood apraxia of speech,Childhood schizophrenia,Cholestasis of pregnancy,Chronic cough,Chronic kidney disease,Chronic myelogenous leukemia,Chronic pelvic pain,Chronic sinusitis,Cirrhosis,Cluster headache,Coarctation of the aorta,Cold,Cold sore,Color blindness,Common cold,Congenital heart defects in children,Congenital heart disease in adults,Constipation,Contact dermatitis,COPD,Corns and calluses,Coronary artery disease,Coronavirus disease 2019 (COVID-19),Cough,Cradle cap,Crohn's disease,Cryoglobulinemia,Cushing syndrome,Cutaneous T-cell lymphoma,Cyclothymia (cyclothymic disorder),Cystic fibrosis,Cystitis,Dandruff,De Quervain tenosynovitis,Dementia,Depression (major depressive disorder),Dermatitis,Diabetes,Diabetes insipidus,Diarrhea,Dislocated shoulder,Dizziness,Dry macular degeneration,Dry mouth,Dry skin,Dry socket,Dupuytren contracture,Dwarfism,Dyshidrosis,Dysphagia,Dystonia,E. coli,Ear Infection,Eating disorders,Ebstein anomaly,Ectropion,Edema,Ehlers-Danlos syndrome,Ehrlichiosis and anaplasmosis,Eisenmenger syndrome,Emphysema,Endometriosis,End-stage renal disease,Enlarged spleen (splenomegaly),Entropion,Eosinophilic esophagitis,Epidermoid cysts,Epidermolysis bullosa,Epididymitis,Epilepsy,Erectile dysfunction,Esophageal spasms,Esophagitis,Essential tremor,Eyestrain,Factitious disorder,Factor V Leiden,Farsightedness,Fatigue,Fecal incontinence,Female sexual dysfunction,Fever,Fibrocystic breasts,Flatfeet,Flu,Focal segmental glomerulosclerosis (FSGS),Food allergy,Food poisoning,Foot drop,Frontal lobe seizures,Frontotemporal dementia,Frostbite,Frozen shoulder,Fuchs dystrophy,Functional dyspepsia,Galactorrhea,Ganglion cyst,Gastritis,Gastroesophageal reflux disease (GERD),Gastroparesis,Generalized anxiety disorder,Geographic tongue,Giant cell arteritis,Gingivitis,Glaucoma,Glomerulonephritis,Gout,Graves' disease,Headache,Heartburn,IgA nephropathy (Berger disease),Illness anxiety disorder,Immune thrombocytopenia (ITP),Incompetent cervix,Indigestion,Infant reflux,Inflammatory bowel disease (IBD),Influenza (flu),Ingrown hair,Insomnia,Interstitial lung disease,Irritable bowel syndrome,Itchy skin (pruritus),Jet lag disorder,Juvenile idiopathic arthritis,Keloid scar,Keratosis pilaris,Kidney infection,Klippel-Trenaunay syndrome,Knee bursitis,Knee pain,Male infertility,Marfan syndrome,Mastitis,MCAD deficiency,Median arcuate ligament syndrome (MALS),Meniere's disease,Menopause,Mental illness,Mesenteric lymphadenitis,Microscopic colitis,Migraine,Mild cognitive impairment (MCI),Mitral valve disease,Mitral valve regurgitation,Mitral valve stenosis,Mittelschmerz,Morning sickness,Morphea,Morton's neuroma,Mosquito bites,Mouth cancer,Multiple sclerosis,Multiple system atrophy,Muscle cramp,Muscle Pain,Myasthenia gravis,Myelodysplastic syndromes,Myocarditis,Myofascial pain syndrome,Nail fungus,Narcissistic personality disorder,Narcolepsy,Nasopharyngeal carcinoma,Nausea,Nearsightedness,Neck pain,Neurodermatitis,Nightmare disorder,Nonalcoholic fatty liver disease,Obesity,Obsessive-compulsive disorder (OCD),Obstructive sleep apnea,Ocular rosacea,Oppositional defiant disorder (ODD),Oral lichen planus,Oral thrush,Orchitis,Osteoporosis,Overactive bladder,Painful intercourse (dyspareunia),Pancreatitis,Panic attacks and panic disorder,Parkinson's disease,Patent ductus arteriosus (PDA),Peanut allergy,Pediatric obstructive sleep apnea,Pelvic organ prolapse,Pemphigus,Peptic ulcer,Pericarditis,Perimenopause,Periodontitis,Peripheral artery disease (PAD),Peripheral neuropathy,Persistent depressive disorder,Personality disorders,Phenylketonuria (PKU),Pink eye (conjunctivitis),Plantar fasciitis,Plantar warts,Pleurisy,Pneumonia,Pneumonitis,Poison ivy rash,Polycystic ovary syndrome (PCOS),Porphyria,Posterior vaginal prolapse (rectocele),Postherpetic neuralgia,Postpartum depression,Prader-Willi syndrome,Premature birth,Presbyopia,Preterm labor,Primary biliary cholangitis,Primary ovarian insufficiency,Primary sclerosing cholangitis,Progeria,Progressive supranuclear palsy,Prostatitis,Pseudogout,Psoriasis,Pulmonary atresia,Pulmonary fibrosis,Pulmonary hypertension,Sacroiliitis,Salivary gland tumors,Sarcoidosis,Scabies,Sciatica,Scleroderma,Scoliosis,Scorpion sting,Scrotal masses,Seborrheic dermatitis,Seizures,Self-injury/cutting,Separation anxiety disorder,Sjogren's syndrome,Skin Rash,Sleep apnea,Sleep terrors (night terrors),Sleepwalking,Small bowel prolapse (enterocele),Snoring,Social anxiety disorder (social phobia),Somatic symptom disorder,Sore Throat,Specific phobias,Spinal stenosis,Spontaneous coronary artery dissection (SCAD),Stress,Stress incontinence,Sudden cardiac arrest,Suicide and suicidal thoughts,Sun allergy,Sunburn,Supraventricular tachycardia,Swimmer's itch,Syringomyelia,Systemic mastocytosis,Tachycardia,Teen depression,Temporal lobe seizure,Tendinitis,Tennis elbow,Tension headache,Tetanus,Tetralogy of Fallot,Thoracic aortic aneurysm,Thoracic outlet syndrome,Throat cancer,Thrombocytopenia,Thumb arthritis,Tinnitus,TMJ disorders,Tonic-clonic (grand mal) seizure,Toothache,Traveler's diarrhea,Tricuspid valve regurgitation,Truncus arteriosus,Type 1 diabetes,Type 1 diabetes in children,Type 2 diabetes,Type 2 diabetes in children,Ulcerative colitis,Undescended testicle,Urinary incontinence,Urinary tract infection (UTI),Urine color,Uterine prolapse,Varicocele,Varicose veins,Vesicoureteral reflux,Vulvodynia,Wet macular degeneration,Wilson's disease,Wolff-Parkinson-White (WPW) syndrome,Wrist pain\""
      ]
     },
     "execution_count": 84,
     "metadata": {},
     "output_type": "execute_result"
    }
   ],
   "source": [
    "\",\".join(list(df.Conditions.values))"
   ]
  },
  {
   "cell_type": "code",
   "execution_count": null,
   "id": "96f33964-1781-487a-b353-1c5903624ff7",
   "metadata": {},
   "outputs": [],
   "source": []
  }
 ],
 "metadata": {
  "kernelspec": {
   "display_name": "major",
   "language": "python",
   "name": "major"
  },
  "language_info": {
   "codemirror_mode": {
    "name": "ipython",
    "version": 3
   },
   "file_extension": ".py",
   "mimetype": "text/x-python",
   "name": "python",
   "nbconvert_exporter": "python",
   "pygments_lexer": "ipython3",
   "version": "3.11.5"
  }
 },
 "nbformat": 4,
 "nbformat_minor": 5
}
