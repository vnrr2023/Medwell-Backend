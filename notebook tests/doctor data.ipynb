{
 "cells": [
  {
   "cell_type": "code",
   "execution_count": 1,
   "id": "2eeb820f-0b97-4fd8-af9f-18c36e5183b9",
   "metadata": {},
   "outputs": [],
   "source": [
    "import psycopg2\n",
    "import pandas as pd\n",
    "from sqlalchemy import create_engine,text as to_sql_text\n",
    "\n",
    "\n",
    "db_username = 'myuser'\n",
    "db_password = 'root'\n",
    "db_host = 'localhost'\n",
    "db_port = '5432'\n",
    "db_name = 'medwell_db'\n",
    "\n",
    "connection_string = f'postgresql+psycopg2://{db_username}:{db_password}@{db_host}:{db_port}/{db_name}'\n",
    "engine = create_engine(connection_string)\n",
    "conn=engine.connect()"
   ]
  },
  {
   "cell_type": "code",
   "execution_count": 6,
   "id": "f3fbe18c-8af2-4ac6-bd53-81aee47ecee4",
   "metadata": {},
   "outputs": [],
   "source": [
    "df=pd.read_sql_query(\n",
    "    sql=to_sql_text('''\n",
    "    select patient_id,concat(p.first_name,p.last_name) as name,requested_at::timestamp::text\n",
    "from doctor_requestaccess d join authentication_customuser p\n",
    "on p.id=d.patient_id\n",
    "where doctor_id=75;\n",
    "    '''),con=conn\n",
    ")"
   ]
  },
  {
   "cell_type": "code",
   "execution_count": 7,
   "id": "89fca2a1-9c77-4404-a41b-4fac555edc6b",
   "metadata": {},
   "outputs": [
    {
     "data": {
      "text/html": [
       "<div>\n",
       "<style scoped>\n",
       "    .dataframe tbody tr th:only-of-type {\n",
       "        vertical-align: middle;\n",
       "    }\n",
       "\n",
       "    .dataframe tbody tr th {\n",
       "        vertical-align: top;\n",
       "    }\n",
       "\n",
       "    .dataframe thead th {\n",
       "        text-align: right;\n",
       "    }\n",
       "</style>\n",
       "<table border=\"1\" class=\"dataframe\">\n",
       "  <thead>\n",
       "    <tr style=\"text-align: right;\">\n",
       "      <th></th>\n",
       "      <th>patient_id</th>\n",
       "      <th>name</th>\n",
       "      <th>requested_at</th>\n",
       "    </tr>\n",
       "  </thead>\n",
       "  <tbody>\n",
       "    <tr>\n",
       "      <th>0</th>\n",
       "      <td>69</td>\n",
       "      <td>Rohit Deshmukh</td>\n",
       "      <td>2024-11-04 15:31:11.041877</td>\n",
       "    </tr>\n",
       "  </tbody>\n",
       "</table>\n",
       "</div>"
      ],
      "text/plain": [
       "   patient_id            name                requested_at\n",
       "0          69  Rohit Deshmukh  2024-11-04 15:31:11.041877"
      ]
     },
     "execution_count": 7,
     "metadata": {},
     "output_type": "execute_result"
    }
   ],
   "source": [
    "df"
   ]
  },
  {
   "cell_type": "code",
   "execution_count": 5,
   "id": "e20bc3e8-cdd6-4190-ad45-3512223db23f",
   "metadata": {},
   "outputs": [
    {
     "data": {
      "text/plain": [
       "[{'patient_id': 69,\n",
       "  'name': 'Rohit Deshmukh',\n",
       "  'requested_at': '2024-11-04 15:28:21.712928'},\n",
       " {'patient_id': 69,\n",
       "  'name': 'Rohit Deshmukh',\n",
       "  'requested_at': '2024-11-04 15:31:11.041877'}]"
      ]
     },
     "execution_count": 5,
     "metadata": {},
     "output_type": "execute_result"
    }
   ],
   "source": [
    "df.to_dict(\"records\")"
   ]
  },
  {
   "cell_type": "code",
   "execution_count": null,
   "id": "0257f78b-fda0-4f54-822c-f86b4a5ea1ff",
   "metadata": {},
   "outputs": [],
   "source": []
  }
 ],
 "metadata": {
  "kernelspec": {
   "display_name": "major",
   "language": "python",
   "name": "major"
  },
  "language_info": {
   "codemirror_mode": {
    "name": "ipython",
    "version": 3
   },
   "file_extension": ".py",
   "mimetype": "text/x-python",
   "name": "python",
   "nbconvert_exporter": "python",
   "pygments_lexer": "ipython3",
   "version": "3.11.5"
  }
 },
 "nbformat": 4,
 "nbformat_minor": 5
}
