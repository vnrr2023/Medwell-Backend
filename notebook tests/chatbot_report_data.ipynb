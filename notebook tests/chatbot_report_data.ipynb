{
 "cells": [
  {
   "cell_type": "code",
   "execution_count": 1,
   "id": "e653c91f-1cd6-4a63-8268-9723e3a51b96",
   "metadata": {},
   "outputs": [],
   "source": [
    "import chromadb"
   ]
  },
  {
   "cell_type": "code",
   "execution_count": 1,
   "id": "cc1438d2-c6cb-47ac-a0fb-ca5966cbd071",
   "metadata": {},
   "outputs": [],
   "source": [
    "import pandas as pd,psycopg2,sqlalchemy"
   ]
  },
  {
   "cell_type": "code",
   "execution_count": 2,
   "id": "9f3c9131-58c7-4a00-b281-18e783e42522",
   "metadata": {},
   "outputs": [],
   "source": [
    "from sqlalchemy import create_engine,text as to_sql_text\n",
    "\n",
    "\n",
    "db_username = 'myuser'\n",
    "db_password = 'root'\n",
    "db_host = 'localhost'\n",
    "db_port = '5432'\n",
    "db_name = 'medwell_db'\n",
    "\n",
    "connection_string = f'postgresql+psycopg2://{db_username}:{db_password}@{db_host}:{db_port}/{db_name}'\n",
    "engine = create_engine(connection_string)\n",
    "conn=engine.connect()"
   ]
  },
  {
   "cell_type": "code",
   "execution_count": 4,
   "id": "4c572a05-5b14-439e-add3-1a826cc1e9b3",
   "metadata": {},
   "outputs": [],
   "source": [
    "db = chromadb.PersistentClient(path=\"user_report_data\")"
   ]
  },
  {
   "cell_type": "code",
   "execution_count": 5,
   "id": "9f5e913a-adbe-4d76-914a-24ddcaf70d34",
   "metadata": {},
   "outputs": [],
   "source": [
    "# so when user enters a report also at another server add it to the db with email as its collection name"
   ]
  },
  {
   "cell_type": "code",
   "execution_count": null,
   "id": "14960bcb-5186-44a0-a4ce-f6579d5e1cc5",
   "metadata": {},
   "outputs": [],
   "source": [
    "# select * from patient_report\n",
    "# where user_id=69\n",
    "# order by submitted_at desc\n",
    "# limit 1;"
   ]
  },
  {
   "cell_type": "code",
   "execution_count": 42,
   "id": "2c895b7b-6435-4247-933e-305342f67a28",
   "metadata": {},
   "outputs": [],
   "source": [
    "df=pd.read_sql_query(sql=to_sql_text('''\n",
    "select date_of_collection,report_type,summary,report_data from patient_report p join\n",
    "patient_reportdetail r on p.id=r.report_id\n",
    "where user_id=69\n",
    "order by submitted_at desc\n",
    "limit 1;\n",
    "    '''),con= conn)"
   ]
  },
  {
   "cell_type": "code",
   "execution_count": 44,
   "id": "d6092ef1-9a26-4a8e-a390-52a27f3cb415",
   "metadata": {},
   "outputs": [
    {
     "data": {
      "text/html": [
       "<div>\n",
       "<style scoped>\n",
       "    .dataframe tbody tr th:only-of-type {\n",
       "        vertical-align: middle;\n",
       "    }\n",
       "\n",
       "    .dataframe tbody tr th {\n",
       "        vertical-align: top;\n",
       "    }\n",
       "\n",
       "    .dataframe thead th {\n",
       "        text-align: right;\n",
       "    }\n",
       "</style>\n",
       "<table border=\"1\" class=\"dataframe\">\n",
       "  <thead>\n",
       "    <tr style=\"text-align: right;\">\n",
       "      <th></th>\n",
       "      <th>date_of_collection</th>\n",
       "      <th>report_type</th>\n",
       "      <th>summary</th>\n",
       "      <th>report_data</th>\n",
       "    </tr>\n",
       "  </thead>\n",
       "  <tbody>\n",
       "    <tr>\n",
       "      <th>0</th>\n",
       "      <td>25/3/22</td>\n",
       "      <td>blood_report</td>\n",
       "      <td>Leucopenia is observed. Packed Cell Volume (PC...</td>\n",
       "      <td>{'pcv': {'max': 50, 'min': 36, 'unit': '%', 'v...</td>\n",
       "    </tr>\n",
       "  </tbody>\n",
       "</table>\n",
       "</div>"
      ],
      "text/plain": [
       "  date_of_collection   report_type  \\\n",
       "0            25/3/22  blood_report   \n",
       "\n",
       "                                             summary  \\\n",
       "0  Leucopenia is observed. Packed Cell Volume (PC...   \n",
       "\n",
       "                                         report_data  \n",
       "0  {'pcv': {'max': 50, 'min': 36, 'unit': '%', 'v...  "
      ]
     },
     "execution_count": 44,
     "metadata": {},
     "output_type": "execute_result"
    }
   ],
   "source": [
    "df"
   ]
  },
  {
   "cell_type": "code",
   "execution_count": 17,
   "id": "1a2f3df5-0031-460f-bdd5-6742ed563ec0",
   "metadata": {},
   "outputs": [],
   "source": [
    "collection=db.get_or_create_collection(\"rohit69\")"
   ]
  },
  {
   "cell_type": "code",
   "execution_count": 30,
   "id": "b1e1097a-7e57-4528-bd04-4060d51bcebc",
   "metadata": {},
   "outputs": [],
   "source": [
    "collection.add(\n",
    "    documents=[\"doc6\", \"doc5\", \"doc4\",],\n",
    "    metadatas=[{\"chapter\": \"3\", \"verse\": \"16\"}, {\"chapter\": \"3\", \"verse\": \"5\"}, {\"chapter\": \"29\", \"verse\": \"11\"}, ],\n",
    "    ids=[\"id4\", \"id5\", \"id6\",]\n",
    ")"
   ]
  },
  {
   "cell_type": "code",
   "execution_count": 33,
   "id": "ab7900c2-f695-4b28-b2f0-d307eec8b2be",
   "metadata": {},
   "outputs": [
    {
     "data": {
      "text/plain": [
       "{'ids': ['id1', 'id2', 'id3', 'id4', 'id5'],\n",
       " 'embeddings': None,\n",
       " 'metadatas': [{'chapter': '3', 'verse': '16'},\n",
       "  {'chapter': '3', 'verse': '5'},\n",
       "  {'chapter': '29', 'verse': '11'},\n",
       "  {'chapter': '3', 'verse': '16'},\n",
       "  {'chapter': '3', 'verse': '5'}],\n",
       " 'documents': ['lorem ipsum...', 'doc2', 'doc3', 'doc6', 'doc5'],\n",
       " 'uris': None,\n",
       " 'data': None,\n",
       " 'included': ['metadatas', 'documents']}"
      ]
     },
     "execution_count": 33,
     "metadata": {},
     "output_type": "execute_result"
    }
   ],
   "source": [
    "collection.get(limit=5)[]"
   ]
  },
  {
   "cell_type": "code",
   "execution_count": 34,
   "id": "35ac6c36-0a9b-4ccb-b11f-61ad5b21779f",
   "metadata": {},
   "outputs": [
    {
     "data": {
      "text/plain": [
       "6"
      ]
     },
     "execution_count": 34,
     "metadata": {},
     "output_type": "execute_result"
    }
   ],
   "source": [
    "collection.count()"
   ]
  },
  {
   "cell_type": "code",
   "execution_count": 39,
   "id": "752e7d88-c7d1-4f4e-8fef-e2fb987a1609",
   "metadata": {},
   "outputs": [],
   "source": [
    "collection.delete(ids=[collection.get(limit=5)[\"ids\"][0]])"
   ]
  },
  {
   "cell_type": "code",
   "execution_count": 40,
   "id": "5863842b-fcec-4270-b194-aa56f5b05121",
   "metadata": {},
   "outputs": [
    {
     "data": {
      "text/plain": [
       "{'ids': ['id2', 'id3', 'id4', 'id5', 'id6'],\n",
       " 'embeddings': None,\n",
       " 'metadatas': [{'chapter': '3', 'verse': '5'},\n",
       "  {'chapter': '29', 'verse': '11'},\n",
       "  {'chapter': '3', 'verse': '16'},\n",
       "  {'chapter': '3', 'verse': '5'},\n",
       "  {'chapter': '29', 'verse': '11'}],\n",
       " 'documents': ['doc2', 'doc3', 'doc6', 'doc5', 'doc4'],\n",
       " 'uris': None,\n",
       " 'data': None,\n",
       " 'included': ['metadatas', 'documents']}"
      ]
     },
     "execution_count": 40,
     "metadata": {},
     "output_type": "execute_result"
    }
   ],
   "source": [
    "collection.get()"
   ]
  },
  {
   "cell_type": "code",
   "execution_count": 43,
   "id": "0705e3e1-d7bd-43d8-91ea-4424591ffa39",
   "metadata": {},
   "outputs": [],
   "source": [
    "def generate_report_text(report_data):\n",
    "    report_text = \"\"\n",
    "    for test, details in report_data.items():\n",
    "        min_val = details['min']\n",
    "        max_val = details['max']\n",
    "        unit = details['unit']\n",
    "        value = details['value']\n",
    "        if value==-1:continue\n",
    "        \n",
    "        value_text = f\"{value} {unit}\" if value != -1 else \"Not available\"\n",
    "        \n",
    "        report_text += f\"{test.capitalize()}: Normal range {min_val}-{max_val} {unit}, Current value: {value_text}\\n\"\n",
    "    \n",
    "    return report_text"
   ]
  },
  {
   "cell_type": "code",
   "execution_count": 45,
   "id": "b50f271f-1b72-4b8b-947b-54b0b366cfc2",
   "metadata": {},
   "outputs": [],
   "source": [
    "df[\"report_data\"]=df.report_data.apply(generate_report_text)"
   ]
  },
  {
   "cell_type": "code",
   "execution_count": 46,
   "id": "f109eb70-610d-4765-bbf0-a587ef7d3651",
   "metadata": {},
   "outputs": [
    {
     "data": {
      "text/html": [
       "<div>\n",
       "<style scoped>\n",
       "    .dataframe tbody tr th:only-of-type {\n",
       "        vertical-align: middle;\n",
       "    }\n",
       "\n",
       "    .dataframe tbody tr th {\n",
       "        vertical-align: top;\n",
       "    }\n",
       "\n",
       "    .dataframe thead th {\n",
       "        text-align: right;\n",
       "    }\n",
       "</style>\n",
       "<table border=\"1\" class=\"dataframe\">\n",
       "  <thead>\n",
       "    <tr style=\"text-align: right;\">\n",
       "      <th></th>\n",
       "      <th>date_of_collection</th>\n",
       "      <th>report_type</th>\n",
       "      <th>summary</th>\n",
       "      <th>report_data</th>\n",
       "    </tr>\n",
       "  </thead>\n",
       "  <tbody>\n",
       "    <tr>\n",
       "      <th>0</th>\n",
       "      <td>25/3/22</td>\n",
       "      <td>blood_report</td>\n",
       "      <td>Leucopenia is observed. Packed Cell Volume (PC...</td>\n",
       "      <td>Pcv: Normal range 36-50 %, Current value: 43.7...</td>\n",
       "    </tr>\n",
       "  </tbody>\n",
       "</table>\n",
       "</div>"
      ],
      "text/plain": [
       "  date_of_collection   report_type  \\\n",
       "0            25/3/22  blood_report   \n",
       "\n",
       "                                             summary  \\\n",
       "0  Leucopenia is observed. Packed Cell Volume (PC...   \n",
       "\n",
       "                                         report_data  \n",
       "0  Pcv: Normal range 36-50 %, Current value: 43.7...  "
      ]
     },
     "execution_count": 46,
     "metadata": {},
     "output_type": "execute_result"
    }
   ],
   "source": [
    "df"
   ]
  },
  {
   "cell_type": "code",
   "execution_count": 50,
   "id": "9999be39-878c-40aa-86a9-7474567aa721",
   "metadata": {},
   "outputs": [],
   "source": [
    "text=f'''\n",
    "Date of report: {df.iloc[0][\"date_of_collection\"]}\n",
    "Report Type: {df.iloc[0][\"report_type\"]}\n",
    "Summary of report: {df.iloc[0][\"summary\"]}\n",
    "Report data : {df.iloc[0][\"report_data\"]}\n",
    "'''\n",
    "ly high. Bilirubin Total is in Phosphorus level.\\nReport data : Pcv: Normal range 36-50 %, Current value: 43.7 %\\nSodium: Normal range 135-145 mmol/L, Current value: 129.9 mmol/L\\nAlbumin: Normal range 3.5-5.0 g/dL, Current value: 4.1 g/dL\\nCalcium: Normal range 8.5-10.2 mg/dL, Current value: 8.86 mg/dL\\nChloride: Normal range 98-107 mmol/L, Current value: 95.5 mmol/L\\nProteins: Normal range 6.0-8.0 g/dL, Current value: 6.51 g/dL\\nPotassium: Normal range 3.5-5.0 mmol/L, Current value: 3.59 mmol/L\\nRbc_count: Normal range 4.2-5.4 million cells/μL, Current value: 4.93 million cells/μL\\nWbc_count: Normal range 4.5-11.0 thousand cells/μL, Current value: 3.44 thousand cells/μL\\nBlood_urea: Normal range 7-20 mg/dL, Current value: 11.2 mg/dL\\nHemoglobin: Normal range 12.1-15.5 g/dL, Current value: 13.8 g/dL\\nPhosphorus: Normal range 2.5-4.5 mg/dL, Current value: 4.56 mg/dL\\nLymphocytes: Normal range 20-45 %, Current value: 1.68 %\\nNeutrophils: Normal range 40-75 %, Current value: 1.36 %\\nS_uric_acid: Normal range 3.5-7.2 mg/dL, Current value: 3.22 mg/dL\\nS_creatinine: Normal range 0.6-1.2 mg/dL, Current value: 0.55 mg/dL\\nS_phosphorus: Normal range 2.5-4.5 mg/dL, Current value: 4.56 mg/dL\\nFasting_sugar: Normal range 70-100 mg/dL, Current value: 80.0 mg/dL\\nPlatelet_count: Normal range 150000-450000 cells/μL, Current value: 290.0 cells/μL\\nBilirubin_total: Normal range 0.1-1.2 mg/dL, Current value: 0.95 mg/dL\\nBilirubin_direct: Normal range 0.0-0.3 mg/dL, Current value: 0.27 mg/dL\\nBilirubin_indirect: Normal range 0.1-0.8 mg/dL, Current value: 0.68 mg/dL\\n\\n"
   ]
  },
  {
   "cell_type": "code",
   "execution_count": 52,
   "id": "310ed946-242e-47aa-8de9-70704af719e7",
   "metadata": {},
   "outputs": [
    {
     "data": {
      "text/plain": [
       "'\\nDate of report: 25/3/22\\nReport Type: blood_report\\nSummary of report: Leucopenia is observed. Packed Cell Volume (PCV) is 43.70% which is slightly high. Bilirubin Total is 0.95 mg/dL which is within normal range. Albumin is 4.10 g/dL which is within normal range. There is a slight increase in Phosphorus level.\\nReport data : Pcv: Normal range 36-50 %, Current value: 43.7 %\\nSodium: Normal range 135-145 mmol/L, Current value: 129.9 mmol/L\\nAlbumin: Normal range 3.5-5.0 g/dL, Current value: 4.1 g/dL\\nCalcium: Normal range 8.5-10.2 mg/dL, Current value: 8.86 mg/dL\\nChloride: Normal range 98-107 mmol/L, Current value: 95.5 mmol/L\\nProteins: Normal range 6.0-8.0 g/dL, Current value: 6.51 g/dL\\nPotassium: Normal range 3.5-5.0 mmol/L, Current value: 3.59 mmol/L\\nRbc_count: Normal range 4.2-5.4 million cells/μL, Current value: 4.93 million cells/μL\\nWbc_count: Normal range 4.5-11.0 thousand cells/μL, Current value: 3.44 thousand cells/μL\\nBlood_urea: Normal range 7-20 mg/dL, Current value: 11.2 mg/dL\\nHemoglobin: Normal range 12.1-15.5 g/dL, Current value: 13.8 g/dL\\nPhosphorus: Normal range 2.5-4.5 mg/dL, Current value: 4.56 mg/dL\\nLymphocytes: Normal range 20-45 %, Current value: 1.68 %\\nNeutrophils: Normal range 40-75 %, Current value: 1.36 %\\nS_uric_acid: Normal range 3.5-7.2 mg/dL, Current value: 3.22 mg/dL\\nS_creatinine: Normal range 0.6-1.2 mg/dL, Current value: 0.55 mg/dL\\nS_phosphorus: Normal range 2.5-4.5 mg/dL, Current value: 4.56 mg/dL\\nFasting_sugar: Normal range 70-100 mg/dL, Current value: 80.0 mg/dL\\nPlatelet_count: Normal range 150000-450000 cells/μL, Current value: 290.0 cells/μL\\nBilirubin_total: Normal range 0.1-1.2 mg/dL, Current value: 0.95 mg/dL\\nBilirubin_direct: Normal range 0.0-0.3 mg/dL, Current value: 0.27 mg/dL\\nBilirubin_indirect: Normal range 0.1-0.8 mg/dL, Current value: 0.68 mg/dL\\n\\n'"
      ]
     },
     "execution_count": 52,
     "metadata": {},
     "output_type": "execute_result"
    }
   ],
   "source": [
    "text"
   ]
  },
  {
   "cell_type": "code",
   "execution_count": 54,
   "id": "8a3851e8-7865-4c64-8d05-458e1937a0aa",
   "metadata": {},
   "outputs": [
    {
     "data": {
      "text/plain": [
       "5"
      ]
     },
     "execution_count": 54,
     "metadata": {},
     "output_type": "execute_result"
    }
   ],
   "source": [
    "collection.get()"
   ]
  },
  {
   "cell_type": "code",
   "execution_count": 55,
   "id": "111425b4-5ffe-4982-8b2a-031cb54303ee",
   "metadata": {},
   "outputs": [
    {
     "data": {
      "text/plain": [
       "'id2'"
      ]
     },
     "execution_count": 55,
     "metadata": {},
     "output_type": "execute_result"
    }
   ],
   "source": [
    "collection.get(limit=5)[\"ids\"][0]"
   ]
  },
  {
   "cell_type": "code",
   "execution_count": 63,
   "id": "65def140-f9b2-40db-9485-dcf51d790fe5",
   "metadata": {},
   "outputs": [
    {
     "data": {
      "text/plain": [
       "'7'"
      ]
     },
     "execution_count": 63,
     "metadata": {},
     "output_type": "execute_result"
    }
   ],
   "source": [
    "str(int(\"2\")+5)"
   ]
  },
  {
   "cell_type": "code",
   "execution_count": 64,
   "id": "fb223c2f-1917-4a0d-a3ab-d7d218fccfe0",
   "metadata": {},
   "outputs": [],
   "source": [
    "collection.add(ids=[str(int(\"2\")+5)],documents=[text])"
   ]
  },
  {
   "cell_type": "code",
   "execution_count": 67,
   "id": "350534d6-23a9-4a08-af5c-fffcc42ff3ff",
   "metadata": {},
   "outputs": [],
   "source": [
    "data=collection.get()"
   ]
  },
  {
   "cell_type": "code",
   "execution_count": 66,
   "id": "c1a7626b-0171-4c1e-9413-d25c079e0157",
   "metadata": {},
   "outputs": [],
   "source": [
    "# chatbot thing"
   ]
  },
  {
   "cell_type": "code",
   "execution_count": 70,
   "id": "ef2a5b8b-9f74-4aa8-bd95-6721b25e7b6b",
   "metadata": {},
   "outputs": [],
   "source": [
    "data=\"\\n\".join(data[\"documents\"])"
   ]
  },
  {
   "cell_type": "code",
   "execution_count": 73,
   "id": "506f2fc0-30b4-42f3-a93d-c83584665444",
   "metadata": {},
   "outputs": [],
   "source": [
    "from groq import Groq\n",
    "import os\n",
    "from dotenv import load_dotenv\n",
    "\n",
    "load_dotenv()\n",
    "client=Groq(api_key=os.environ['GROQ'])"
   ]
  },
  {
   "cell_type": "code",
   "execution_count": 106,
   "id": "5400cc5d-7ffa-493d-abcd-f0364c724bdd",
   "metadata": {},
   "outputs": [],
   "source": [
    "question=\"what is the cholestrol level\""
   ]
  },
  {
   "cell_type": "code",
   "execution_count": 107,
   "id": "3498934a-feee-4b00-92fe-b62192584791",
   "metadata": {},
   "outputs": [],
   "source": [
    "chat_completion = client.chat.completions.create(\n",
    "    messages=[\n",
    "         {\"role\":\"system\", \"content\":\"\"\"\n",
    "         You are task is to answer questions based on the context only.Give me the reponse in json format only with two keys\n",
    "         \"ans\": the answer in short about 60 to 70 words based on the context only. paraphrase the question while answering\n",
    "         \"status\": value should be \"true\" if the answer is found in the context else will be \"false\".\n",
    "         give me the response in json format with no preamble.\n",
    "         Context: {context}\n",
    "        \"\"\".format(context=data)\n",
    "         },\n",
    "         {\n",
    "            \"role\": \"user\",\n",
    "            \"content\": question,\n",
    "        }\n",
    "    ],\n",
    "    model=\"llama3-70b-8192\",\n",
    ")\n",
    "\n",
    "resp=chat_completion.choices[0].message.content"
   ]
  },
  {
   "cell_type": "code",
   "execution_count": 108,
   "id": "c0a71775-6c79-431b-94b9-da7f91082d3e",
   "metadata": {},
   "outputs": [
    {
     "data": {
      "text/plain": [
       "'There is no information about cholesterol level in the given blood report.'"
      ]
     },
     "execution_count": 108,
     "metadata": {},
     "output_type": "execute_result"
    }
   ],
   "source": [
    "eval(resp)[\"ans\"]"
   ]
  },
  {
   "cell_type": "code",
   "execution_count": 98,
   "id": "e22f4ee6-f021-4155-a259-f1b9137493d7",
   "metadata": {},
   "outputs": [
    {
     "data": {
      "text/plain": [
       "'doc6\\ndoc5\\ndoc4'"
      ]
     },
     "execution_count": 98,
     "metadata": {},
     "output_type": "execute_result"
    }
   ],
   "source": [
    "\"\\n\".join(collection.get()[\"documents\"])"
   ]
  },
  {
   "cell_type": "code",
   "execution_count": 90,
   "id": "3e485c8b-aab3-47ff-8ae9-7a285be03e6a",
   "metadata": {},
   "outputs": [],
   "source": [
    "collection=db.create_collection(\"abc\")"
   ]
  },
  {
   "cell_type": "code",
   "execution_count": 91,
   "id": "51a5fd09-a9fe-44a1-afc4-06643b383c2c",
   "metadata": {},
   "outputs": [],
   "source": [
    "collection.add(documents=[\"doc6\", \"doc5\", \"doc4\",],\n",
    "    metadatas=[{\"chapter\": \"3\", \"verse\": \"16\"}, {\"chapter\": \"3\", \"verse\": \"5\"}, {\"chapter\": \"29\", \"verse\": \"11\"}, ],\n",
    "    ids=[\"4\", \"5\", \"6\",])"
   ]
  },
  {
   "cell_type": "code",
   "execution_count": 95,
   "id": "6137ed58-f5b0-40f8-8a7a-927c06bf748c",
   "metadata": {},
   "outputs": [
    {
     "data": {
      "text/plain": [
       "'4'"
      ]
     },
     "execution_count": 95,
     "metadata": {},
     "output_type": "execute_result"
    }
   ],
   "source": [
    "collection.get(limit=1)[\"ids\"][0]"
   ]
  },
  {
   "cell_type": "code",
   "execution_count": 3,
   "id": "1999416b-23b8-4328-a487-40aece76a1f2",
   "metadata": {},
   "outputs": [],
   "source": [
    "def connect_db():\n",
    "\n",
    "    connection = psycopg2.connect(\n",
    "        host='localhost',\n",
    "        port='5432',\n",
    "        dbname='medwell_db' ,\n",
    "        user='myuser' ,\n",
    "        password='root' \n",
    "    )\n",
    "    return connection,connection.cursor()"
   ]
  },
  {
   "cell_type": "code",
   "execution_count": 4,
   "id": "b6ccaba7-6f37-4aa7-a1ec-bca9d4709e6e",
   "metadata": {},
   "outputs": [],
   "source": [
    "conn,cursor=connect_db()"
   ]
  },
  {
   "cell_type": "code",
   "execution_count": 8,
   "id": "2fc3ee6d-2306-4c02-8a55-f28a03158913",
   "metadata": {},
   "outputs": [],
   "source": [
    "cursor.execute(\"select email from authentication_customuser where id=69\")"
   ]
  },
  {
   "cell_type": "code",
   "execution_count": 9,
   "id": "6486fb6b-5ce4-4f5e-9689-97cd6ac7a464",
   "metadata": {},
   "outputs": [
    {
     "data": {
      "text/plain": [
       "'rohit@gmail.com'"
      ]
     },
     "execution_count": 9,
     "metadata": {},
     "output_type": "execute_result"
    }
   ],
   "source": [
    "cursor.fetchone()[0]"
   ]
  },
  {
   "cell_type": "code",
   "execution_count": null,
   "id": "e26ef30f-d3a2-4176-8574-7282110132cc",
   "metadata": {},
   "outputs": [],
   "source": []
  }
 ],
 "metadata": {
  "kernelspec": {
   "display_name": "major",
   "language": "python",
   "name": "major"
  },
  "language_info": {
   "codemirror_mode": {
    "name": "ipython",
    "version": 3
   },
   "file_extension": ".py",
   "mimetype": "text/x-python",
   "name": "python",
   "nbconvert_exporter": "python",
   "pygments_lexer": "ipython3",
   "version": "3.11.5"
  }
 },
 "nbformat": 4,
 "nbformat_minor": 5
}
