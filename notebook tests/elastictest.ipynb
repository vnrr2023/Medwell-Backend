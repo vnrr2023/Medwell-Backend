{
 "cells": [
  {
   "cell_type": "code",
   "execution_count": 1,
   "id": "9e002c6d-7858-4cfd-be6b-9dde55624c39",
   "metadata": {},
   "outputs": [],
   "source": [
    "from elasticsearch import Elasticsearch"
   ]
  },
  {
   "cell_type": "code",
   "execution_count": 2,
   "id": "a08271e9-6ae5-48b5-8a2c-e1c8a96bb88b",
   "metadata": {},
   "outputs": [],
   "source": [
    "client=Elasticsearch(\"http://127.0.0.1:9200\")"
   ]
  },
  {
   "cell_type": "code",
   "execution_count": 3,
   "id": "4df85b20-88c3-4a24-ad52-f8526dac5452",
   "metadata": {},
   "outputs": [
    {
     "data": {
      "text/plain": [
       "True"
      ]
     },
     "execution_count": 3,
     "metadata": {},
     "output_type": "execute_result"
    }
   ],
   "source": [
    "client.ping()"
   ]
  },
  {
   "cell_type": "code",
   "execution_count": 4,
   "id": "aa0be616-cbf4-4e62-8cbb-dbbc8acfecb3",
   "metadata": {},
   "outputs": [
    {
     "data": {
      "text/plain": [
       "ObjectApiResponse({'acknowledged': True, 'shards_acknowledged': True, 'index': 'test_index'})"
      ]
     },
     "execution_count": 4,
     "metadata": {},
     "output_type": "execute_result"
    }
   ],
   "source": [
    "client.indices.create(index=\"test_index\")"
   ]
  },
  {
   "cell_type": "code",
   "execution_count": 6,
   "id": "22c93a37-2656-4783-ab2e-698a0d5f3924",
   "metadata": {},
   "outputs": [
    {
     "data": {
      "text/plain": [
       "<bound method IndicesClient.get_alias of <elasticsearch._sync.client.indices.IndicesClient object at 0x0000027162832490>>"
      ]
     },
     "execution_count": 6,
     "metadata": {},
     "output_type": "execute_result"
    }
   ],
   "source": []
  },
  {
   "cell_type": "code",
   "execution_count": 8,
   "id": "03ae8c48-0e65-4366-a1f4-7fec3f1724c7",
   "metadata": {},
   "outputs": [],
   "source": [
    "documents = [\n",
    "        {\"id\": \"1\", \"document\": {\"name\": \"John Doe\", \"age\": 30, \"role\": \"Developer\"}},\n",
    "        {\"id\": \"2\", \"document\": {\"name\": \"Jane Smith\", \"age\": 25, \"role\": \"Designer\"}},\n",
    "        {\"id\": \"3\", \"document\": {\"name\": \"Alice Johnson\", \"age\": 35, \"role\": \"Manager\"}},\n",
    "        {\"id\": \"4\", \"document\": {\"name\": \"Bob Brown\", \"age\": 28, \"role\": \"Developer\"}}\n",
    "]"
   ]
  },
  {
   "cell_type": "code",
   "execution_count": 9,
   "id": "4d704e7f-d1c0-464c-a031-dc61c10d5062",
   "metadata": {},
   "outputs": [],
   "source": [
    "for document in documents:\n",
    "    client.index(index=\"test_index\",id=document[\"id\"],document=document[\"document\"])"
   ]
  },
  {
   "cell_type": "code",
   "execution_count": 39,
   "id": "ece6840e-b087-4453-a8e7-1fdbf8b62df8",
   "metadata": {},
   "outputs": [],
   "source": [
    "query = {\n",
    "    \"query\": {\n",
    "        \"match\": {\n",
    "            \"role\": {\n",
    "                \"query\": \"devloper\",\n",
    "                \"fuzziness\": \"AUTO\"\n",
    "            }\n",
    "        }\n",
    "    }\n",
    "}"
   ]
  },
  {
   "cell_type": "code",
   "execution_count": 40,
   "id": "5a166863-04ae-4970-9f0e-48a29475b027",
   "metadata": {},
   "outputs": [],
   "source": [
    "response = client.search(index=\"test_index\", body=query)"
   ]
  },
  {
   "cell_type": "code",
   "execution_count": 41,
   "id": "ddee276a-e631-44d0-bfea-bcc1c938d09a",
   "metadata": {},
   "outputs": [
    {
     "name": "stdout",
     "output_type": "stream",
     "text": [
      "{'name': 'John Doe', 'age': 30, 'role': 'Developer'}\n",
      "{'name': 'Bob Brown', 'age': 28, 'role': 'Developer'}\n"
     ]
    }
   ],
   "source": [
    "for hit in response[\"hits\"][\"hits\"]:\n",
    "    print(hit[\"_source\"])"
   ]
  },
  {
   "cell_type": "code",
   "execution_count": 24,
   "id": "775667fd-750f-4ba7-9667-7c6f17040688",
   "metadata": {},
   "outputs": [
    {
     "ename": "IndexError",
     "evalue": "list index out of range",
     "output_type": "error",
     "traceback": [
      "\u001b[1;31m---------------------------------------------------------------------------\u001b[0m",
      "\u001b[1;31mIndexError\u001b[0m                                Traceback (most recent call last)",
      "Cell \u001b[1;32mIn[24], line 1\u001b[0m\n\u001b[1;32m----> 1\u001b[0m \u001b[43mresponse\u001b[49m\u001b[38;5;241;43m.\u001b[39;49m\u001b[43mbody\u001b[49m\u001b[43m[\u001b[49m\u001b[38;5;124;43m\"\u001b[39;49m\u001b[38;5;124;43mhits\u001b[39;49m\u001b[38;5;124;43m\"\u001b[39;49m\u001b[43m]\u001b[49m\u001b[43m[\u001b[49m\u001b[38;5;124;43m\"\u001b[39;49m\u001b[38;5;124;43mhits\u001b[39;49m\u001b[38;5;124;43m\"\u001b[39;49m\u001b[43m]\u001b[49m\u001b[43m[\u001b[49m\u001b[38;5;241;43m0\u001b[39;49m\u001b[43m]\u001b[49m\n",
      "\u001b[1;31mIndexError\u001b[0m: list index out of range"
     ]
    }
   ],
   "source": []
  },
  {
   "cell_type": "code",
   "execution_count": 7,
   "id": "29aca3e9-9a1d-4646-9686-87a52e5b65aa",
   "metadata": {},
   "outputs": [],
   "source": [
    "index_name=\"doctors_and_hospitals\""
   ]
  },
  {
   "cell_type": "code",
   "execution_count": 8,
   "id": "6f072360-3684-4f34-840d-2638bf75610e",
   "metadata": {},
   "outputs": [],
   "source": [
    "mappings={\n",
    "    \"mappings\":{\n",
    "        \"properties\":{\n",
    "            \"user_id\":{\"type\":\"keyword\"},\n",
    "            \"name\":{\"type\":\"text\"},\n",
    "            \"role\":{\"type\":\"text\"},\n",
    "            \"speciality\":{\"type\":\"text\"},\n",
    "            \"address\":{\"type\":\"text\"},\n",
    "            \"location\":{\"type\":\"geo_point\"}\n",
    "            \n",
    "        }\n",
    "        \n",
    "    }\n",
    "}"
   ]
  },
  {
   "cell_type": "code",
   "execution_count": 9,
   "id": "d667cec1-1c5b-4253-ad8e-fb0f9fb1a798",
   "metadata": {},
   "outputs": [
    {
     "data": {
      "text/plain": [
       "ObjectApiResponse({'acknowledged': True, 'shards_acknowledged': True, 'index': 'doctors_and_hospitals'})"
      ]
     },
     "execution_count": 9,
     "metadata": {},
     "output_type": "execute_result"
    }
   ],
   "source": [
    "client.indices.create(index=index_name,body=mappings)"
   ]
  },
  {
   "cell_type": "code",
   "execution_count": 45,
   "id": "765b34e9-a3b6-44c6-b544-7ca345cb6473",
   "metadata": {},
   "outputs": [
    {
     "name": "stdout",
     "output_type": "stream",
     "text": [
      "Data indexed.\n"
     ]
    }
   ],
   "source": [
    "doctors = [\n",
    "    {\n",
    "        \"user_id\": \"1\",\n",
    "        \"name\": \"Dr. John Doe\",\n",
    "        \"role\": \"Consultant\",\n",
    "        \"speciality\": \"Cardiologist\",\n",
    "        \"experience\": 15,\n",
    "        \"address\": \"123 Heart Lane, Cityville\",\n",
    "        \"location\": {\"lat\": 40.7128, \"lon\": -74.0060}  # New York\n",
    "    },\n",
    "    {\n",
    "        \"user_id\": \"2\",\n",
    "        \"name\": \"Dr. Alice Smith\",\n",
    "        \"role\": \"Surgeon\",\n",
    "        \"speciality\": \"Dermatologist\",\n",
    "        \"experience\": 10,\n",
    "        \"address\": \"456 Skin Road, Townsville\",\n",
    "        \"location\": {\"lat\": 34.0522, \"lon\": -118.2437}  # Los Angeles\n",
    "    },\n",
    "]\n",
    "\n",
    "\n",
    "for doctor in doctors:\n",
    "    client.index(index=index_name, document=doctor)\n",
    "print(\"Data indexed.\")\n"
   ]
  },
  {
   "cell_type": "code",
   "execution_count": 47,
   "id": "d5a4f2d6-e467-4948-9b28-fd03d97dffe5",
   "metadata": {},
   "outputs": [
    {
     "name": "stdout",
     "output_type": "stream",
     "text": [
      "Search Results:\n",
      "{'user_id': '1', 'name': 'Dr. John Doe', 'role': 'Consultant', 'speciality': 'Cardiologist', 'experience': 15, 'address': '123 Heart Lane, Cityville', 'location': {'lat': 40.7128, 'lon': -74.006}}\n"
     ]
    }
   ],
   "source": [
    "query = {\n",
    "    \"query\": {\n",
    "        \"multi_match\": {\n",
    "            \"query\": \"Cardiologist\",\n",
    "            \"fields\": [\"name\", \"speciality\"],\n",
    "            \"fuzziness\":\"AUTO\"\n",
    "        }\n",
    "    }\n",
    "}\n",
    "\n",
    "response = client.search(index=index_name, body=query)\n",
    "print(\"Search Results:\")\n",
    "for hit in response[\"hits\"][\"hits\"]:\n",
    "    print(hit[\"_source\"])"
   ]
  },
  {
   "cell_type": "code",
   "execution_count": 58,
   "id": "49ed769b-c2bb-4825-a0a5-22504d894d15",
   "metadata": {},
   "outputs": [
    {
     "name": "stdout",
     "output_type": "stream",
     "text": [
      "{'user_id': '1', 'name': 'Dr. Priya Reddy', 'role': 'Surgeon', 'speciality': 'Cardiologist', 'experience': 21, 'address': '622 Juhu, Mumbai', 'location': {'lat': 19.017034007135056, 'lon': 72.85451372727303}}\n",
      "{'user_id': '2', 'name': 'Dr. Sanjay Patel', 'role': 'Consultant', 'speciality': 'Orthopedic', 'experience': 32, 'address': '685 Borivali, Mumbai', 'location': {'lat': 19.0644827514327, 'lon': 72.84550389973764}}\n",
      "{'user_id': '3', 'name': 'Dr. John Nair', 'role': 'Consultant', 'speciality': 'Dermatologist', 'experience': 13, 'address': '816 Carter Road, Mumbai', 'location': {'lat': 19.12254247574048, 'lon': 72.79212064649903}}\n",
      "{'user_id': '4', 'name': 'Dr. John Khan', 'role': 'Consultant', 'speciality': 'Orthopedic', 'experience': 13, 'address': '453 Andheri East, Mumbai', 'location': {'lat': 19.081210755009536, 'lon': 72.94315654779008}}\n",
      "{'user_id': '5', 'name': 'Dr. Priya Patel', 'role': 'Surgeon', 'speciality': 'Gynecologist', 'experience': 26, 'address': '642 Borivali, Mumbai', 'location': {'lat': 19.02042878663351, 'lon': 72.84307967637521}}\n"
     ]
    }
   ],
   "source": [
    "import random\n",
    "\n",
    "# Helper function to generate random coordinates near Mumbai\n",
    "def generate_coordinates(base_lat=19.0760, base_lon=72.8777, radius=0.1):\n",
    "    lat = base_lat + random.uniform(-radius, radius)\n",
    "    lon = base_lon + random.uniform(-radius, radius)\n",
    "    return {\"lat\": lat, \"lon\": lon}\n",
    "\n",
    "# Specialities and roles\n",
    "specialities = [\"Cardiologist\", \"Dermatologist\", \"Neurologist\", \"Pediatrician\", \"Orthopedic\", \"Gynecologist\", \"Oncologist\"]\n",
    "roles = [\"Consultant\", \"Surgeon\", \"General Physician\"]\n",
    "\n",
    "# Generate 100 doctors\n",
    "doctors = []\n",
    "for i in range(5000):\n",
    "    doctor = {\n",
    "        \"user_id\": str(i),\n",
    "        \"name\": f\"Dr. {random.choice(['John', 'Alice', 'Raj', 'Priya', 'Sanjay', 'Anita', 'Vivek', 'Neha'])} {random.choice(['Sharma', 'Patel', 'Mehta', 'Gupta', 'Khan', 'Reddy', 'Nair'])}\",\n",
    "        \"role\": random.choice(roles),\n",
    "        \"speciality\": random.choice(specialities),\n",
    "        \"experience\": random.randint(1, 40),  # Random experience between 1 and 40 years\n",
    "        \"address\": f\"{random.randint(101, 999)} {random.choice(['Marine Drive', 'Carter Road', 'Bandra West', 'Andheri East', 'Colaba', 'Borivali', 'Juhu'])}, Mumbai\",\n",
    "        \"location\": generate_coordinates()\n",
    "    }\n",
    "    doctors.append(doctor)\n",
    "\n",
    "# Print the first 5 doctors to preview\n",
    "for doctor in doctors[:5]:\n",
    "    print(doctor)\n"
   ]
  },
  {
   "cell_type": "code",
   "execution_count": 59,
   "id": "15145f5f-bd94-43db-8551-635d3b54e196",
   "metadata": {},
   "outputs": [],
   "source": [
    "data=[d[\"location\"] for d in doctors]"
   ]
  },
  {
   "cell_type": "code",
   "execution_count": 61,
   "id": "8c4710ad-9837-44dc-8ad3-65b7906cd018",
   "metadata": {},
   "outputs": [],
   "source": [
    "import pandas as pd"
   ]
  },
  {
   "cell_type": "code",
   "execution_count": 62,
   "id": "fbd5667b-52b2-4fca-9f50-69c64d028473",
   "metadata": {},
   "outputs": [],
   "source": [
    "df=pd.DataFrame(data)"
   ]
  },
  {
   "cell_type": "code",
   "execution_count": 68,
   "id": "ae8faeae-b725-4dfe-92d9-ec574c987c13",
   "metadata": {},
   "outputs": [],
   "source": [
    "df.rename(columns={\"lon\":\"lng\"},inplace=True)"
   ]
  },
  {
   "cell_type": "code",
   "execution_count": 69,
   "id": "ce360e48-3860-4c73-b824-b1730aa86dbb",
   "metadata": {},
   "outputs": [
    {
     "data": {
      "text/html": [
       "<div>\n",
       "<style scoped>\n",
       "    .dataframe tbody tr th:only-of-type {\n",
       "        vertical-align: middle;\n",
       "    }\n",
       "\n",
       "    .dataframe tbody tr th {\n",
       "        vertical-align: top;\n",
       "    }\n",
       "\n",
       "    .dataframe thead th {\n",
       "        text-align: right;\n",
       "    }\n",
       "</style>\n",
       "<table border=\"1\" class=\"dataframe\">\n",
       "  <thead>\n",
       "    <tr style=\"text-align: right;\">\n",
       "      <th></th>\n",
       "      <th>lat</th>\n",
       "      <th>lng</th>\n",
       "    </tr>\n",
       "  </thead>\n",
       "  <tbody>\n",
       "    <tr>\n",
       "      <th>0</th>\n",
       "      <td>19.017034</td>\n",
       "      <td>72.854514</td>\n",
       "    </tr>\n",
       "    <tr>\n",
       "      <th>1</th>\n",
       "      <td>19.064483</td>\n",
       "      <td>72.845504</td>\n",
       "    </tr>\n",
       "    <tr>\n",
       "      <th>2</th>\n",
       "      <td>19.122542</td>\n",
       "      <td>72.792121</td>\n",
       "    </tr>\n",
       "    <tr>\n",
       "      <th>3</th>\n",
       "      <td>19.081211</td>\n",
       "      <td>72.943157</td>\n",
       "    </tr>\n",
       "    <tr>\n",
       "      <th>4</th>\n",
       "      <td>19.020429</td>\n",
       "      <td>72.843080</td>\n",
       "    </tr>\n",
       "  </tbody>\n",
       "</table>\n",
       "</div>"
      ],
      "text/plain": [
       "         lat        lng\n",
       "0  19.017034  72.854514\n",
       "1  19.064483  72.845504\n",
       "2  19.122542  72.792121\n",
       "3  19.081211  72.943157\n",
       "4  19.020429  72.843080"
      ]
     },
     "execution_count": 69,
     "metadata": {},
     "output_type": "execute_result"
    }
   ],
   "source": [
    "df.head()"
   ]
  },
  {
   "cell_type": "code",
   "execution_count": 70,
   "id": "c07f8540-6ad4-40f0-bf24-f82c1eeeb377",
   "metadata": {},
   "outputs": [],
   "source": [
    "df.to_csv(\"locations.csv\",index=False,encoding=\"utf-8\")"
   ]
  },
  {
   "cell_type": "code",
   "execution_count": 71,
   "id": "a54c67fa-2651-4b50-a4b5-86154252edca",
   "metadata": {},
   "outputs": [
    {
     "data": {
      "text/plain": [
       "'doctors'"
      ]
     },
     "execution_count": 71,
     "metadata": {},
     "output_type": "execute_result"
    }
   ],
   "source": [
    "index_name"
   ]
  },
  {
   "cell_type": "code",
   "execution_count": 74,
   "id": "e2a448d6-7199-4961-b55b-c66ba9265cf0",
   "metadata": {},
   "outputs": [],
   "source": [
    "for doctor in doctors:\n",
    "    client.index(index=index_name,document=doctor)"
   ]
  },
  {
   "cell_type": "code",
   "execution_count": 97,
   "id": "c7997a61-220b-44e0-8b97-0a38317362f8",
   "metadata": {},
   "outputs": [],
   "source": [
    "geo_query={\n",
    "    \"size\":20,\n",
    "    \"query\":{\n",
    "        \"geo_distance\":{\n",
    "            \"distance\":\"10km\",\n",
    "            \"location\":{\"lat\":19.16492,\"lon\":72.87133}\n",
    "        }\n",
    "    }\n",
    "}"
   ]
  },
  {
   "cell_type": "code",
   "execution_count": 84,
   "id": "5d9fa9c5-c4a8-4400-91a8-1acc8bcac942",
   "metadata": {},
   "outputs": [],
   "source": [
    "response=client.search(index=index_name,body=geo_query)"
   ]
  },
  {
   "cell_type": "code",
   "execution_count": 85,
   "id": "6be9fe4f-ef3d-41d0-b1ca-cbf8d0506764",
   "metadata": {},
   "outputs": [],
   "source": [
    "data=[]\n",
    "for hit in response[\"hits\"][\"hits\"]:\n",
    "    print(hit[\"_source\"])"
   ]
  },
  {
   "cell_type": "code",
   "execution_count": 86,
   "id": "c0cb4568-8a33-4ab8-a753-467d8961cc12",
   "metadata": {},
   "outputs": [
    {
     "data": {
      "text/plain": [
       "[{'lat': 19.155790455540462, 'lon': 72.86973684472143},\n",
       " {'lat': 19.15321046996135, 'lon': 72.88763181260637},\n",
       " {'lat': 19.120908944146848, 'lon': 72.87470665809411},\n",
       " {'lat': 19.13859102627138, 'lon': 72.85072016745433},\n",
       " {'lat': 19.164906220225756, 'lon': 72.89281952745594},\n",
       " {'lat': 19.16074575513179, 'lon': 72.8271132026206},\n",
       " {'lat': 19.126672967169178, 'lon': 72.85848305923484},\n",
       " {'lat': 19.173964212525647, 'lon': 72.86346891014435},\n",
       " {'lat': 19.172494349895665, 'lon': 72.88630150443333},\n",
       " {'lat': 19.16043612795266, 'lon': 72.8556901246473},\n",
       " {'lat': 19.15163717096808, 'lon': 72.8273589910145}]"
      ]
     },
     "execution_count": 86,
     "metadata": {},
     "output_type": "execute_result"
    }
   ],
   "source": [
    "data"
   ]
  },
  {
   "cell_type": "code",
   "execution_count": 89,
   "id": "5e318d0b-cdae-43a0-a516-d009e328ef31",
   "metadata": {},
   "outputs": [],
   "source": [
    "df=pd.DataFrame(data)"
   ]
  },
  {
   "cell_type": "code",
   "execution_count": 91,
   "id": "b4497e76-ad74-493b-adae-621e2acb05e5",
   "metadata": {},
   "outputs": [],
   "source": [
    "df.rename(columns={\"lon\":\"lng\"},inplace=True)"
   ]
  },
  {
   "cell_type": "code",
   "execution_count": 93,
   "id": "37279790-e5fc-4a02-9c19-b5cdf157d9e7",
   "metadata": {},
   "outputs": [],
   "source": [
    "df.to_csv(\"locations_got.csv\",index=False,encoding=\"utf-8\")"
   ]
  },
  {
   "cell_type": "code",
   "execution_count": 107,
   "id": "5be4643e-f8f8-421c-b723-4b3ea2beb45c",
   "metadata": {},
   "outputs": [],
   "source": [
    "locations=['Marine Drive', 'Carter Road', 'Bandra West', 'Andheri East', 'Colaba', 'Borivali', 'Juhu',\"Girgaon\",\"Mazgaon\",\"nagpada\",\"Gateway of India\", \"Marine Drive\", \"Chhatrapati Shivaji Maharaj Terminus\", \"Elephanta Caves\",\n",
    "    \"Siddhivinayak Temple\", \"Haji Ali Dargah\", \"Hanging Gardens\", \"Juhu Beach\", \"Girgaon Chowpatty\",\n",
    "    \"Bandra-Worli Sea Link\", \"Worli Fort\", \"Global Vipassana Pagoda\", \"Prince of Wales Museum\",\n",
    "    \"Dr. Bhau Daji Lad Museum\", \"Mumbai Zoo (Veermata Jijabai Udyan)\", \"Nehru Science Centre\",\n",
    "    \"ISKCON Temple\", \"Mount Mary Church\", \"Kanheri Caves\", \"Sanjay Gandhi National Park\",\n",
    "    \"Mahalakshmi Racecourse\", \"Colaba Causeway\", \"Crawford Market\", \"Chor Bazaar\",\n",
    "    \"Fashion Street\", \"High Street Phoenix\", \"Palladium Mall\", \"Phoenix Market City\",\n",
    "    \"R City Mall\", \"Inorbit Mall\", \"Atria Mall\", \"Linking Road\", \"Hill Road\", \"Carter Road Promenade\",\n",
    "    \"Powai Lake\", \"Vihar Lake\", \"Tulsi Lake\", \"Banganga Tank\", \"Mahim Fort\", \"Shivaji Park\",\n",
    "    \"Rajabai Clock Tower\", \"Flora Fountain\", \"Asiatic Library\", \"Film City\", \"EsselWorld\",\n",
    "    \"Water Kingdom\", \"Tikuji-ni-Wadi\", \"Kidzania Mumbai\", \"Hakone Entertainment Centre\",\n",
    "    \"Snow World\", \"Mumbai Port Trust Garden\", \"Oval Maidan\", \"Azad Maidan\", \"Kala Ghoda\",\n",
    "    \"Nariman Point\", \"Breach Candy\", \"Walkeshwar\", \"Mani Bhavan\", \"Antilia Building\",\n",
    "    \"Aarey Milk Colony\", \"Borivali National Park\", \"Versova Beach\", \"Marve Beach\", \"Madh Island\",\n",
    "    \"Gorai Beach\", \"Manori Beach\", \"Arnala Beach\", \"Chincholi Bunder\", \"Bandra Reclamation\",\n",
    "    \"Lokhandwala Complex\", \"Andheri West\", \"Andheri East\", \"Vile Parle\", \"Santacruz\", \"Khar\",\n",
    "    \"Dadar\", \"Parel\", \"Lower Parel\", \"Byculla\", \"Mazgaon\", \"Sion\", \"Matunga\", \"Chembur\",\n",
    "    \"Kurla\", \"Mulund\", \"Bhandup\", \"Ghatkopar\", \"Vikhroli\", \"Powai\", \"Kanjurmarg\", \"Malad\",\n",
    "    \"Kandivali\", \"Borivali\", \"Dahisar\", \"Mira Road\", \"Bhayandar\", \"Thane\", \"Kalwa\", \"Mumbra\",\n",
    "    \"Navi Mumbai\", \"Panvel\"]"
   ]
  },
  {
   "cell_type": "code",
   "execution_count": 108,
   "id": "b03cf4eb-1602-4b93-b37a-e92b163b55ee",
   "metadata": {},
   "outputs": [
    {
     "ename": "KeyboardInterrupt",
     "evalue": "",
     "output_type": "error",
     "traceback": [
      "\u001b[1;31m---------------------------------------------------------------------------\u001b[0m",
      "\u001b[1;31mKeyboardInterrupt\u001b[0m                         Traceback (most recent call last)",
      "Cell \u001b[1;32mIn[108], line 11\u001b[0m\n\u001b[0;32m      1\u001b[0m \u001b[38;5;28;01mfor\u001b[39;00m i \u001b[38;5;129;01min\u001b[39;00m \u001b[38;5;28mrange\u001b[39m(\u001b[38;5;241m1000000\u001b[39m):\n\u001b[0;32m      2\u001b[0m     doctor \u001b[38;5;241m=\u001b[39m {\n\u001b[0;32m      3\u001b[0m         \u001b[38;5;124m\"\u001b[39m\u001b[38;5;124muser_id\u001b[39m\u001b[38;5;124m\"\u001b[39m: \u001b[38;5;28mstr\u001b[39m(i),\n\u001b[0;32m      4\u001b[0m         \u001b[38;5;124m\"\u001b[39m\u001b[38;5;124mname\u001b[39m\u001b[38;5;124m\"\u001b[39m: \u001b[38;5;124mf\u001b[39m\u001b[38;5;124m\"\u001b[39m\u001b[38;5;124mDr. \u001b[39m\u001b[38;5;132;01m{\u001b[39;00mrandom\u001b[38;5;241m.\u001b[39mchoice([\u001b[38;5;124m'\u001b[39m\u001b[38;5;124mJohn\u001b[39m\u001b[38;5;124m'\u001b[39m,\u001b[38;5;250m \u001b[39m\u001b[38;5;124m'\u001b[39m\u001b[38;5;124mAlice\u001b[39m\u001b[38;5;124m'\u001b[39m,\u001b[38;5;250m \u001b[39m\u001b[38;5;124m'\u001b[39m\u001b[38;5;124mRaj\u001b[39m\u001b[38;5;124m'\u001b[39m,\u001b[38;5;250m \u001b[39m\u001b[38;5;124m'\u001b[39m\u001b[38;5;124mPriya\u001b[39m\u001b[38;5;124m'\u001b[39m,\u001b[38;5;250m \u001b[39m\u001b[38;5;124m'\u001b[39m\u001b[38;5;124mSanjay\u001b[39m\u001b[38;5;124m'\u001b[39m,\u001b[38;5;250m \u001b[39m\u001b[38;5;124m'\u001b[39m\u001b[38;5;124mAnita\u001b[39m\u001b[38;5;124m'\u001b[39m,\u001b[38;5;250m \u001b[39m\u001b[38;5;124m'\u001b[39m\u001b[38;5;124mVivek\u001b[39m\u001b[38;5;124m'\u001b[39m,\u001b[38;5;250m \u001b[39m\u001b[38;5;124m'\u001b[39m\u001b[38;5;124mNeha\u001b[39m\u001b[38;5;124m'\u001b[39m])\u001b[38;5;132;01m}\u001b[39;00m\u001b[38;5;124m \u001b[39m\u001b[38;5;132;01m{\u001b[39;00mrandom\u001b[38;5;241m.\u001b[39mchoice([\u001b[38;5;124m'\u001b[39m\u001b[38;5;124mSharma\u001b[39m\u001b[38;5;124m'\u001b[39m,\u001b[38;5;250m \u001b[39m\u001b[38;5;124m'\u001b[39m\u001b[38;5;124mPatel\u001b[39m\u001b[38;5;124m'\u001b[39m,\u001b[38;5;250m \u001b[39m\u001b[38;5;124m'\u001b[39m\u001b[38;5;124mMehta\u001b[39m\u001b[38;5;124m'\u001b[39m,\u001b[38;5;250m \u001b[39m\u001b[38;5;124m'\u001b[39m\u001b[38;5;124mGupta\u001b[39m\u001b[38;5;124m'\u001b[39m,\u001b[38;5;250m \u001b[39m\u001b[38;5;124m'\u001b[39m\u001b[38;5;124mKhan\u001b[39m\u001b[38;5;124m'\u001b[39m,\u001b[38;5;250m \u001b[39m\u001b[38;5;124m'\u001b[39m\u001b[38;5;124mReddy\u001b[39m\u001b[38;5;124m'\u001b[39m,\u001b[38;5;250m \u001b[39m\u001b[38;5;124m'\u001b[39m\u001b[38;5;124mNair\u001b[39m\u001b[38;5;124m'\u001b[39m])\u001b[38;5;132;01m}\u001b[39;00m\u001b[38;5;124m\"\u001b[39m,\n\u001b[1;32m   (...)\u001b[0m\n\u001b[0;32m      9\u001b[0m         \u001b[38;5;124m\"\u001b[39m\u001b[38;5;124mlocation\u001b[39m\u001b[38;5;124m\"\u001b[39m: generate_coordinates()\n\u001b[0;32m     10\u001b[0m     }\n\u001b[1;32m---> 11\u001b[0m     \u001b[43mclient\u001b[49m\u001b[38;5;241;43m.\u001b[39;49m\u001b[43mindex\u001b[49m\u001b[43m(\u001b[49m\u001b[43mindex\u001b[49m\u001b[38;5;241;43m=\u001b[39;49m\u001b[43mindex_name\u001b[49m\u001b[43m,\u001b[49m\u001b[43mdocument\u001b[49m\u001b[38;5;241;43m=\u001b[39;49m\u001b[43mdoctor\u001b[49m\u001b[43m)\u001b[49m\n",
      "File \u001b[1;32mB:\\Major Project\\major\\Lib\\site-packages\\elasticsearch\\_sync\\client\\utils.py:455\u001b[0m, in \u001b[0;36m_rewrite_parameters.<locals>.wrapper.<locals>.wrapped\u001b[1;34m(*args, **kwargs)\u001b[0m\n\u001b[0;32m    452\u001b[0m         \u001b[38;5;28;01mexcept\u001b[39;00m \u001b[38;5;167;01mKeyError\u001b[39;00m:\n\u001b[0;32m    453\u001b[0m             \u001b[38;5;28;01mpass\u001b[39;00m\n\u001b[1;32m--> 455\u001b[0m \u001b[38;5;28;01mreturn\u001b[39;00m \u001b[43mapi\u001b[49m\u001b[43m(\u001b[49m\u001b[38;5;241;43m*\u001b[39;49m\u001b[43margs\u001b[49m\u001b[43m,\u001b[49m\u001b[43m \u001b[49m\u001b[38;5;241;43m*\u001b[39;49m\u001b[38;5;241;43m*\u001b[39;49m\u001b[43mkwargs\u001b[49m\u001b[43m)\u001b[49m\n",
      "File \u001b[1;32mB:\\Major Project\\major\\Lib\\site-packages\\elasticsearch\\_sync\\client\\__init__.py:2441\u001b[0m, in \u001b[0;36mElasticsearch.index\u001b[1;34m(self, index, document, body, id, error_trace, filter_path, human, if_primary_term, if_seq_no, op_type, pipeline, pretty, refresh, require_alias, routing, timeout, version, version_type, wait_for_active_shards)\u001b[0m\n\u001b[0;32m   2439\u001b[0m __body \u001b[38;5;241m=\u001b[39m document \u001b[38;5;28;01mif\u001b[39;00m document \u001b[38;5;129;01mis\u001b[39;00m \u001b[38;5;129;01mnot\u001b[39;00m \u001b[38;5;28;01mNone\u001b[39;00m \u001b[38;5;28;01melse\u001b[39;00m body\n\u001b[0;32m   2440\u001b[0m __headers \u001b[38;5;241m=\u001b[39m {\u001b[38;5;124m\"\u001b[39m\u001b[38;5;124maccept\u001b[39m\u001b[38;5;124m\"\u001b[39m: \u001b[38;5;124m\"\u001b[39m\u001b[38;5;124mapplication/json\u001b[39m\u001b[38;5;124m\"\u001b[39m, \u001b[38;5;124m\"\u001b[39m\u001b[38;5;124mcontent-type\u001b[39m\u001b[38;5;124m\"\u001b[39m: \u001b[38;5;124m\"\u001b[39m\u001b[38;5;124mapplication/json\u001b[39m\u001b[38;5;124m\"\u001b[39m}\n\u001b[1;32m-> 2441\u001b[0m \u001b[38;5;28;01mreturn\u001b[39;00m \u001b[38;5;28;43mself\u001b[39;49m\u001b[38;5;241;43m.\u001b[39;49m\u001b[43mperform_request\u001b[49m\u001b[43m(\u001b[49m\u001b[43m  \u001b[49m\u001b[38;5;66;43;03m# type: ignore[return-value]\u001b[39;49;00m\n\u001b[0;32m   2442\u001b[0m \u001b[43m    \u001b[49m\u001b[43m__method\u001b[49m\u001b[43m,\u001b[49m\n\u001b[0;32m   2443\u001b[0m \u001b[43m    \u001b[49m\u001b[43m__path\u001b[49m\u001b[43m,\u001b[49m\n\u001b[0;32m   2444\u001b[0m \u001b[43m    \u001b[49m\u001b[43mparams\u001b[49m\u001b[38;5;241;43m=\u001b[39;49m\u001b[43m__query\u001b[49m\u001b[43m,\u001b[49m\n\u001b[0;32m   2445\u001b[0m \u001b[43m    \u001b[49m\u001b[43mheaders\u001b[49m\u001b[38;5;241;43m=\u001b[39;49m\u001b[43m__headers\u001b[49m\u001b[43m,\u001b[49m\n\u001b[0;32m   2446\u001b[0m \u001b[43m    \u001b[49m\u001b[43mbody\u001b[49m\u001b[38;5;241;43m=\u001b[39;49m\u001b[43m__body\u001b[49m\u001b[43m,\u001b[49m\n\u001b[0;32m   2447\u001b[0m \u001b[43m    \u001b[49m\u001b[43mendpoint_id\u001b[49m\u001b[38;5;241;43m=\u001b[39;49m\u001b[38;5;124;43m\"\u001b[39;49m\u001b[38;5;124;43mindex\u001b[39;49m\u001b[38;5;124;43m\"\u001b[39;49m\u001b[43m,\u001b[49m\n\u001b[0;32m   2448\u001b[0m \u001b[43m    \u001b[49m\u001b[43mpath_parts\u001b[49m\u001b[38;5;241;43m=\u001b[39;49m\u001b[43m__path_parts\u001b[49m\u001b[43m,\u001b[49m\n\u001b[0;32m   2449\u001b[0m \u001b[43m\u001b[49m\u001b[43m)\u001b[49m\n",
      "File \u001b[1;32mB:\\Major Project\\major\\Lib\\site-packages\\elasticsearch\\_sync\\client\\_base.py:271\u001b[0m, in \u001b[0;36mBaseClient.perform_request\u001b[1;34m(self, method, path, params, headers, body, endpoint_id, path_parts)\u001b[0m\n\u001b[0;32m    255\u001b[0m \u001b[38;5;28;01mdef\u001b[39;00m \u001b[38;5;21mperform_request\u001b[39m(\n\u001b[0;32m    256\u001b[0m     \u001b[38;5;28mself\u001b[39m,\n\u001b[0;32m    257\u001b[0m     method: \u001b[38;5;28mstr\u001b[39m,\n\u001b[1;32m   (...)\u001b[0m\n\u001b[0;32m    264\u001b[0m     path_parts: Optional[Mapping[\u001b[38;5;28mstr\u001b[39m, Any]] \u001b[38;5;241m=\u001b[39m \u001b[38;5;28;01mNone\u001b[39;00m,\n\u001b[0;32m    265\u001b[0m ) \u001b[38;5;241m-\u001b[39m\u001b[38;5;241m>\u001b[39m ApiResponse[Any]:\n\u001b[0;32m    266\u001b[0m     \u001b[38;5;28;01mwith\u001b[39;00m \u001b[38;5;28mself\u001b[39m\u001b[38;5;241m.\u001b[39m_otel\u001b[38;5;241m.\u001b[39mspan(\n\u001b[0;32m    267\u001b[0m         method,\n\u001b[0;32m    268\u001b[0m         endpoint_id\u001b[38;5;241m=\u001b[39mendpoint_id,\n\u001b[0;32m    269\u001b[0m         path_parts\u001b[38;5;241m=\u001b[39mpath_parts \u001b[38;5;129;01mor\u001b[39;00m {},\n\u001b[0;32m    270\u001b[0m     ) \u001b[38;5;28;01mas\u001b[39;00m otel_span:\n\u001b[1;32m--> 271\u001b[0m         response \u001b[38;5;241m=\u001b[39m \u001b[38;5;28;43mself\u001b[39;49m\u001b[38;5;241;43m.\u001b[39;49m\u001b[43m_perform_request\u001b[49m\u001b[43m(\u001b[49m\n\u001b[0;32m    272\u001b[0m \u001b[43m            \u001b[49m\u001b[43mmethod\u001b[49m\u001b[43m,\u001b[49m\n\u001b[0;32m    273\u001b[0m \u001b[43m            \u001b[49m\u001b[43mpath\u001b[49m\u001b[43m,\u001b[49m\n\u001b[0;32m    274\u001b[0m \u001b[43m            \u001b[49m\u001b[43mparams\u001b[49m\u001b[38;5;241;43m=\u001b[39;49m\u001b[43mparams\u001b[49m\u001b[43m,\u001b[49m\n\u001b[0;32m    275\u001b[0m \u001b[43m            \u001b[49m\u001b[43mheaders\u001b[49m\u001b[38;5;241;43m=\u001b[39;49m\u001b[43mheaders\u001b[49m\u001b[43m,\u001b[49m\n\u001b[0;32m    276\u001b[0m \u001b[43m            \u001b[49m\u001b[43mbody\u001b[49m\u001b[38;5;241;43m=\u001b[39;49m\u001b[43mbody\u001b[49m\u001b[43m,\u001b[49m\n\u001b[0;32m    277\u001b[0m \u001b[43m            \u001b[49m\u001b[43motel_span\u001b[49m\u001b[38;5;241;43m=\u001b[39;49m\u001b[43motel_span\u001b[49m\u001b[43m,\u001b[49m\n\u001b[0;32m    278\u001b[0m \u001b[43m        \u001b[49m\u001b[43m)\u001b[49m\n\u001b[0;32m    279\u001b[0m         otel_span\u001b[38;5;241m.\u001b[39mset_elastic_cloud_metadata(response\u001b[38;5;241m.\u001b[39mmeta\u001b[38;5;241m.\u001b[39mheaders)\n\u001b[0;32m    280\u001b[0m         \u001b[38;5;28;01mreturn\u001b[39;00m response\n",
      "File \u001b[1;32mB:\\Major Project\\major\\Lib\\site-packages\\elasticsearch\\_sync\\client\\_base.py:316\u001b[0m, in \u001b[0;36mBaseClient._perform_request\u001b[1;34m(self, method, path, params, headers, body, otel_span)\u001b[0m\n\u001b[0;32m    313\u001b[0m \u001b[38;5;28;01melse\u001b[39;00m:\n\u001b[0;32m    314\u001b[0m     target \u001b[38;5;241m=\u001b[39m path\n\u001b[1;32m--> 316\u001b[0m meta, resp_body \u001b[38;5;241m=\u001b[39m \u001b[38;5;28;43mself\u001b[39;49m\u001b[38;5;241;43m.\u001b[39;49m\u001b[43mtransport\u001b[49m\u001b[38;5;241;43m.\u001b[39;49m\u001b[43mperform_request\u001b[49m\u001b[43m(\u001b[49m\n\u001b[0;32m    317\u001b[0m \u001b[43m    \u001b[49m\u001b[43mmethod\u001b[49m\u001b[43m,\u001b[49m\n\u001b[0;32m    318\u001b[0m \u001b[43m    \u001b[49m\u001b[43mtarget\u001b[49m\u001b[43m,\u001b[49m\n\u001b[0;32m    319\u001b[0m \u001b[43m    \u001b[49m\u001b[43mheaders\u001b[49m\u001b[38;5;241;43m=\u001b[39;49m\u001b[43mrequest_headers\u001b[49m\u001b[43m,\u001b[49m\n\u001b[0;32m    320\u001b[0m \u001b[43m    \u001b[49m\u001b[43mbody\u001b[49m\u001b[38;5;241;43m=\u001b[39;49m\u001b[43mbody\u001b[49m\u001b[43m,\u001b[49m\n\u001b[0;32m    321\u001b[0m \u001b[43m    \u001b[49m\u001b[43mrequest_timeout\u001b[49m\u001b[38;5;241;43m=\u001b[39;49m\u001b[38;5;28;43mself\u001b[39;49m\u001b[38;5;241;43m.\u001b[39;49m\u001b[43m_request_timeout\u001b[49m\u001b[43m,\u001b[49m\n\u001b[0;32m    322\u001b[0m \u001b[43m    \u001b[49m\u001b[43mmax_retries\u001b[49m\u001b[38;5;241;43m=\u001b[39;49m\u001b[38;5;28;43mself\u001b[39;49m\u001b[38;5;241;43m.\u001b[39;49m\u001b[43m_max_retries\u001b[49m\u001b[43m,\u001b[49m\n\u001b[0;32m    323\u001b[0m \u001b[43m    \u001b[49m\u001b[43mretry_on_status\u001b[49m\u001b[38;5;241;43m=\u001b[39;49m\u001b[38;5;28;43mself\u001b[39;49m\u001b[38;5;241;43m.\u001b[39;49m\u001b[43m_retry_on_status\u001b[49m\u001b[43m,\u001b[49m\n\u001b[0;32m    324\u001b[0m \u001b[43m    \u001b[49m\u001b[43mretry_on_timeout\u001b[49m\u001b[38;5;241;43m=\u001b[39;49m\u001b[38;5;28;43mself\u001b[39;49m\u001b[38;5;241;43m.\u001b[39;49m\u001b[43m_retry_on_timeout\u001b[49m\u001b[43m,\u001b[49m\n\u001b[0;32m    325\u001b[0m \u001b[43m    \u001b[49m\u001b[43mclient_meta\u001b[49m\u001b[38;5;241;43m=\u001b[39;49m\u001b[38;5;28;43mself\u001b[39;49m\u001b[38;5;241;43m.\u001b[39;49m\u001b[43m_client_meta\u001b[49m\u001b[43m,\u001b[49m\n\u001b[0;32m    326\u001b[0m \u001b[43m    \u001b[49m\u001b[43motel_span\u001b[49m\u001b[38;5;241;43m=\u001b[39;49m\u001b[43motel_span\u001b[49m\u001b[43m,\u001b[49m\n\u001b[0;32m    327\u001b[0m \u001b[43m\u001b[49m\u001b[43m)\u001b[49m\n\u001b[0;32m    329\u001b[0m \u001b[38;5;66;03m# HEAD with a 404 is returned as a normal response\u001b[39;00m\n\u001b[0;32m    330\u001b[0m \u001b[38;5;66;03m# since this is used as an 'exists' functionality.\u001b[39;00m\n\u001b[0;32m    331\u001b[0m \u001b[38;5;28;01mif\u001b[39;00m \u001b[38;5;129;01mnot\u001b[39;00m (method \u001b[38;5;241m==\u001b[39m \u001b[38;5;124m\"\u001b[39m\u001b[38;5;124mHEAD\u001b[39m\u001b[38;5;124m\"\u001b[39m \u001b[38;5;129;01mand\u001b[39;00m meta\u001b[38;5;241m.\u001b[39mstatus \u001b[38;5;241m==\u001b[39m \u001b[38;5;241m404\u001b[39m) \u001b[38;5;129;01mand\u001b[39;00m (\n\u001b[0;32m    332\u001b[0m     \u001b[38;5;129;01mnot\u001b[39;00m \u001b[38;5;241m200\u001b[39m \u001b[38;5;241m<\u001b[39m\u001b[38;5;241m=\u001b[39m meta\u001b[38;5;241m.\u001b[39mstatus \u001b[38;5;241m<\u001b[39m \u001b[38;5;241m299\u001b[39m\n\u001b[0;32m    333\u001b[0m     \u001b[38;5;129;01mand\u001b[39;00m (\n\u001b[1;32m   (...)\u001b[0m\n\u001b[0;32m    337\u001b[0m     )\n\u001b[0;32m    338\u001b[0m ):\n",
      "File \u001b[1;32mB:\\Major Project\\major\\Lib\\site-packages\\elastic_transport\\_transport.py:342\u001b[0m, in \u001b[0;36mTransport.perform_request\u001b[1;34m(self, method, target, body, headers, max_retries, retry_on_status, retry_on_timeout, request_timeout, client_meta, otel_span)\u001b[0m\n\u001b[0;32m    340\u001b[0m \u001b[38;5;28;01mtry\u001b[39;00m:\n\u001b[0;32m    341\u001b[0m     otel_span\u001b[38;5;241m.\u001b[39mset_node_metadata(node\u001b[38;5;241m.\u001b[39mhost, node\u001b[38;5;241m.\u001b[39mport, node\u001b[38;5;241m.\u001b[39mbase_url, target)\n\u001b[1;32m--> 342\u001b[0m     resp \u001b[38;5;241m=\u001b[39m \u001b[43mnode\u001b[49m\u001b[38;5;241;43m.\u001b[39;49m\u001b[43mperform_request\u001b[49m\u001b[43m(\u001b[49m\n\u001b[0;32m    343\u001b[0m \u001b[43m        \u001b[49m\u001b[43mmethod\u001b[49m\u001b[43m,\u001b[49m\n\u001b[0;32m    344\u001b[0m \u001b[43m        \u001b[49m\u001b[43mtarget\u001b[49m\u001b[43m,\u001b[49m\n\u001b[0;32m    345\u001b[0m \u001b[43m        \u001b[49m\u001b[43mbody\u001b[49m\u001b[38;5;241;43m=\u001b[39;49m\u001b[43mrequest_body\u001b[49m\u001b[43m,\u001b[49m\n\u001b[0;32m    346\u001b[0m \u001b[43m        \u001b[49m\u001b[43mheaders\u001b[49m\u001b[38;5;241;43m=\u001b[39;49m\u001b[43mrequest_headers\u001b[49m\u001b[43m,\u001b[49m\n\u001b[0;32m    347\u001b[0m \u001b[43m        \u001b[49m\u001b[43mrequest_timeout\u001b[49m\u001b[38;5;241;43m=\u001b[39;49m\u001b[43mrequest_timeout\u001b[49m\u001b[43m,\u001b[49m\n\u001b[0;32m    348\u001b[0m \u001b[43m    \u001b[49m\u001b[43m)\u001b[49m\n\u001b[0;32m    349\u001b[0m     _logger\u001b[38;5;241m.\u001b[39minfo(\n\u001b[0;32m    350\u001b[0m         \u001b[38;5;124m\"\u001b[39m\u001b[38;5;132;01m%s\u001b[39;00m\u001b[38;5;124m \u001b[39m\u001b[38;5;132;01m%s\u001b[39;00m\u001b[38;5;132;01m%s\u001b[39;00m\u001b[38;5;124m [status:\u001b[39m\u001b[38;5;132;01m%s\u001b[39;00m\u001b[38;5;124m duration:\u001b[39m\u001b[38;5;132;01m%.3f\u001b[39;00m\u001b[38;5;124ms]\u001b[39m\u001b[38;5;124m\"\u001b[39m\n\u001b[0;32m    351\u001b[0m         \u001b[38;5;241m%\u001b[39m (\n\u001b[1;32m   (...)\u001b[0m\n\u001b[0;32m    357\u001b[0m         )\n\u001b[0;32m    358\u001b[0m     )\n\u001b[0;32m    360\u001b[0m     \u001b[38;5;28;01mif\u001b[39;00m method \u001b[38;5;241m!=\u001b[39m \u001b[38;5;124m\"\u001b[39m\u001b[38;5;124mHEAD\u001b[39m\u001b[38;5;124m\"\u001b[39m:\n",
      "File \u001b[1;32mB:\\Major Project\\major\\Lib\\site-packages\\elastic_transport\\_node\\_http_urllib3.py:167\u001b[0m, in \u001b[0;36mUrllib3HttpNode.perform_request\u001b[1;34m(self, method, target, body, headers, request_timeout)\u001b[0m\n\u001b[0;32m    164\u001b[0m \u001b[38;5;28;01melse\u001b[39;00m:\n\u001b[0;32m    165\u001b[0m     body_to_send \u001b[38;5;241m=\u001b[39m \u001b[38;5;28;01mNone\u001b[39;00m\n\u001b[1;32m--> 167\u001b[0m response \u001b[38;5;241m=\u001b[39m \u001b[38;5;28;43mself\u001b[39;49m\u001b[38;5;241;43m.\u001b[39;49m\u001b[43mpool\u001b[49m\u001b[38;5;241;43m.\u001b[39;49m\u001b[43murlopen\u001b[49m\u001b[43m(\u001b[49m\n\u001b[0;32m    168\u001b[0m \u001b[43m    \u001b[49m\u001b[43mmethod\u001b[49m\u001b[43m,\u001b[49m\n\u001b[0;32m    169\u001b[0m \u001b[43m    \u001b[49m\u001b[43mtarget\u001b[49m\u001b[43m,\u001b[49m\n\u001b[0;32m    170\u001b[0m \u001b[43m    \u001b[49m\u001b[43mbody\u001b[49m\u001b[38;5;241;43m=\u001b[39;49m\u001b[43mbody_to_send\u001b[49m\u001b[43m,\u001b[49m\n\u001b[0;32m    171\u001b[0m \u001b[43m    \u001b[49m\u001b[43mretries\u001b[49m\u001b[38;5;241;43m=\u001b[39;49m\u001b[43mRetry\u001b[49m\u001b[43m(\u001b[49m\u001b[38;5;28;43;01mFalse\u001b[39;49;00m\u001b[43m)\u001b[49m\u001b[43m,\u001b[49m\n\u001b[0;32m    172\u001b[0m \u001b[43m    \u001b[49m\u001b[43mheaders\u001b[49m\u001b[38;5;241;43m=\u001b[39;49m\u001b[43mrequest_headers\u001b[49m\u001b[43m,\u001b[49m\n\u001b[0;32m    173\u001b[0m \u001b[43m    \u001b[49m\u001b[38;5;241;43m*\u001b[39;49m\u001b[38;5;241;43m*\u001b[39;49m\u001b[43mkw\u001b[49m\u001b[43m,\u001b[49m\u001b[43m  \u001b[49m\u001b[38;5;66;43;03m# type: ignore[arg-type]\u001b[39;49;00m\n\u001b[0;32m    174\u001b[0m \u001b[43m\u001b[49m\u001b[43m)\u001b[49m\n\u001b[0;32m    175\u001b[0m response_headers \u001b[38;5;241m=\u001b[39m HttpHeaders(response\u001b[38;5;241m.\u001b[39mheaders)\n\u001b[0;32m    176\u001b[0m data \u001b[38;5;241m=\u001b[39m response\u001b[38;5;241m.\u001b[39mdata\n",
      "File \u001b[1;32mB:\\Major Project\\major\\Lib\\site-packages\\urllib3\\connectionpool.py:789\u001b[0m, in \u001b[0;36mHTTPConnectionPool.urlopen\u001b[1;34m(self, method, url, body, headers, retries, redirect, assert_same_host, timeout, pool_timeout, release_conn, chunked, body_pos, preload_content, decode_content, **response_kw)\u001b[0m\n\u001b[0;32m    786\u001b[0m response_conn \u001b[38;5;241m=\u001b[39m conn \u001b[38;5;28;01mif\u001b[39;00m \u001b[38;5;129;01mnot\u001b[39;00m release_conn \u001b[38;5;28;01melse\u001b[39;00m \u001b[38;5;28;01mNone\u001b[39;00m\n\u001b[0;32m    788\u001b[0m \u001b[38;5;66;03m# Make the request on the HTTPConnection object\u001b[39;00m\n\u001b[1;32m--> 789\u001b[0m response \u001b[38;5;241m=\u001b[39m \u001b[38;5;28;43mself\u001b[39;49m\u001b[38;5;241;43m.\u001b[39;49m\u001b[43m_make_request\u001b[49m\u001b[43m(\u001b[49m\n\u001b[0;32m    790\u001b[0m \u001b[43m    \u001b[49m\u001b[43mconn\u001b[49m\u001b[43m,\u001b[49m\n\u001b[0;32m    791\u001b[0m \u001b[43m    \u001b[49m\u001b[43mmethod\u001b[49m\u001b[43m,\u001b[49m\n\u001b[0;32m    792\u001b[0m \u001b[43m    \u001b[49m\u001b[43murl\u001b[49m\u001b[43m,\u001b[49m\n\u001b[0;32m    793\u001b[0m \u001b[43m    \u001b[49m\u001b[43mtimeout\u001b[49m\u001b[38;5;241;43m=\u001b[39;49m\u001b[43mtimeout_obj\u001b[49m\u001b[43m,\u001b[49m\n\u001b[0;32m    794\u001b[0m \u001b[43m    \u001b[49m\u001b[43mbody\u001b[49m\u001b[38;5;241;43m=\u001b[39;49m\u001b[43mbody\u001b[49m\u001b[43m,\u001b[49m\n\u001b[0;32m    795\u001b[0m \u001b[43m    \u001b[49m\u001b[43mheaders\u001b[49m\u001b[38;5;241;43m=\u001b[39;49m\u001b[43mheaders\u001b[49m\u001b[43m,\u001b[49m\n\u001b[0;32m    796\u001b[0m \u001b[43m    \u001b[49m\u001b[43mchunked\u001b[49m\u001b[38;5;241;43m=\u001b[39;49m\u001b[43mchunked\u001b[49m\u001b[43m,\u001b[49m\n\u001b[0;32m    797\u001b[0m \u001b[43m    \u001b[49m\u001b[43mretries\u001b[49m\u001b[38;5;241;43m=\u001b[39;49m\u001b[43mretries\u001b[49m\u001b[43m,\u001b[49m\n\u001b[0;32m    798\u001b[0m \u001b[43m    \u001b[49m\u001b[43mresponse_conn\u001b[49m\u001b[38;5;241;43m=\u001b[39;49m\u001b[43mresponse_conn\u001b[49m\u001b[43m,\u001b[49m\n\u001b[0;32m    799\u001b[0m \u001b[43m    \u001b[49m\u001b[43mpreload_content\u001b[49m\u001b[38;5;241;43m=\u001b[39;49m\u001b[43mpreload_content\u001b[49m\u001b[43m,\u001b[49m\n\u001b[0;32m    800\u001b[0m \u001b[43m    \u001b[49m\u001b[43mdecode_content\u001b[49m\u001b[38;5;241;43m=\u001b[39;49m\u001b[43mdecode_content\u001b[49m\u001b[43m,\u001b[49m\n\u001b[0;32m    801\u001b[0m \u001b[43m    \u001b[49m\u001b[38;5;241;43m*\u001b[39;49m\u001b[38;5;241;43m*\u001b[39;49m\u001b[43mresponse_kw\u001b[49m\u001b[43m,\u001b[49m\n\u001b[0;32m    802\u001b[0m \u001b[43m\u001b[49m\u001b[43m)\u001b[49m\n\u001b[0;32m    804\u001b[0m \u001b[38;5;66;03m# Everything went great!\u001b[39;00m\n\u001b[0;32m    805\u001b[0m clean_exit \u001b[38;5;241m=\u001b[39m \u001b[38;5;28;01mTrue\u001b[39;00m\n",
      "File \u001b[1;32mB:\\Major Project\\major\\Lib\\site-packages\\urllib3\\connectionpool.py:536\u001b[0m, in \u001b[0;36mHTTPConnectionPool._make_request\u001b[1;34m(self, conn, method, url, body, headers, retries, timeout, chunked, response_conn, preload_content, decode_content, enforce_content_length)\u001b[0m\n\u001b[0;32m    534\u001b[0m \u001b[38;5;66;03m# Receive the response from the server\u001b[39;00m\n\u001b[0;32m    535\u001b[0m \u001b[38;5;28;01mtry\u001b[39;00m:\n\u001b[1;32m--> 536\u001b[0m     response \u001b[38;5;241m=\u001b[39m \u001b[43mconn\u001b[49m\u001b[38;5;241;43m.\u001b[39;49m\u001b[43mgetresponse\u001b[49m\u001b[43m(\u001b[49m\u001b[43m)\u001b[49m\n\u001b[0;32m    537\u001b[0m \u001b[38;5;28;01mexcept\u001b[39;00m (BaseSSLError, \u001b[38;5;167;01mOSError\u001b[39;00m) \u001b[38;5;28;01mas\u001b[39;00m e:\n\u001b[0;32m    538\u001b[0m     \u001b[38;5;28mself\u001b[39m\u001b[38;5;241m.\u001b[39m_raise_timeout(err\u001b[38;5;241m=\u001b[39me, url\u001b[38;5;241m=\u001b[39murl, timeout_value\u001b[38;5;241m=\u001b[39mread_timeout)\n",
      "File \u001b[1;32mB:\\Major Project\\major\\Lib\\site-packages\\urllib3\\connection.py:507\u001b[0m, in \u001b[0;36mHTTPConnection.getresponse\u001b[1;34m(self)\u001b[0m\n\u001b[0;32m    504\u001b[0m \u001b[38;5;28;01mfrom\u001b[39;00m \u001b[38;5;21;01m.\u001b[39;00m\u001b[38;5;21;01mresponse\u001b[39;00m \u001b[38;5;28;01mimport\u001b[39;00m HTTPResponse\n\u001b[0;32m    506\u001b[0m \u001b[38;5;66;03m# Get the response from http.client.HTTPConnection\u001b[39;00m\n\u001b[1;32m--> 507\u001b[0m httplib_response \u001b[38;5;241m=\u001b[39m \u001b[38;5;28;43msuper\u001b[39;49m\u001b[43m(\u001b[49m\u001b[43m)\u001b[49m\u001b[38;5;241;43m.\u001b[39;49m\u001b[43mgetresponse\u001b[49m\u001b[43m(\u001b[49m\u001b[43m)\u001b[49m\n\u001b[0;32m    509\u001b[0m \u001b[38;5;28;01mtry\u001b[39;00m:\n\u001b[0;32m    510\u001b[0m     assert_header_parsing(httplib_response\u001b[38;5;241m.\u001b[39mmsg)\n",
      "File \u001b[1;32m~\\AppData\\Local\\Programs\\Python\\Python311\\Lib\\http\\client.py:1378\u001b[0m, in \u001b[0;36mHTTPConnection.getresponse\u001b[1;34m(self)\u001b[0m\n\u001b[0;32m   1376\u001b[0m \u001b[38;5;28;01mtry\u001b[39;00m:\n\u001b[0;32m   1377\u001b[0m     \u001b[38;5;28;01mtry\u001b[39;00m:\n\u001b[1;32m-> 1378\u001b[0m         \u001b[43mresponse\u001b[49m\u001b[38;5;241;43m.\u001b[39;49m\u001b[43mbegin\u001b[49m\u001b[43m(\u001b[49m\u001b[43m)\u001b[49m\n\u001b[0;32m   1379\u001b[0m     \u001b[38;5;28;01mexcept\u001b[39;00m \u001b[38;5;167;01mConnectionError\u001b[39;00m:\n\u001b[0;32m   1380\u001b[0m         \u001b[38;5;28mself\u001b[39m\u001b[38;5;241m.\u001b[39mclose()\n",
      "File \u001b[1;32m~\\AppData\\Local\\Programs\\Python\\Python311\\Lib\\http\\client.py:318\u001b[0m, in \u001b[0;36mHTTPResponse.begin\u001b[1;34m(self)\u001b[0m\n\u001b[0;32m    316\u001b[0m \u001b[38;5;66;03m# read until we get a non-100 response\u001b[39;00m\n\u001b[0;32m    317\u001b[0m \u001b[38;5;28;01mwhile\u001b[39;00m \u001b[38;5;28;01mTrue\u001b[39;00m:\n\u001b[1;32m--> 318\u001b[0m     version, status, reason \u001b[38;5;241m=\u001b[39m \u001b[38;5;28;43mself\u001b[39;49m\u001b[38;5;241;43m.\u001b[39;49m\u001b[43m_read_status\u001b[49m\u001b[43m(\u001b[49m\u001b[43m)\u001b[49m\n\u001b[0;32m    319\u001b[0m     \u001b[38;5;28;01mif\u001b[39;00m status \u001b[38;5;241m!=\u001b[39m CONTINUE:\n\u001b[0;32m    320\u001b[0m         \u001b[38;5;28;01mbreak\u001b[39;00m\n",
      "File \u001b[1;32m~\\AppData\\Local\\Programs\\Python\\Python311\\Lib\\http\\client.py:279\u001b[0m, in \u001b[0;36mHTTPResponse._read_status\u001b[1;34m(self)\u001b[0m\n\u001b[0;32m    278\u001b[0m \u001b[38;5;28;01mdef\u001b[39;00m \u001b[38;5;21m_read_status\u001b[39m(\u001b[38;5;28mself\u001b[39m):\n\u001b[1;32m--> 279\u001b[0m     line \u001b[38;5;241m=\u001b[39m \u001b[38;5;28mstr\u001b[39m(\u001b[38;5;28mself\u001b[39m\u001b[38;5;241m.\u001b[39mfp\u001b[38;5;241m.\u001b[39mreadline(_MAXLINE \u001b[38;5;241m+\u001b[39m \u001b[38;5;241m1\u001b[39m), \u001b[38;5;124m\"\u001b[39m\u001b[38;5;124miso-8859-1\u001b[39m\u001b[38;5;124m\"\u001b[39m)\n\u001b[0;32m    280\u001b[0m     \u001b[38;5;28;01mif\u001b[39;00m \u001b[38;5;28mlen\u001b[39m(line) \u001b[38;5;241m>\u001b[39m _MAXLINE:\n\u001b[0;32m    281\u001b[0m         \u001b[38;5;28;01mraise\u001b[39;00m LineTooLong(\u001b[38;5;124m\"\u001b[39m\u001b[38;5;124mstatus line\u001b[39m\u001b[38;5;124m\"\u001b[39m)\n",
      "File \u001b[1;32m~\\AppData\\Local\\Programs\\Python\\Python311\\Lib\\socket.py:706\u001b[0m, in \u001b[0;36mSocketIO.readinto\u001b[1;34m(self, b)\u001b[0m\n\u001b[0;32m    704\u001b[0m \u001b[38;5;28;01mwhile\u001b[39;00m \u001b[38;5;28;01mTrue\u001b[39;00m:\n\u001b[0;32m    705\u001b[0m     \u001b[38;5;28;01mtry\u001b[39;00m:\n\u001b[1;32m--> 706\u001b[0m         \u001b[38;5;28;01mreturn\u001b[39;00m \u001b[38;5;28;43mself\u001b[39;49m\u001b[38;5;241;43m.\u001b[39;49m\u001b[43m_sock\u001b[49m\u001b[38;5;241;43m.\u001b[39;49m\u001b[43mrecv_into\u001b[49m\u001b[43m(\u001b[49m\u001b[43mb\u001b[49m\u001b[43m)\u001b[49m\n\u001b[0;32m    707\u001b[0m     \u001b[38;5;28;01mexcept\u001b[39;00m timeout:\n\u001b[0;32m    708\u001b[0m         \u001b[38;5;28mself\u001b[39m\u001b[38;5;241m.\u001b[39m_timeout_occurred \u001b[38;5;241m=\u001b[39m \u001b[38;5;28;01mTrue\u001b[39;00m\n",
      "\u001b[1;31mKeyboardInterrupt\u001b[0m: "
     ]
    }
   ],
   "source": [
    "\n",
    "for i in range(1000000):\n",
    "    doctor = {\n",
    "        \"user_id\": str(i),\n",
    "        \"name\": f\"Dr. {random.choice(['John', 'Alice', 'Raj', 'Priya', 'Sanjay', 'Anita', 'Vivek', 'Neha'])} {random.choice(['Sharma', 'Patel', 'Mehta', 'Gupta', 'Khan', 'Reddy', 'Nair'])}\",\n",
    "        \"role\": random.choice(roles),\n",
    "        \"speciality\": random.choice(specialities),\n",
    "        \"experience\": random.randint(1, 40),  # Random experience between 1 and 40 years\n",
    "        \"address\": f\"{random.randint(101, 999)} {random.choice(locations)}, Mumbai\",\n",
    "        \"location\": generate_coordinates()\n",
    "    }\n",
    "    client.index(index=index_name,document=doctor)"
   ]
  },
  {
   "cell_type": "code",
   "execution_count": 95,
   "id": "854073f2-4eb9-41ba-8e01-7cc466ccc1be",
   "metadata": {},
   "outputs": [
    {
     "data": {
      "text/plain": [
       "5000"
      ]
     },
     "execution_count": 95,
     "metadata": {},
     "output_type": "execute_result"
    }
   ],
   "source": [
    "len(doctors)"
   ]
  },
  {
   "cell_type": "code",
   "execution_count": 96,
   "id": "5af633bc-b5dc-4fa5-aae3-3467a5710c07",
   "metadata": {},
   "outputs": [],
   "source": [
    "for doctor in doctors:\n",
    "    client.index(index=index_name,document=doctor)"
   ]
  },
  {
   "cell_type": "code",
   "execution_count": 99,
   "id": "86585744-0178-4457-83d0-73d2095d80cd",
   "metadata": {},
   "outputs": [],
   "source": [
    "from time import time"
   ]
  },
  {
   "cell_type": "code",
   "execution_count": 110,
   "id": "d89f00d2-ae07-41c3-ab97-d9b88e044c0e",
   "metadata": {},
   "outputs": [
    {
     "name": "stdout",
     "output_type": "stream",
     "text": [
      "0.025182723999023438\n"
     ]
    }
   ],
   "source": [
    "t=time()\n",
    "response=client.search(index=index_name,body=geo_query)\n",
    "print(time()-t)"
   ]
  },
  {
   "cell_type": "code",
   "execution_count": 114,
   "id": "6bc366e8-f5ad-4f3b-ab44-a5333a7be324",
   "metadata": {},
   "outputs": [
    {
     "name": "stdout",
     "output_type": "stream",
     "text": [
      "Search Results:\n",
      "0.009149312973022461\n",
      "{'user_id': '12', 'name': 'Dr. Vivek Khan', 'role': 'Surgeon', 'speciality': 'Dermatologist', 'experience': 27, 'address': '435 Linking Road, Mumbai', 'location': {'lat': 19.114573101227887, 'lon': 72.89007566790876}}\n",
      "{'user_id': '28', 'name': 'Dr. Vivek Mehta', 'role': 'Consultant', 'speciality': 'Gynecologist', 'experience': 37, 'address': '200 Shivaji Park, Mumbai', 'location': {'lat': 19.140321081069118, 'lon': 72.97344011305786}}\n",
      "{'user_id': '30', 'name': 'Dr. Vivek Nair', 'role': 'Surgeon', 'speciality': 'Oncologist', 'experience': 34, 'address': '811 Kurla, Mumbai', 'location': {'lat': 19.144837119966812, 'lon': 72.85628887175777}}\n",
      "{'user_id': '33', 'name': 'Dr. Vivek Mehta', 'role': 'Consultant', 'speciality': 'Gynecologist', 'experience': 36, 'address': '773 Shivaji Park, Mumbai', 'location': {'lat': 19.172556944071744, 'lon': 72.94158178394083}}\n",
      "{'user_id': '36', 'name': 'Dr. Vivek Nair', 'role': 'Surgeon', 'speciality': 'Orthopedic', 'experience': 17, 'address': '818 Antilia Building, Mumbai', 'location': {'lat': 19.10843581824923, 'lon': 72.95971176976641}}\n",
      "{'user_id': '40', 'name': 'Dr. Vivek Patel', 'role': 'Surgeon', 'speciality': 'Gynecologist', 'experience': 40, 'address': '199 Dadar, Mumbai', 'location': {'lat': 19.05780786584668, 'lon': 72.78210139892671}}\n",
      "{'user_id': '46', 'name': 'Dr. Vivek Nair', 'role': 'Consultant', 'speciality': 'Pediatrician', 'experience': 22, 'address': '201 Mount Mary Church, Mumbai', 'location': {'lat': 19.109425910168447, 'lon': 72.8904482696608}}\n",
      "{'user_id': '56', 'name': 'Dr. Vivek Khan', 'role': 'Consultant', 'speciality': 'Pediatrician', 'experience': 34, 'address': '144 Lokhandwala Complex, Mumbai', 'location': {'lat': 19.007195701811778, 'lon': 72.93985745722762}}\n",
      "{'user_id': '60', 'name': 'Dr. Vivek Gupta', 'role': 'Consultant', 'speciality': 'Dermatologist', 'experience': 22, 'address': '570 Water Kingdom, Mumbai', 'location': {'lat': 19.106054792539137, 'lon': 72.94264378951239}}\n",
      "{'user_id': '71', 'name': 'Dr. Vivek Mehta', 'role': 'Surgeon', 'speciality': 'Pediatrician', 'experience': 13, 'address': '460 Mazgaon, Mumbai', 'location': {'lat': 19.05053005427153, 'lon': 72.97630134475403}}\n"
     ]
    }
   ],
   "source": [
    "query = {\n",
    "    \"query\": {\n",
    "        \"multi_match\": {\n",
    "            \"query\": \"viek\",\n",
    "            \"fields\": [\"name\", \"speciality\",\"address\"],\n",
    "            \"fuzziness\":\"AUTO\"\n",
    "        }\n",
    "    }\n",
    "}\n",
    "t=time()\n",
    "response = client.search(index=index_name, body=query)\n",
    "print(\"Search Results:\")\n",
    "print(time()-t)\n",
    "for hit in response[\"hits\"][\"hits\"]:\n",
    "    print(hit[\"_source\"])"
   ]
  },
  {
   "cell_type": "code",
   "execution_count": null,
   "id": "5df9d635-9678-4616-a399-ec80971e3af5",
   "metadata": {},
   "outputs": [],
   "source": [
    "['Marine Drive', 'Carter Road', 'Bandra West', 'Andheri East', 'Colaba', 'Borivali', 'Juhu',\"Girgaon\",\"Mazgaon\",\"nagpada\",\"Gateway of India\", \"Marine Drive\", \"Chhatrapati Shivaji Maharaj Terminus\", \"Elephanta Caves\",\n",
    "    \"Siddhivinayak Temple\", \"Haji Ali Dargah\", \"Hanging Gardens\", \"Juhu Beach\", \"Girgaon Chowpatty\",\n",
    "    \"Bandra-Worli Sea Link\", \"Worli Fort\", \"Global Vipassana Pagoda\", \"Prince of Wales Museum\",\n",
    "    \"Dr. Bhau Daji Lad Museum\", \"Mumbai Zoo (Veermata Jijabai Udyan)\", \"Nehru Science Centre\",\n",
    "    \"ISKCON Temple\", \"Mount Mary Church\", \"Kanheri Caves\", \"Sanjay Gandhi National Park\",\n",
    "    \"Mahalakshmi Racecourse\", \"Colaba Causeway\", \"Crawford Market\", \"Chor Bazaar\",\n",
    "    \"Fashion Street\", \"High Street Phoenix\", \"Palladium Mall\", \"Phoenix Market City\",\n",
    "    \"R City Mall\", \"Inorbit Mall\", \"Atria Mall\", \"Linking Road\", \"Hill Road\", \"Carter Road Promenade\",\n",
    "    \"Powai Lake\", \"Vihar Lake\", \"Tulsi Lake\", \"Banganga Tank\", \"Mahim Fort\", \"Shivaji Park\",\n",
    "    \"Rajabai Clock Tower\", \"Flora Fountain\", \"Asiatic Library\", \"Film City\", \"EsselWorld\",\n",
    "    \"Water Kingdom\", \"Tikuji-ni-Wadi\", \"Kidzania Mumbai\", \"Hakone Entertainment Centre\",\n",
    "    \"Snow World\", \"Mumbai Port Trust Garden\", \"Oval Maidan\", \"Azad Maidan\", \"Kala Ghoda\",\n",
    "    \"Nariman Point\", \"Breach Candy\", \"Walkeshwar\", \"Mani Bhavan\", \"Antilia Building\",\n",
    "    \"Aarey Milk Colony\", \"Borivali National Park\", \"Versova Beach\", \"Marve Beach\", \"Madh Island\",\n",
    "    \"Gorai Beach\", \"Manori Beach\", \"Arnala Beach\", \"Chincholi Bunder\", \"Bandra Reclamation\",\n",
    "    \"Lokhandwala Complex\", \"Andheri West\", \"Andheri East\", \"Vile Parle\", \"Santacruz\", \"Khar\",\n",
    "    \"Dadar\", \"Parel\", \"Lower Parel\", \"Byculla\", \"Mazgaon\", \"Sion\", \"Matunga\", \"Chembur\",\n",
    "    \"Kurla\", \"Mulund\", \"Bhandup\", \"Ghatkopar\", \"Vikhroli\", \"Powai\", \"Kanjurmarg\", \"Malad\",\n",
    "    \"Kandivali\", \"Borivali\", \"Dahisar\", \"Mira Road\", \"Bhayandar\", \"Thane\", \"Kalwa\", \"Mumbra\",\n",
    "    \"Navi Mumbai\", \"Panvel\"]"
   ]
  },
  {
   "cell_type": "code",
   "execution_count": 109,
   "id": "9dc88c9f-149c-410c-bd7c-dc79217637ba",
   "metadata": {},
   "outputs": [
    {
     "data": {
      "text/plain": [
       "ObjectApiResponse({'count': 130528, '_shards': {'total': 1, 'successful': 1, 'skipped': 0, 'failed': 0}})"
      ]
     },
     "execution_count": 109,
     "metadata": {},
     "output_type": "execute_result"
    }
   ],
   "source": [
    "client.count(index=index_name)"
   ]
  },
  {
   "cell_type": "code",
   "execution_count": null,
   "id": "8dce8a3f-539a-4dd0-9094-d440a79884e1",
   "metadata": {},
   "outputs": [],
   "source": [
    "indices = client.cat.indices(format=\"json\")\n",
    "for index in indices:\n",
    "    print(index[\"index\"], index[\"docs.count\"], index[\"store.size\"])\n"
   ]
  }
 ],
 "metadata": {
  "kernelspec": {
   "display_name": "major",
   "language": "python",
   "name": "major"
  },
  "language_info": {
   "codemirror_mode": {
    "name": "ipython",
    "version": 3
   },
   "file_extension": ".py",
   "mimetype": "text/x-python",
   "name": "python",
   "nbconvert_exporter": "python",
   "pygments_lexer": "ipython3",
   "version": "3.11.5"
  }
 },
 "nbformat": 4,
 "nbformat_minor": 5
}
