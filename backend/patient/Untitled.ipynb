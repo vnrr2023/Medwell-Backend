{
 "cells": [
  {
   "cell_type": "code",
   "execution_count": 1,
   "id": "b5619240-e060-4e54-9b02-afddf8173d84",
   "metadata": {},
   "outputs": [],
   "source": [
    "import psycopg2\n",
    "import pandas as pd\n",
    "from sqlalchemy import create_engine\n",
    "\n",
    "\n",
    "db_username = 'myuser'\n",
    "db_password = 'root'\n",
    "db_host = 'localhost'\n",
    "db_port = '5432'\n",
    "db_name = 'medwell_db'\n",
    "\n",
    "# Create a connection string and engine\n",
    "connection_string = f'postgresql+psycopg2://{db_username}:{db_password}@{db_host}:{db_port}/{db_name}'\n",
    "engine = create_engine(connection_string)"
   ]
  },
  {
   "cell_type": "code",
   "execution_count": 2,
   "id": "b118179d-f32b-41ab-9028-90be92028a23",
   "metadata": {},
   "outputs": [],
   "source": [
    "user_id=9"
   ]
  },
  {
   "cell_type": "code",
   "execution_count": 3,
   "id": "beb5ac52-7cef-440c-b943-6f4f0e5f62cd",
   "metadata": {},
   "outputs": [],
   "source": [
    "query=f'''\n",
    "select submitted_at,hemoglobin,rbc_count,wbc_count,platelet_count,pcv,bilirubin,proteins, calcium,blood_urea,sr_cholestrol\n",
    "from patient_report pr join patient_reportdetail rd\n",
    "on pr.id=rd.report_id\n",
    "where user_id={user_id};\n",
    "'''"
   ]
  },
  {
   "cell_type": "code",
   "execution_count": 4,
   "id": "5f07d097-56b1-4dc5-b4c0-344be9b816a4",
   "metadata": {},
   "outputs": [],
   "source": [
    "df=pd.read_sql_query(query,engine)"
   ]
  },
  {
   "cell_type": "code",
   "execution_count": 5,
   "id": "98334992-3154-450b-95da-4470252fbbea",
   "metadata": {
    "scrolled": true
   },
   "outputs": [
    {
     "data": {
      "text/html": [
       "<div>\n",
       "<style scoped>\n",
       "    .dataframe tbody tr th:only-of-type {\n",
       "        vertical-align: middle;\n",
       "    }\n",
       "\n",
       "    .dataframe tbody tr th {\n",
       "        vertical-align: top;\n",
       "    }\n",
       "\n",
       "    .dataframe thead th {\n",
       "        text-align: right;\n",
       "    }\n",
       "</style>\n",
       "<table border=\"1\" class=\"dataframe\">\n",
       "  <thead>\n",
       "    <tr style=\"text-align: right;\">\n",
       "      <th></th>\n",
       "      <th>submitted_at</th>\n",
       "      <th>hemoglobin</th>\n",
       "      <th>rbc_count</th>\n",
       "      <th>wbc_count</th>\n",
       "      <th>platelet_count</th>\n",
       "      <th>pcv</th>\n",
       "      <th>bilirubin</th>\n",
       "      <th>proteins</th>\n",
       "      <th>calcium</th>\n",
       "      <th>blood_urea</th>\n",
       "      <th>sr_cholestrol</th>\n",
       "    </tr>\n",
       "  </thead>\n",
       "  <tbody>\n",
       "    <tr>\n",
       "      <th>0</th>\n",
       "      <td>2024-10-22</td>\n",
       "      <td>12.1</td>\n",
       "      <td>4.72</td>\n",
       "      <td>9700</td>\n",
       "      <td>219000</td>\n",
       "      <td>38</td>\n",
       "      <td>0.57</td>\n",
       "      <td>6.18</td>\n",
       "      <td>8.19</td>\n",
       "      <td>21</td>\n",
       "      <td>-1</td>\n",
       "    </tr>\n",
       "    <tr>\n",
       "      <th>1</th>\n",
       "      <td>2024-10-22</td>\n",
       "      <td>12.1</td>\n",
       "      <td>4.72</td>\n",
       "      <td>9700</td>\n",
       "      <td>219000</td>\n",
       "      <td>38</td>\n",
       "      <td>0.57</td>\n",
       "      <td>6.18</td>\n",
       "      <td>8.19</td>\n",
       "      <td>21</td>\n",
       "      <td>-1</td>\n",
       "    </tr>\n",
       "  </tbody>\n",
       "</table>\n",
       "</div>"
      ],
      "text/plain": [
       "  submitted_at hemoglobin rbc_count wbc_count platelet_count pcv bilirubin  \\\n",
       "0   2024-10-22       12.1      4.72      9700         219000  38      0.57   \n",
       "1   2024-10-22       12.1      4.72      9700         219000  38      0.57   \n",
       "\n",
       "  proteins calcium blood_urea sr_cholestrol  \n",
       "0     6.18    8.19         21            -1  \n",
       "1     6.18    8.19         21            -1  "
      ]
     },
     "execution_count": 5,
     "metadata": {},
     "output_type": "execute_result"
    }
   ],
   "source": [
    "df"
   ]
  },
  {
   "cell_type": "code",
   "execution_count": 13,
   "id": "d0656a31-5d2d-47e4-a2df-12fc09403716",
   "metadata": {},
   "outputs": [],
   "source": [
    "df.replace(\"-1\",None,inplace=True)"
   ]
  },
  {
   "cell_type": "code",
   "execution_count": 14,
   "id": "82cb76a0-0b6f-4cae-bb7e-50c609e846d3",
   "metadata": {},
   "outputs": [
    {
     "data": {
      "text/plain": [
       "{'submitted_at': [datetime.date(2024, 10, 22), datetime.date(2024, 10, 22)],\n",
       " 'hemoglobin': ['12.1', '12.1'],\n",
       " 'rbc_count': ['4.72', '4.72'],\n",
       " 'wbc_count': ['9700', '9700'],\n",
       " 'platelet_count': ['219000', '219000'],\n",
       " 'pcv': ['38', '38'],\n",
       " 'bilirubin': ['0.57', '0.57'],\n",
       " 'proteins': ['6.18', '6.18'],\n",
       " 'calcium': ['8.19', '8.19'],\n",
       " 'blood_urea': ['21', '21'],\n",
       " 'sr_cholestrol': [None, None]}"
      ]
     },
     "execution_count": 14,
     "metadata": {},
     "output_type": "execute_result"
    }
   ],
   "source": [
    "df.to_dict(\"list\")"
   ]
  },
  {
   "cell_type": "code",
   "execution_count": 15,
   "id": "fdbd484f-d43f-413f-b8f4-d10969e90817",
   "metadata": {},
   "outputs": [],
   "source": [
    "query=f'''\n",
    "SELECT \n",
    "    AVG(CASE WHEN hemoglobin <> '-1' THEN CAST(hemoglobin AS FLOAT) END) AS avg_hemoglobin,\n",
    "    AVG(CASE WHEN rbc_count <> '-1' THEN CAST(rbc_count AS FLOAT) END) AS avg_rbc_count,\n",
    "    AVG(CASE WHEN wbc_count <> '-1' THEN CAST(wbc_count AS FLOAT) END) AS avg_wbc_count,\n",
    "    AVG(CASE WHEN platelet_count <> '-1' THEN CAST(platelet_count AS FLOAT) END) AS avg_platelet_count,\n",
    "    AVG(CASE WHEN pcv <> '-1' THEN CAST(pcv AS FLOAT) END) AS avg_pcv,\n",
    "    AVG(CASE WHEN bilirubin <> '-1' THEN CAST(bilirubin AS FLOAT) END) AS avg_bilirubin,\n",
    "    AVG(CASE WHEN proteins <> '-1' THEN CAST(proteins AS FLOAT) END) AS avg_proteins,\n",
    "    AVG(CASE WHEN calcium <> '-1' THEN CAST(calcium AS FLOAT) END) AS avg_calcium,\n",
    "    AVG(CASE WHEN blood_urea <> '-1' THEN CAST(blood_urea AS FLOAT) END) AS avg_blood_urea,\n",
    "    AVG(CASE WHEN sr_cholestrol <> '-1' THEN CAST(sr_cholestrol AS FLOAT) END) AS avg_sr_cholestrol\n",
    "FROM \n",
    "    patient_report pr \n",
    "JOIN \n",
    "    patient_reportdetail rd ON pr.id = rd.report_id\n",
    "WHERE \n",
    "    user_id = {user_id};\n",
    "'''"
   ]
  },
  {
   "cell_type": "code",
   "execution_count": 17,
   "id": "1ff95e5a-6034-4b7a-8893-a843445f7a86",
   "metadata": {},
   "outputs": [],
   "source": [
    "df=pd.read_sql_query(query,engine)"
   ]
  },
  {
   "cell_type": "code",
   "execution_count": 21,
   "id": "2ce6da30-eddf-4b7a-be0e-ced94683125e",
   "metadata": {},
   "outputs": [
    {
     "data": {
      "text/plain": [
       "{'avg_hemoglobin': 12.1,\n",
       " 'avg_rbc_count': 4.72,\n",
       " 'avg_wbc_count': 9700.0,\n",
       " 'avg_platelet_count': 219000.0,\n",
       " 'avg_pcv': 38.0,\n",
       " 'avg_bilirubin': 0.57,\n",
       " 'avg_proteins': 6.18,\n",
       " 'avg_calcium': 8.19,\n",
       " 'avg_blood_urea': 21.0,\n",
       " 'avg_sr_cholestrol': None}"
      ]
     },
     "execution_count": 21,
     "metadata": {},
     "output_type": "execute_result"
    }
   ],
   "source": [
    "df.to_dict(\"records\")[0]"
   ]
  },
  {
   "cell_type": "code",
   "execution_count": 26,
   "id": "560c0806-fb99-40b3-af40-a2d703cb9283",
   "metadata": {},
   "outputs": [
    {
     "data": {
      "text/plain": [
       "2"
      ]
     },
     "execution_count": 26,
     "metadata": {},
     "output_type": "execute_result"
    }
   ],
   "source": [
    "pd.read_sql_query(\n",
    "    '''\n",
    "    select count(*) as num_reports from patient_report\n",
    "where user_id=9;\n",
    "    ''',engine\n",
    ")['num_reports'][0]"
   ]
  },
  {
   "cell_type": "code",
   "execution_count": 38,
   "id": "39e76877-387f-4bfe-bc10-0f49e58e251e",
   "metadata": {},
   "outputs": [],
   "source": [
    "queries={\n",
    "    'health_check':'''\n",
    "    select submitted_at,hemoglobin,rbc_count,wbc_count,platelet_count,pcv,bilirubin,proteins, calcium,blood_urea,sr_cholestrol\n",
    "    from patient_report pr join patient_reportdetail rd\n",
    "    on pr.id=rd.report_id\n",
    "    where user_id={user_id};\n",
    "    ''',\n",
    "    'average_query':'''\n",
    "    SELECT \n",
    "        AVG(CASE WHEN hemoglobin <> '-1' THEN CAST(hemoglobin AS FLOAT) END) AS avg_hemoglobin,\n",
    "        AVG(CASE WHEN rbc_count <> '-1' THEN CAST(rbc_count AS FLOAT) END) AS avg_rbc_count,\n",
    "        AVG(CASE WHEN wbc_count <> '-1' THEN CAST(wbc_count AS FLOAT) END) AS avg_wbc_count,\n",
    "        AVG(CASE WHEN platelet_count <> '-1' THEN CAST(platelet_count AS FLOAT) END) AS avg_platelet_count,\n",
    "        AVG(CASE WHEN pcv <> '-1' THEN CAST(pcv AS FLOAT) END) AS avg_pcv,\n",
    "        AVG(CASE WHEN bilirubin <> '-1' THEN CAST(bilirubin AS FLOAT) END) AS avg_bilirubin,\n",
    "        AVG(CASE WHEN proteins <> '-1' THEN CAST(proteins AS FLOAT) END) AS avg_proteins,\n",
    "        AVG(CASE WHEN calcium <> '-1' THEN CAST(calcium AS FLOAT) END) AS avg_calcium,\n",
    "        AVG(CASE WHEN blood_urea <> '-1' THEN CAST(blood_urea AS FLOAT) END) AS avg_blood_urea,\n",
    "        AVG(CASE WHEN sr_cholestrol <> '-1' THEN CAST(sr_cholestrol AS FLOAT) END) AS avg_sr_cholestrol\n",
    "    FROM \n",
    "        patient_report pr \n",
    "    JOIN \n",
    "        patient_reportdetail rd ON pr.id = rd.report_id\n",
    "    WHERE \n",
    "        user_id = {user_id};\n",
    "    ''',\n",
    "    'report_count_query': '''select count(*) as num_reports from patient_report where user_id={user_id}; '''\n",
    "}\n",
    "\n",
    "\n",
    "def provide_health_check_data(user_id):\n",
    "    if pd.read_sql_query(queries['report_count_query'].format(user_id=user_id),engine)['num_reports'][0]<=3:\n",
    "        return {\"status\":False}\n",
    "    df=pd.read_sql_query(queries['health_check'].format(user_id=user_id),engine)\n",
    "    df.replace(\"-1\",None,inplace=True)\n",
    "    data=df.to_dict(\"list\")\n",
    "    avg_data=pd.read_sql_query(queries['average_query'].format(user_id=user_id),engine).to_dict(\"records\")[0]\n",
    "    return {\"status\":True,\"data\":data,\"avg_data\":avg_data}"
   ]
  },
  {
   "cell_type": "code",
   "execution_count": 39,
   "id": "2ec6e1ae-8d23-46ba-8fd9-02836f269084",
   "metadata": {},
   "outputs": [
    {
     "data": {
      "text/plain": [
       "{'status': False}"
      ]
     },
     "execution_count": 39,
     "metadata": {},
     "output_type": "execute_result"
    }
   ],
   "source": [
    "provide_health_check_data(9)"
   ]
  },
  {
   "cell_type": "code",
   "execution_count": null,
   "id": "bfecf695-e73a-424f-8ae0-a955e4ad36b3",
   "metadata": {},
   "outputs": [],
   "source": []
  }
 ],
 "metadata": {
  "kernelspec": {
   "display_name": "major",
   "language": "python",
   "name": "major"
  },
  "language_info": {
   "codemirror_mode": {
    "name": "ipython",
    "version": 3
   },
   "file_extension": ".py",
   "mimetype": "text/x-python",
   "name": "python",
   "nbconvert_exporter": "python",
   "pygments_lexer": "ipython3",
   "version": "3.11.5"
  }
 },
 "nbformat": 4,
 "nbformat_minor": 5
}
